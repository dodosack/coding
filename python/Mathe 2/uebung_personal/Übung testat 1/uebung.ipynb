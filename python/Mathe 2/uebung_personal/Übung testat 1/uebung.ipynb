{
 "cells": [
  {
   "cell_type": "code",
   "id": "initial_id",
   "metadata": {
    "collapsed": true
   },
   "source": [
    "s1= 'Otto'\n",
    "s2= 'Nabil'\n",
    "type(s1)\n",
    "#print(type(s1))\n",
    "\n",
    "\n",
    "#print(s1,      s2)"
   ],
   "outputs": [],
   "execution_count": null
  },
  {
   "metadata": {},
   "cell_type": "code",
   "source": [
    "#listen\n",
    "# []\n",
    "lit\\\n",
    "    =[5, 5, 4 ,242 , 'Aam', 32]\n",
    "lit.pop(2)\n",
    "del lit[0]\n",
    "lit.insert(0,'ADa,')\n",
    "print(lit)\n",
    "type(lit)\n",
    "len(lit)\n",
    "lit[1:4]#slicing\n",
    "\n",
    "\n",
    "lit+= [2,2,23,3]\n",
    "#lit.sort()\n",
    "print(lit)"
   ],
   "id": "2f2e1a0c7dfd2d83",
   "outputs": [],
   "execution_count": null
  },
  {
   "metadata": {},
   "cell_type": "code",
   "source": [
    "#Tulpen\n",
    "t =( 5, 6.4 , 4 , 4 ,'otto')\n",
    "type(t)\n",
    "print(t)\n",
    "print(t[-1])\n",
    "len(t)\n",
    "t.count(2)# zählt die gleichen"
   ],
   "id": "c302728d72e57144",
   "outputs": [],
   "execution_count": null
  },
  {
   "metadata": {},
   "cell_type": "code",
   "source": [
    "#sets\n",
    "s2 = { 3,3,4,5,5}\n",
    "print(s2)\n"
   ],
   "id": "779cbb3eed3f4e0c",
   "outputs": [],
   "execution_count": null
  },
  {
   "metadata": {},
   "cell_type": "code",
   "source": [
    "#dictionaries\n",
    "bibliothek= dict(name='Otto', age=23, adress='Berlin')\n",
    "type(bibliothek)\n",
    "\n",
    "bibliothek['name']\n",
    "bibliothek.values()\n",
    "'Otto' in bibliothek"
   ],
   "id": "a6e9422e61717af9",
   "outputs": [],
   "execution_count": null
  },
  {
   "metadata": {},
   "cell_type": "code",
   "source": "",
   "id": "fa7c62b2a522a644",
   "outputs": [],
   "execution_count": null
  },
  {
   "metadata": {},
   "cell_type": "code",
   "source": [
    "sss= {'Windows', 'Ubuntu', 'MacOs'}\n",
    "while sss:\n",
    "    print(sss.pop())"
   ],
   "id": "4e4a2ff2ba8534ba",
   "outputs": [],
   "execution_count": null
  },
  {
   "metadata": {},
   "cell_type": "code",
   "source": [
    "\n",
    "import  numpy as np\n",
    "print(np.__version__)"
   ],
   "id": "7c40a01971a5f2e",
   "outputs": [],
   "execution_count": null
  },
  {
   "metadata": {},
   "cell_type": "code",
   "source": "",
   "id": "59d1ab05646a94c3",
   "outputs": [],
   "execution_count": null
  },
  {
   "metadata": {},
   "cell_type": "code",
   "source": [
    "a = np.array([[8.0,6.0,4.0,4,5],\n",
    "              [1,1,2,42,1],\n",
    "              [1,2,3,4,5]])\n",
    "print(a)"
   ],
   "id": "a0b668cd0b75150f",
   "outputs": [],
   "execution_count": null
  },
  {
   "metadata": {},
   "cell_type": "code",
   "source": [
    "row1 = np.array([8.0, 6.0, 4.0, 2.0, 0.0, -2.0, -4.0, -6.0, -8.0])\n",
    "\n"
   ],
   "id": "c1592d996080ad1f",
   "outputs": [],
   "execution_count": null
  },
  {
   "metadata": {},
   "cell_type": "code",
   "source": "",
   "id": "323a1112ac3079a3",
   "outputs": [],
   "execution_count": null
  },
  {
   "metadata": {
    "ExecuteTime": {
     "end_time": "2025-04-10T07:05:24.674403Z",
     "start_time": "2025-04-10T07:05:24.147849Z"
    }
   },
   "cell_type": "code",
   "source": [
    "import matplotlib.pyplot as plt\n",
    "\n",
    "fig, ax = plt.subplots()\n",
    "\n",
    "# Koordinaten der Marker\n",
    "x = [1, 4, 4, 8, 8]\n",
    "y = [6, 4, 8, 8, 4]\n",
    "\n",
    "# Linienverbindungen (grün, gepunktet, dick)\n",
    "connections = [\n",
    "    ([1, 4], [6, 8]),   # links oben\n",
    "    ([1, 4], [6, 4]),   # links unten\n",
    "    ([4, 4], [8, 4]),   # oben - unten (Mitte)\n",
    "    ([4, 8], [8, 8]),   # oben rechts\n",
    "    ([4, 8], [4, 4]),   # unten rechts\n",
    "    ([4, 8], [8, 4]),   # Diagonale oben links → unten rechts\n",
    "    ([4, 8], [4, 8])    # Diagonale unten links → oben rechts\n",
    "]\n",
    "\n",
    "# Linien plotten\n",
    "for x_vals, y_vals in connections:\n",
    "    ax.plot(x_vals, y_vals, color='green', linestyle=':', linewidth=3)\n",
    "\n",
    "# Marker setzen (blaue Quadrate mit rotem Rand)\n",
    "ax.plot(x, y,\n",
    "        linestyle=' ',\n",
    "        marker='s',\n",
    "        markersize=15,\n",
    "        markerfacecolor='blue',\n",
    "        markeredgecolor='red',\n",
    "        markeredgewidth=2,\n",
    "        zorder=10)\n",
    "\n",
    "# Achsentitel und Beschriftung\n",
    "ax.set_title(\"My nice pyplot graphic\")\n",
    "ax.set_xlabel(\"x-axis\")\n",
    "ax.set_ylabel(\"y-axis\")\n",
    "\n",
    "# Gitter & Achsenformat\n",
    "ax.grid(True)\n",
    "ax.set_aspect('equal')\n",
    "ax.set_xlim(0, 10)\n",
    "ax.set_ylim(0, 10)\n",
    "\n",
    "plt.show()\n"
   ],
   "id": "60a88a8dc590e0a1",
   "outputs": [
    {
     "data": {
      "text/plain": [
       "<Figure size 640x480 with 1 Axes>"
      ],
      "image/png": "[encoded data removed]"
     },
     "metadata": {},
     "output_type": "display_data"
    }
   ],
   "execution_count": 1
  },
  {
   "metadata": {},
   "cell_type": "code",
   "source": "",
   "id": "ac45a9c444d2e00d",
   "outputs": [],
   "execution_count": null
  },
  {
   "metadata": {},
   "cell_type": "code",
   "source": "",
   "id": "826ed6d486218363",
   "outputs": [],
   "execution_count": null
  }
 ],
 "metadata": {
  "kernelspec": {
   "display_name": "Python 3",
   "language": "python",
   "name": "python3"
  },
  "language_info": {
   "codemirror_mode": {
    "name": "ipython",
    "version": 2
   },
   "file_extension": ".py",
   "mimetype": "text/x-python",
   "name": "python",
   "nbconvert_exporter": "python",
   "pygments_lexer": "ipython2",
   "version": "2.7.6"
  }
 },
 "nbformat": 4,
 "nbformat_minor": 5
}
