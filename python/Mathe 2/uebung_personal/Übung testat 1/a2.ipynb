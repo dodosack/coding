{
 "cells": [
  {
   "cell_type": "code",
   "id": "initial_id",
   "metadata": {
    "collapsed": true,
    "ExecuteTime": {
     "end_time": "2025-04-09T21:53:19.585306Z",
     "start_time": "2025-04-09T21:53:19.582235Z"
    }
   },
   "source": [
    "import numpy as np\n",
    "\n"
   ],
   "outputs": [],
   "execution_count": 11
  },
  {
   "metadata": {
    "ExecuteTime": {
     "end_time": "2025-04-09T21:53:19.599701Z",
     "start_time": "2025-04-09T21:53:19.596848Z"
    }
   },
   "cell_type": "code",
   "source": [
    "row1 = np.array([8.0, 6.0, 4.0, 2.0, 0.0, -2.0, -4.0, -6.0, -8.0])\n",
    "print(row1)\n"
   ],
   "id": "8c1c4fa88a7b2e14",
   "outputs": [
    {
     "name": "stdout",
     "output_type": "stream",
     "text": [
      "[ 8.  6.  4.  2.  0. -2. -4. -6. -8.]\n"
     ]
    }
   ],
   "execution_count": 12
  },
  {
   "metadata": {
    "ExecuteTime": {
     "end_time": "2025-04-09T21:53:19.610326Z",
     "start_time": "2025-04-09T21:53:19.607269Z"
    }
   },
   "cell_type": "code",
   "source": [
    "row2 = np.linspace(-16.0, 16.0, 9)\n",
    "#9 werte von -16 bis 16\n",
    "print(row2)\n"
   ],
   "id": "d696693754c090b",
   "outputs": [
    {
     "name": "stdout",
     "output_type": "stream",
     "text": [
      "[-16. -12.  -8.  -4.   0.   4.   8.  12.  16.]\n"
     ]
    }
   ],
   "execution_count": 13
  },
  {
   "metadata": {
    "ExecuteTime": {
     "end_time": "2025-04-09T21:53:19.634522Z",
     "start_time": "2025-04-09T21:53:19.631150Z"
    }
   },
   "cell_type": "code",
   "source": [
    "row3 = np.arange(-1.2, 1.3, 0.3)\n",
    "#Wichtig: np.arange() geht nie bis zur letzten Zahl, sondern nur bis kurz davor – deshalb schreiben wir 1.3, obwohl wir 1.2 als letzte Zahl wollen.\n",
    "print(row3)\n"
   ],
   "id": "bceeed13ca0d852",
   "outputs": [
    {
     "name": "stdout",
     "output_type": "stream",
     "text": [
      "[-1.2 -0.9 -0.6 -0.3  0.   0.3  0.6  0.9  1.2]\n"
     ]
    }
   ],
   "execution_count": 14
  },
  {
   "metadata": {
    "ExecuteTime": {
     "end_time": "2025-04-09T22:04:05.072576Z",
     "start_time": "2025-04-09T22:04:05.068891Z"
    }
   },
   "cell_type": "code",
   "source": [
    "print(\"Matrix A:\\n\", A)\n",
    "\n",
    "print(\"\\nMatrix B:\\n\", B)\n"
   ],
   "id": "e3bb2373605110dc",
   "outputs": [
    {
     "name": "stdout",
     "output_type": "stream",
     "text": [
      "Matrix A:\n",
      " [[  8.0   6.0   4.0   2.0   0.0  -2.0  -4.0  -6.0  -8.0]\n",
      " [-16.0 -12.0  -8.0  -4.0   0.0   4.0   8.0  12.0  16.0]\n",
      " [ -1.2  -0.9  -0.6  -0.3   0.0   0.3   0.6   0.9   1.2]]\n",
      "\n",
      "Matrix B:\n",
      " [[ 4.0  0.0 -4.0]\n",
      " [-0.6  0.0  0.6]]\n"
     ]
    }
   ],
   "execution_count": 19
  },
  {
   "metadata": {
    "ExecuteTime": {
     "end_time": "2025-04-09T21:53:19.712771Z",
     "start_time": "2025-04-09T21:53:19.708180Z"
    }
   },
   "cell_type": "code",
   "source": [
    "import numpy as np\n",
    "\n",
    "# Erste Zeile manuell mit np.array (wie vorgegeben)\n",
    "row1 = np.array([8.0, 6.0, 4.0, 2.0, 0.0, -2.0, -4.0, -6.0, -8.0])\n",
    "\n",
    "# Zweite Zeile mit np.linspace: von -16 bis 16, 9 Werte → gleichmäßige Abstände\n",
    "row2 = np.linspace(-16.0, 16.0, 9)\n",
    "\n",
    "# Dritte Zeile mit np.arange: von -1.2 bis inkl. 1.2 in Schritten von 0.3\n",
    "row3 = np.arange(-1.2, 1.3, 0.3)  # np.arange schließt das Ende nicht ein, daher bis 1.3\n",
    "\n",
    "# Matrix A zusammenbauen: jede Zeile als eigene Zeile\n",
    "A = np.array([row1, row2, row3])\n",
    "\n",
    "# Einmal kontrollieren:\n",
    "print(\"Matrix A:\")\n",
    "print(A)\n",
    "\n",
    "# Jetzt: B = 2×3 Matrix aus Zeile 1 und 3 (Index 0 und 2),\n",
    "# und den Spalten 3., 5. und 7. (Index 2, 4, 6)\n",
    "#B = A[[0, 2], [2, 4, 6]]\n",
    "\n",
    "# Aber Achtung: Das liefert flache Arrays. Für 2x3 Matrix:\n",
    "B = A[[0, 2], :][:, [2, 4, 6]]  # 🟢 Korrekte 2x3 Matrix per Slicing\n",
    "\n",
    "# Ausgabe\n",
    "print(\"\\nMatrix B:\")\n",
    "print(B)\n"
   ],
   "id": "d48e19e3592084c",
   "outputs": [
    {
     "name": "stdout",
     "output_type": "stream",
     "text": [
      "Matrix A:\n",
      "[[  8.    6.    4.    2.    0.   -2.   -4.   -6.   -8. ]\n",
      " [-16.  -12.   -8.   -4.    0.    4.    8.   12.   16. ]\n",
      " [ -1.2  -0.9  -0.6  -0.3   0.    0.3   0.6   0.9   1.2]]\n",
      "\n",
      "Matrix B:\n",
      "[[ 4.   0.  -4. ]\n",
      " [-0.6  0.   0.6]]\n"
     ]
    }
   ],
   "execution_count": 17
  },
  {
   "metadata": {
    "ExecuteTime": {
     "end_time": "2025-04-09T21:53:19.735952Z",
     "start_time": "2025-04-09T21:53:19.733946Z"
    }
   },
   "cell_type": "code",
   "source": "",
   "id": "9b7e59e866edab30",
   "outputs": [],
   "execution_count": null
  }
 ],
 "metadata": {
  "kernelspec": {
   "display_name": "Python 3",
   "language": "python",
   "name": "python3"
  },
  "language_info": {
   "codemirror_mode": {
    "name": "ipython",
    "version": 2
   },
   "file_extension": ".py",
   "mimetype": "text/x-python",
   "name": "python",
   "nbconvert_exporter": "python",
   "pygments_lexer": "ipython2",
   "version": "2.7.6"
  }
 },
 "nbformat": 4,
 "nbformat_minor": 5
}
