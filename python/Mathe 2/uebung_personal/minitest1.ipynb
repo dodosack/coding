{
 "cells": [
  {
   "cell_type": "code",
   "id": "initial_id",
   "metadata": {
    "collapsed": true,
    "ExecuteTime": {
     "end_time": "2025-04-18T16:59:47.980552Z",
     "start_time": "2025-04-18T16:59:47.973478Z"
    }
   },
   "source": [
    "# 📌 Aufgabe: y'(x) = cos(x) * e^(x*y), y(3/5) = 3/10, h = 3/10\n",
    "# Ziel: y(9/10), y(6/5) mit Euler-Verfahren\n",
    "\n",
    "import math\n",
    "\n",
    "# Funktion definieren: y' = f(x, y)\n",
    "def f(x, y):\n",
    "    return math.cos(x) * math.exp(x * y)\n",
    "\n",
    "# Schrittweite\n",
    "h = 3/10\n",
    "\n",
    "# Anfangswerte\n",
    "x0 = 3/5\n",
    "y0 = 3/10\n",
    "\n",
    "# Erster Schritt: y1 = y0 + h * f(x0, y0)\n",
    "f0 = f(x0, y0)\n",
    "y1 = y0 + h * f0\n",
    "x1 = x0 + h\n",
    "\n",
    "# Zweiter Schritt: y2 = y1 + h * f(x1, y1)\n",
    "f1 = f(x1, y1)\n",
    "y2 = y1 + h * f1\n",
    "x2 = x1 + h\n",
    "\n",
    "# Ausgabe der Ergebnisse (gerundet auf 6 Nachkommastellen)\n",
    "print(f\"y({x1:.1f}) ≈ y1 = {y1:.6f}\")\n",
    "print(f\"y({x2:.1f}) ≈ y2 = {y2:.6f}\")\n"
   ],
   "outputs": [
    {
     "name": "stdout",
     "output_type": "stream",
     "text": [
      "y(0.9) ≈ y1 = 0.596432\n",
      "y(1.2) ≈ y2 = 0.915412\n"
     ]
    }
   ],
   "execution_count": 1
  },
  {
   "metadata": {},
   "cell_type": "code",
   "outputs": [],
   "execution_count": null,
   "source": "",
   "id": "5c14d302cd202228"
  }
 ],
 "metadata": {
  "kernelspec": {
   "display_name": "Python 3",
   "language": "python",
   "name": "python3"
  },
  "language_info": {
   "codemirror_mode": {
    "name": "ipython",
    "version": 2
   },
   "file_extension": ".py",
   "mimetype": "text/x-python",
   "name": "python",
   "nbconvert_exporter": "python",
   "pygments_lexer": "ipython2",
   "version": "2.7.6"
  }
 },
 "nbformat": 4,
 "nbformat_minor": 5
}
