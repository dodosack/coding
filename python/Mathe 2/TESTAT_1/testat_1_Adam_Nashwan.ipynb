{
 "cells": [
  {
   "cell_type": "code",
   "id": "initial_id",
   "metadata": {
    "collapsed": true,
    "ExecuteTime": {
     "end_time": "2025-04-10T06:46:14.344440Z",
     "start_time": "2025-04-10T06:46:14.337605Z"
    }
   },
   "source": [
    "werte = {47, 11, 0, 8, 15}  # Werte als set\n",
    "\n",
    "werte_liste = list(werte)  # Umwandlung in Liste für Indexzugriff\n",
    "index = 0\n",
    "\n",
    "while index < len(werte_liste):\n",
    "    print(f\"{index + 1}. Wert: {werte_liste[index]}\")\n",
    "    index += 1\n"
   ],
   "outputs": [
    {
     "name": "stdout",
     "output_type": "stream",
     "text": [
      "1. Wert: 0\n",
      "2. Wert: 8\n",
      "3. Wert: 11\n",
      "4. Wert: 15\n",
      "5. Wert: 47\n"
     ]
    }
   ],
   "execution_count": 2
  },
  {
   "metadata": {},
   "cell_type": "code",
   "outputs": [],
   "execution_count": null,
   "source": "",
   "id": "bbdb7e2c555dcb06"
  }
 ],
 "metadata": {
  "kernelspec": {
   "display_name": "Python 3",
   "language": "python",
   "name": "python3"
  },
  "language_info": {
   "codemirror_mode": {
    "name": "ipython",
    "version": 2
   },
   "file_extension": ".py",
   "mimetype": "text/x-python",
   "name": "python",
   "nbconvert_exporter": "python",
   "pygments_lexer": "ipython2",
   "version": "2.7.6"
  }
 },
 "nbformat": 4,
 "nbformat_minor": 5
}
