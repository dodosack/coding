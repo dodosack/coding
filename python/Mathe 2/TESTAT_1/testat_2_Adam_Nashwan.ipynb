{
 "cells": [
  {
   "cell_type": "code",
   "id": "initial_id",
   "metadata": {
    "collapsed": true,
    "ExecuteTime": {
     "end_time": "2025-05-21T16:40:38.560738Z",
     "start_time": "2025-05-21T16:40:38.416967Z"
    }
   },
   "source": [
    "import numpy as np\n",
    "\n",
    "# Erste Zeile mit np.array()\n",
    "row1 = np.array([-1.2, -0.9, -0.6, -0.3, 0.0, 0.3, 0.6, 0.9, 1.2])\n",
    "\n",
    "# Zweite Zeile mit np.linspace()\n",
    "row2 = np.linspace(-16.0, 16.0, 9)\n",
    "\n",
    "# Dritte Zeile mit np.arange()\n",
    "row3 = np.arange(8.0, -9.0, -2.0)\n",
    "\n",
    "# Matrix A zusammensetzen\n",
    "A = np.array([row1, row2, row3])\n",
    "\n",
    "\n",
    "# Ausgabeformat anpassen\n",
    "np.set_printoptions(precision=1, suppress=True, floatmode='fixed')\n",
    "print(\"Matrix A:\")\n",
    "print(A)\n",
    "\n",
    "# Matrix B extrahieren: Zeilen 2 & 3 (Index 1, 2) und Spalten 2., 5., 8. (Index 1, 4, 7)\n",
    "\n",
    "B = A[[1, 2], :][:, [1, 4, 7]]\n",
    "\n",
    "print(\"\\nMatrix B:\")\n",
    "print(B)\n",
    "\n"
   ],
   "outputs": [
    {
     "name": "stdout",
     "output_type": "stream",
     "text": [
      "Matrix A:\n",
      "[[ -1.2  -0.9  -0.6  -0.3   0.0   0.3   0.6   0.9   1.2]\n",
      " [-16.0 -12.0  -8.0  -4.0   0.0   4.0   8.0  12.0  16.0]\n",
      " [  8.0   6.0   4.0   2.0   0.0  -2.0  -4.0  -6.0  -8.0]]\n",
      "\n",
      "Matrix B:\n",
      "[[-12.0   0.0  12.0]\n",
      " [  6.0   0.0  -6.0]]\n"
     ]
    }
   ],
   "execution_count": 1
  },
  {
   "metadata": {
    "ExecuteTime": {
     "end_time": "2025-05-21T16:40:38.669193Z",
     "start_time": "2025-05-21T16:40:38.666542Z"
    }
   },
   "cell_type": "code",
   "source": [
    "\n",
    "\n"
   ],
   "id": "8dc56e7d368f1999",
   "outputs": [],
   "execution_count": 1
  }
 ],
 "metadata": {
  "kernelspec": {
   "display_name": "Python 3",
   "language": "python",
   "name": "python3"
  },
  "language_info": {
   "codemirror_mode": {
    "name": "ipython",
    "version": 2
   },
   "file_extension": ".py",
   "mimetype": "text/x-python",
   "name": "python",
   "nbconvert_exporter": "python",
   "pygments_lexer": "ipython2",
   "version": "2.7.6"
  }
 },
 "nbformat": 4,
 "nbformat_minor": 5
}
