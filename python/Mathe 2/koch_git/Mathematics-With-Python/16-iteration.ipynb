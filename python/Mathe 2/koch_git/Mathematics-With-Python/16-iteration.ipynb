{
 "cells": [
  {
   "cell_type": "markdown",
   "metadata": {},
   "source": [
    "<img src=\"images/00-mathematics_with_python.png\" style=\"height:250px\" align=\"left\"> "
   ]
  },
  {
   "cell_type": "markdown",
   "metadata": {},
   "source": [
    "<!--NAVIGATION-->\n",
    "|  [5 Branching](15-branching.ipynb) | [II Python Packages](20-python_packages.ipynb) >"
   ]
  },
  {
   "cell_type": "markdown",
   "metadata": {},
   "source": [
    "# 6 Iterations\n",
    "An iteration is used to execute a block of statements repeatedly.\n",
    "A typical situation consists of picking out all elements of a tuple, list or set. \n",
    "\n",
    "## 6.1 For"
   ]
  },
  {
   "cell_type": "code",
   "metadata": {
    "ExecuteTime": {
     "end_time": "2025-04-03T07:03:21.092543Z",
     "start_time": "2025-04-03T07:03:21.086353Z"
    }
   },
   "source": [
    "for x in (0,8,15):\n",
    "    print(x)"
   ],
   "outputs": [
    {
     "name": "stdout",
     "output_type": "stream",
     "text": [
      "0\n",
      "8\n",
      "15\n"
     ]
    }
   ],
   "execution_count": 1
  },
  {
   "cell_type": "markdown",
   "metadata": {},
   "source": [
    "In the context of `for` loops a `range`is often used.   "
   ]
  },
  {
   "cell_type": "code",
   "metadata": {
    "ExecuteTime": {
     "end_time": "2025-04-03T07:03:21.171967Z",
     "start_time": "2025-04-03T07:03:21.167030Z"
    }
   },
   "source": [
    "start = 2\n",
    "stop = 8\n",
    "step = 3\n",
    "for x in range(start,stop+1,step):\n",
    "    print(x)"
   ],
   "outputs": [
    {
     "name": "stdout",
     "output_type": "stream",
     "text": [
      "2\n",
      "5\n",
      "8\n"
     ]
    }
   ],
   "execution_count": 2
  },
  {
   "cell_type": "markdown",
   "metadata": {},
   "source": [
    "## 6.2 While"
   ]
  },
  {
   "cell_type": "code",
   "metadata": {
    "ExecuteTime": {
     "end_time": "2025-04-03T07:03:21.317493Z",
     "start_time": "2025-04-03T07:03:21.312398Z"
    }
   },
   "source": [
    "fruits = {'orange','lemon','banana'}\n",
    "while fruits:\n",
    "    print(fruits.pop())"
   ],
   "outputs": [
    {
     "name": "stdout",
     "output_type": "stream",
     "text": [
      "lemon\n",
      "orange\n",
      "banana\n"
     ]
    }
   ],
   "execution_count": 3
  },
  {
   "cell_type": "markdown",
   "metadata": {},
   "source": [
    "A `for` or `while` loop may be interupted immediatly by `break`."
   ]
  },
  {
   "cell_type": "code",
   "metadata": {
    "ExecuteTime": {
     "end_time": "2025-04-03T07:03:21.334313Z",
     "start_time": "2025-04-03T07:03:21.331800Z"
    }
   },
   "source": [
    "fruits = {'apple','ananas','strawberry'}\n",
    "while True:\n",
    "    if fruits:\n",
    "        print(fruits.pop())\n",
    "    else:\n",
    "        print('no more fruits left!')\n",
    "        break"
   ],
   "outputs": [
    {
     "name": "stdout",
     "output_type": "stream",
     "text": [
      "strawberry\n",
      "ananas\n",
      "apple\n",
      "no more fruits left!\n"
     ]
    }
   ],
   "execution_count": 4
  },
  {
   "cell_type": "code",
   "metadata": {
    "ExecuteTime": {
     "end_time": "2025-04-03T07:03:21.350613Z",
     "start_time": "2025-04-03T07:03:21.348505Z"
    }
   },
   "source": [],
   "outputs": [],
   "execution_count": null
  }
 ],
 "metadata": {
  "kernelspec": {
   "display_name": "Python 3 (ipykernel)",
   "language": "python",
   "name": "python3"
  },
  "language_info": {
   "codemirror_mode": {
    "name": "ipython",
    "version": 3
   },
   "file_extension": ".py",
   "mimetype": "text/x-python",
   "name": "python",
   "nbconvert_exporter": "python",
   "pygments_lexer": "ipython3",
   "version": "3.9.7"
  },
  "toc": {
   "base_numbering": 1,
   "nav_menu": {},
   "number_sections": true,
   "sideBar": true,
   "skip_h1_title": false,
   "title_cell": "Table of Contents",
   "title_sidebar": "Contents",
   "toc_cell": false,
   "toc_position": {},
   "toc_section_display": true,
   "toc_window_display": false
  }
 },
 "nbformat": 4,
 "nbformat_minor": 4
}
