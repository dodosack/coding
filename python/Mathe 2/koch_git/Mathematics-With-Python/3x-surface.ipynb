{
 "cells": [
  {
   "cell_type": "markdown",
   "id": "7b029723",
   "metadata": {},
   "source": [
    "<img src=\"images/00-mathematics_with_python.png\" style=\"height:250px\" align=\"left\">"
   ]
  },
  {
   "cell_type": "markdown",
   "id": "8761b019",
   "metadata": {},
   "source": [
    "<!--NAVIGATION-->\n",
    "< [3.x](3x.ipynb) | [3.x](3x.ipynb) >"
   ]
  },
  {
   "cell_type": "markdown",
   "id": "93ad8bc6",
   "metadata": {},
   "source": [
    "# 3.x Surfaces"
   ]
  },
  {
   "cell_type": "code",
   "execution_count": null,
   "id": "1dc485f3",
   "metadata": {},
   "outputs": [],
   "source": [
    "import numpy as np\n",
    "import matplotlib.pyplot as plt\n",
    "from mpl_toolkits.mplot3d import Axes3D"
   ]
  },
  {
   "cell_type": "code",
   "execution_count": null,
   "id": "89fa4a32",
   "metadata": {},
   "outputs": [],
   "source": [
    "x = np.linspace(-10.0,10.0,100)\n",
    "y = np.linspace(-10.0,10.0,100)\n",
    "X, Y = np.meshgrid(x,y)\n",
    "#print('X = ',X)\n",
    "#print('Y = ',Y)"
   ]
  }
 ],
 "metadata": {
  "kernelspec": {
   "display_name": "Python 3 (ipykernel)",
   "language": "python",
   "name": "python3"
  },
  "language_info": {
   "codemirror_mode": {
    "name": "ipython",
    "version": 3
   },
   "file_extension": ".py",
   "mimetype": "text/x-python",
   "name": "python",
   "nbconvert_exporter": "python",
   "pygments_lexer": "ipython3",
   "version": "3.9.7"
  }
 },
 "nbformat": 4,
 "nbformat_minor": 5
}
