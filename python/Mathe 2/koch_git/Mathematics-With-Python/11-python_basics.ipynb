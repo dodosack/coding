{
 "cells": [
  {
   "cell_type": "markdown",
   "metadata": {},
   "source": [
    "<img src=\"images/00-mathematics_with_python.png\" style=\"height:250px\" align=\"left\"> "
   ]
  },
  {
   "cell_type": "markdown",
   "metadata": {},
   "source": [
    "<!--NAVIGATION-->\n",
    "| [I Introduction to Python](10-introduction_to_python.ipynb) |  [2 Basic Data Types](12-basic_data_types.ipynb) >"
   ]
  },
  {
   "cell_type": "markdown",
   "metadata": {},
   "source": [
    "# 1 Python Basics\n",
    "## 1.1 Python as a calculator\n",
    "Jupyter notebooks offer different types of cells.\n",
    "Markdown cells are used for text.\n",
    "In a code cell program statements may be executed.\n",
    "Similar to a calculator, the result of the calculation is displayed immediately."
   ]
  },
  {
   "cell_type": "code",
   "metadata": {
    "ExecuteTime": {
     "end_time": "2025-04-03T06:19:12.052921Z",
     "start_time": "2025-04-03T06:19:12.047991Z"
    }
   },
   "source": [
    "3+2"
   ],
   "outputs": [
    {
     "data": {
      "text/plain": [
       "5"
      ]
     },
     "execution_count": 18,
     "metadata": {},
     "output_type": "execute_result"
    }
   ],
   "execution_count": 18
  },
  {
   "cell_type": "markdown",
   "metadata": {},
   "source": [
    "If the result of a calculation is assigned to a variable, no output appears."
   ]
  },
  {
   "cell_type": "code",
   "metadata": {
    "ExecuteTime": {
     "end_time": "2025-04-03T06:19:12.151174Z",
     "start_time": "2025-04-03T06:19:12.148344Z"
    }
   },
   "source": [
    "x=3+2"
   ],
   "outputs": [],
   "execution_count": 19
  },
  {
   "cell_type": "markdown",
   "metadata": {},
   "source": [
    "The value of a variable can be output using the [print()](https://docs.python.org/3/library/functions.html#print) function."
   ]
  },
  {
   "cell_type": "code",
   "metadata": {
    "ExecuteTime": {
     "end_time": "2025-04-03T06:19:12.178256Z",
     "start_time": "2025-04-03T06:19:12.174614Z"
    }
   },
   "source": [
    "print(x)"
   ],
   "outputs": [
    {
     "name": "stdout",
     "output_type": "stream",
     "text": [
      "5\n"
     ]
    }
   ],
   "execution_count": 20
  },
  {
   "cell_type": "markdown",
   "metadata": {},
   "source": [
    "Variables can be used in other code cells."
   ]
  },
  {
   "cell_type": "code",
   "metadata": {
    "ExecuteTime": {
     "end_time": "2025-04-03T06:19:12.273889Z",
     "start_time": "2025-04-03T06:19:12.267369Z"
    }
   },
   "source": [
    "x+4"
   ],
   "outputs": [
    {
     "data": {
      "text/plain": [
       "9"
      ]
     },
     "execution_count": 21,
     "metadata": {},
     "output_type": "execute_result"
    }
   ],
   "execution_count": 21
  },
  {
   "cell_type": "markdown",
   "metadata": {},
   "source": [
    "## 1.2 Mathematical operators\n",
    "There are five elementary mathematical operators in Python.\n",
    "Each operator can be combined with the equal sign.\n",
    "\n",
    "$\n",
    "\\begin{array}{|l|l|l|l|l|}\n",
    "\\hline\n",
    "\\mbox{addition} & \\mbox{subtraction} & \\mbox{multiplication} & \\mbox{division} & \\mbox{power} \\\\\n",
    "\\hline\n",
    "+ & - & * & / & ** \\\\\n",
    "\\hline\n",
    "+= & -= & *= & /= & **= \\\\\n",
    "\\hline\n",
    "\\end{array}\n",
    "$"
   ]
  },
  {
   "cell_type": "code",
   "metadata": {
    "ExecuteTime": {
     "end_time": "2025-04-03T06:19:12.342181Z",
     "start_time": "2025-04-03T06:19:12.338576Z"
    }
   },
   "source": [
    "x*=2\n",
    "print(x)"
   ],
   "outputs": [
    {
     "name": "stdout",
     "output_type": "stream",
     "text": [
      "10\n"
     ]
    }
   ],
   "execution_count": 22
  },
  {
   "cell_type": "markdown",
   "metadata": {},
   "source": [
    "\n",
    "\n"
   ]
  },
  {
   "cell_type": "code",
   "metadata": {
    "ExecuteTime": {
     "end_time": "2025-04-03T06:19:12.396198Z",
     "start_time": "2025-04-03T06:19:12.393641Z"
    }
   },
   "source": [],
   "outputs": [],
   "execution_count": null
  }
 ],
 "metadata": {
  "kernelspec": {
   "display_name": "Python 3 (ipykernel)",
   "language": "python",
   "name": "python3"
  },
  "language_info": {
   "codemirror_mode": {
    "name": "ipython",
    "version": 3
   },
   "file_extension": ".py",
   "mimetype": "text/x-python",
   "name": "python",
   "nbconvert_exporter": "python",
   "pygments_lexer": "ipython3",
   "version": "3.9.7"
  },
  "toc": {
   "base_numbering": 1,
   "nav_menu": {},
   "number_sections": true,
   "sideBar": true,
   "skip_h1_title": false,
   "title_cell": "Table of Contents",
   "title_sidebar": "Contents",
   "toc_cell": false,
   "toc_position": {},
   "toc_section_display": true,
   "toc_window_display": false
  }
 },
 "nbformat": 4,
 "nbformat_minor": 4
}
