{
 "cells": [
  {
   "cell_type": "markdown",
   "metadata": {},
   "source": [
    "<img src=\"images/00-mathematics_with_python.png\" style=\"height:250px\" align=\"left\"> "
   ]
  },
  {
   "cell_type": "markdown",
   "metadata": {},
   "source": [
    "<!--NAVIGATION-->\n",
    "| [2 Basic Data Types](12-basic_data_types.ipynb) | [4 Functions](14-functions.ipynb) >"
   ]
  },
  {
   "cell_type": "markdown",
   "metadata": {},
   "source": [
    "# 3 Basic Data Structures\n",
    "The basic data structures in Python include `tuples`, `list`, `set` and `dict`.\n",
    "Each of the data structures is unique in its own way.\n",
    "Data structures are containers that organize and group data.\n",
    "## 3.1 Tuple\n",
    "A tuple is a ordered collection of objects.\n",
    "Because the number of elements in a tuple usually does not change a tuple is said to be an immutable data structure.\n",
    "### 3.1.1 Creating\n",
    "Creating a tuple is as simple as putting different comma-separated values."
   ]
  },
  {
   "cell_type": "code",
   "metadata": {
    "ExecuteTime": {
     "end_time": "2025-04-10T05:46:48.625191Z",
     "start_time": "2025-04-10T05:46:48.620551Z"
    }
   },
   "source": [
    "t = 5,6,5.0,'Otto',7,5\n",
    "print(t)"
   ],
   "outputs": [
    {
     "name": "stdout",
     "output_type": "stream",
     "text": [
      "(5, 6, 5.0, 'Otto', 7, 5)\n"
     ]
    }
   ],
   "execution_count": 1
  },
  {
   "cell_type": "code",
   "metadata": {
    "ExecuteTime": {
     "end_time": "2025-04-10T05:46:48.682003Z",
     "start_time": "2025-04-10T05:46:48.676218Z"
    }
   },
   "source": [
    "type(t)"
   ],
   "outputs": [
    {
     "data": {
      "text/plain": [
       "tuple"
      ]
     },
     "execution_count": 2,
     "metadata": {},
     "output_type": "execute_result"
    }
   ],
   "execution_count": 2
  },
  {
   "cell_type": "markdown",
   "metadata": {},
   "source": [
    "Optionally you can put these comma-separated values between parentheses. "
   ]
  },
  {
   "cell_type": "code",
   "metadata": {
    "ExecuteTime": {
     "end_time": "2025-04-10T05:46:49.211049Z",
     "start_time": "2025-04-10T05:46:49.206039Z"
    }
   },
   "source": [
    "t = (5,6,5.0,'Otto',7,5)\n",
    "print(t)\n",
    "t[0]"
   ],
   "outputs": [
    {
     "name": "stdout",
     "output_type": "stream",
     "text": [
      "(5, 6, 5.0, 'Otto', 7, 5)\n"
     ]
    },
    {
     "data": {
      "text/plain": [
       "5"
      ]
     },
     "execution_count": 3,
     "metadata": {},
     "output_type": "execute_result"
    }
   ],
   "execution_count": 3
  },
  {
   "cell_type": "markdown",
   "metadata": {},
   "source": [
    "### 3.1.2 Length\n",
    "The length of a tuple corresponds to the number of Elements. "
   ]
  },
  {
   "cell_type": "code",
   "metadata": {
    "ExecuteTime": {
     "end_time": "2025-04-10T05:46:49.247090Z",
     "start_time": "2025-04-10T05:46:49.242999Z"
    }
   },
   "source": [
    "len(t)"
   ],
   "outputs": [
    {
     "data": {
      "text/plain": [
       "6"
      ]
     },
     "execution_count": 4,
     "metadata": {},
     "output_type": "execute_result"
    }
   ],
   "execution_count": 4
  },
  {
   "cell_type": "markdown",
   "metadata": {},
   "source": [
    "### 3.1.3 Indexing\n",
    "Each element of a tuple is assigned a number.\n",
    "The first index is zero, the second index is one, and so forth."
   ]
  },
  {
   "cell_type": "code",
   "metadata": {
    "ExecuteTime": {
     "end_time": "2025-04-10T05:46:49.389789Z",
     "start_time": "2025-04-10T05:46:49.385461Z"
    }
   },
   "source": [
    "t[0]"
   ],
   "outputs": [
    {
     "data": {
      "text/plain": [
       "5"
      ]
     },
     "execution_count": 5,
     "metadata": {},
     "output_type": "execute_result"
    }
   ],
   "execution_count": 5
  },
  {
   "cell_type": "markdown",
   "metadata": {},
   "source": [
    "Counting from the end backward with negative indices works too."
   ]
  },
  {
   "cell_type": "code",
   "metadata": {
    "ExecuteTime": {
     "end_time": "2025-04-10T05:46:49.465980Z",
     "start_time": "2025-04-10T05:46:49.460978Z"
    }
   },
   "source": [
    "t[-2]"
   ],
   "outputs": [
    {
     "data": {
      "text/plain": [
       "7"
      ]
     },
     "execution_count": 6,
     "metadata": {},
     "output_type": "execute_result"
    }
   ],
   "execution_count": 6
  },
  {
   "cell_type": "markdown",
   "metadata": {},
   "source": [
    "### 3.1.4 Slicing\n",
    "Slicing is the extraction of a part of a tuple.\n",
    "It enables users to access the specific range of elements by mentioning their indices.\n",
    "\n",
    "`[start:end]`\n",
    "\n",
    "Slicing works in the same way with strings and lists. "
   ]
  },
  {
   "cell_type": "code",
   "metadata": {
    "ExecuteTime": {
     "end_time": "2025-04-10T05:46:49.504261Z",
     "start_time": "2025-04-10T05:46:49.499654Z"
    }
   },
   "source": [
    "t[1:4]"
   ],
   "outputs": [
    {
     "data": {
      "text/plain": [
       "(6, 5.0, 'Otto')"
      ]
     },
     "execution_count": 7,
     "metadata": {},
     "output_type": "execute_result"
    }
   ],
   "execution_count": 7
  },
  {
   "cell_type": "markdown",
   "metadata": {},
   "source": [
    "Note: t[4] is not included!"
   ]
  },
  {
   "cell_type": "markdown",
   "metadata": {},
   "source": [
    "### 3.1.5 Comparison\n",
    "Finding the amount of equal elements. "
   ]
  },
  {
   "cell_type": "code",
   "metadata": {
    "ExecuteTime": {
     "end_time": "2025-04-10T05:46:49.546616Z",
     "start_time": "2025-04-10T05:46:49.541748Z"
    }
   },
   "source": "t.count(5)",
   "outputs": [
    {
     "data": {
      "text/plain": [
       "3"
      ]
     },
     "execution_count": 8,
     "metadata": {},
     "output_type": "execute_result"
    }
   ],
   "execution_count": 8
  },
  {
   "cell_type": "markdown",
   "metadata": {},
   "source": [
    "Note: It doesn't matter that the elements have differnent basic data types."
   ]
  },
  {
   "cell_type": "markdown",
   "metadata": {},
   "source": [
    "## 3.2 List\n",
    "Compared to a tuple, a list has the advantage that elements of a list can be easily removed or added to.\n",
    "### 3.2.1 Creating\n",
    "A list is created from comma-separated values between square brackets."
   ]
  },
  {
   "cell_type": "code",
   "metadata": {
    "ExecuteTime": {
     "end_time": "2025-04-10T05:46:49.586496Z",
     "start_time": "2025-04-10T05:46:49.582597Z"
    }
   },
   "source": [
    "l = [5,6,5,7,5]\n",
    "print(l)"
   ],
   "outputs": [
    {
     "name": "stdout",
     "output_type": "stream",
     "text": [
      "[5, 6, 5, 7, 5]\n"
     ]
    }
   ],
   "execution_count": 9
  },
  {
   "cell_type": "code",
   "metadata": {
    "ExecuteTime": {
     "end_time": "2025-04-10T05:46:49.626520Z",
     "start_time": "2025-04-10T05:46:49.621718Z"
    }
   },
   "source": [
    "type(l)"
   ],
   "outputs": [
    {
     "data": {
      "text/plain": [
       "list"
      ]
     },
     "execution_count": 10,
     "metadata": {},
     "output_type": "execute_result"
    }
   ],
   "execution_count": 10
  },
  {
   "cell_type": "markdown",
   "metadata": {},
   "source": [
    "Length, indexing, slicing and comparison for lists and tuples are similar.\n",
    "### 3.2.2 Deleting elements\n",
    "Deleting last list item."
   ]
  },
  {
   "cell_type": "code",
   "metadata": {
    "ExecuteTime": {
     "end_time": "2025-04-10T05:46:49.696440Z",
     "start_time": "2025-04-10T05:46:49.692393Z"
    }
   },
   "source": [
    "print(l)\n",
    "l.pop()\n",
    "print(l)"
   ],
   "outputs": [
    {
     "name": "stdout",
     "output_type": "stream",
     "text": [
      "[5, 6, 5, 7, 5]\n",
      "[5, 6, 5, 7]\n"
     ]
    }
   ],
   "execution_count": 11
  },
  {
   "cell_type": "markdown",
   "metadata": {},
   "source": [
    "Deleting a list item at a specific index."
   ]
  },
  {
   "cell_type": "code",
   "metadata": {
    "ExecuteTime": {
     "end_time": "2025-04-10T05:46:49.768179Z",
     "start_time": "2025-04-10T05:46:49.765367Z"
    }
   },
   "source": [
    "del l[3]\n",
    "\n",
    "\n",
    "print(l)"
   ],
   "outputs": [
    {
     "name": "stdout",
     "output_type": "stream",
     "text": [
      "[5, 6, 5]\n"
     ]
    }
   ],
   "execution_count": 12
  },
  {
   "cell_type": "markdown",
   "metadata": {},
   "source": [
    "Deleting a list item with a specific value."
   ]
  },
  {
   "cell_type": "code",
   "metadata": {
    "ExecuteTime": {
     "end_time": "2025-04-10T05:46:49.817031Z",
     "start_time": "2025-04-10T05:46:49.813907Z"
    }
   },
   "source": [
    "l.remove(6)\n",
    "print(l)"
   ],
   "outputs": [
    {
     "name": "stdout",
     "output_type": "stream",
     "text": [
      "[5, 5]\n"
     ]
    }
   ],
   "execution_count": 13
  },
  {
   "cell_type": "markdown",
   "metadata": {},
   "source": [
    "### 3.2.3 Adding elements\n",
    "Inserting a list item at a specific index."
   ]
  },
  {
   "cell_type": "code",
   "metadata": {
    "ExecuteTime": {
     "end_time": "2025-04-10T05:46:49.852501Z",
     "start_time": "2025-04-10T05:46:49.848827Z"
    }
   },
   "source": [
    "print(l)\n",
    "l.insert(1,6)\n",
    "print(l)"
   ],
   "outputs": [
    {
     "name": "stdout",
     "output_type": "stream",
     "text": [
      "[5, 5]\n",
      "[5, 6, 5]\n"
     ]
    }
   ],
   "execution_count": 14
  },
  {
   "cell_type": "markdown",
   "metadata": {},
   "source": [
    "### 3.2.4 Concatenation\n",
    "Concatenating means obtaining a new list that contains both of the original lists. "
   ]
  },
  {
   "cell_type": "code",
   "metadata": {
    "ExecuteTime": {
     "end_time": "2025-04-10T05:46:49.910392Z",
     "start_time": "2025-04-10T05:46:49.907788Z"
    }
   },
   "source": [
    "l += [1,2,3]\n",
    "print(l)"
   ],
   "outputs": [
    {
     "name": "stdout",
     "output_type": "stream",
     "text": [
      "[5, 6, 5, 1, 2, 3]\n"
     ]
    }
   ],
   "execution_count": 15
  },
  {
   "cell_type": "markdown",
   "metadata": {},
   "source": [
    "The * operator can also be used to repeat elements of a list. When we multiply a list with any number using the * operator, it repeats the elements of the given list."
   ]
  },
  {
   "cell_type": "code",
   "metadata": {
    "ExecuteTime": {
     "end_time": "2025-04-10T05:46:50.038210Z",
     "start_time": "2025-04-10T05:46:50.034249Z"
    }
   },
   "source": [
    "l*3 "
   ],
   "outputs": [
    {
     "data": {
      "text/plain": [
       "[5, 6, 5, 1, 2, 3, 5, 6, 5, 1, 2, 3, 5, 6, 5, 1, 2, 3]"
      ]
     },
     "execution_count": 16,
     "metadata": {},
     "output_type": "execute_result"
    }
   ],
   "execution_count": 16
  },
  {
   "cell_type": "markdown",
   "metadata": {},
   "source": [
    "### 3.2.4 Sorting\n",
    "Sorting changes the original list."
   ]
  },
  {
   "cell_type": "code",
   "metadata": {
    "ExecuteTime": {
     "end_time": "2025-04-10T05:46:50.073862Z",
     "start_time": "2025-04-10T05:46:50.071310Z"
    }
   },
   "source": [
    "l.sort()\n",
    "print(l)"
   ],
   "outputs": [
    {
     "name": "stdout",
     "output_type": "stream",
     "text": [
      "[1, 2, 3, 5, 5, 6]\n"
     ]
    }
   ],
   "execution_count": 17
  },
  {
   "cell_type": "markdown",
   "metadata": {},
   "source": [
    "## 3.3 Set\n",
    "An easy way to generate a set ist to use curly braces and add objects individually."
   ]
  },
  {
   "cell_type": "code",
   "metadata": {
    "ExecuteTime": {
     "end_time": "2025-04-10T05:46:50.150218Z",
     "start_time": "2025-04-10T05:46:50.147491Z"
    }
   },
   "source": [
    "s = {5,6,5,7,5}\n",
    "print(s)"
   ],
   "outputs": [
    {
     "name": "stdout",
     "output_type": "stream",
     "text": [
      "{5, 6, 7}\n"
     ]
    }
   ],
   "execution_count": 18
  },
  {
   "cell_type": "code",
   "metadata": {
    "ExecuteTime": {
     "end_time": "2025-04-10T05:46:50.246184Z",
     "start_time": "2025-04-10T05:46:50.242422Z"
    }
   },
   "source": [
    "type(s)"
   ],
   "outputs": [
    {
     "data": {
      "text/plain": [
       "set"
      ]
     },
     "execution_count": 19,
     "metadata": {},
     "output_type": "execute_result"
    }
   ],
   "execution_count": 19
  },
  {
   "cell_type": "markdown",
   "metadata": {},
   "source": [
    "Note: A set doesn't have duplicated elements."
   ]
  },
  {
   "cell_type": "markdown",
   "metadata": {},
   "source": [
    "## 3.4 Dictionary\n",
    "Dictionaries are used to store data values in key:value pairs.\n",
    "A dictionary is a collection which do not allow duplicates."
   ]
  },
  {
   "cell_type": "code",
   "metadata": {
    "ExecuteTime": {
     "end_time": "2025-04-10T05:46:50.344532Z",
     "start_time": "2025-04-10T05:46:50.341356Z"
    }
   },
   "source": [
    "students = dict({784711:'Max Mustermann',780815:'Erika Musterfrau'})\n",
    "print(students)"
   ],
   "outputs": [
    {
     "name": "stdout",
     "output_type": "stream",
     "text": [
      "{784711: 'Max Mustermann', 780815: 'Erika Musterfrau'}\n"
     ]
    }
   ],
   "execution_count": 20
  },
  {
   "cell_type": "code",
   "metadata": {
    "ExecuteTime": {
     "end_time": "2025-04-10T05:46:50.398266Z",
     "start_time": "2025-04-10T05:46:50.393303Z"
    }
   },
   "source": [
    "type(students)"
   ],
   "outputs": [
    {
     "data": {
      "text/plain": [
       "dict"
      ]
     },
     "execution_count": 21,
     "metadata": {},
     "output_type": "execute_result"
    }
   ],
   "execution_count": 21
  },
  {
   "cell_type": "markdown",
   "metadata": {},
   "source": [
    "Number of pairs."
   ]
  },
  {
   "cell_type": "code",
   "metadata": {
    "ExecuteTime": {
     "end_time": "2025-04-10T05:46:50.467678Z",
     "start_time": "2025-04-10T05:46:50.463729Z"
    }
   },
   "source": [
    "len(students)"
   ],
   "outputs": [
    {
     "data": {
      "text/plain": [
       "2"
      ]
     },
     "execution_count": 22,
     "metadata": {},
     "output_type": "execute_result"
    }
   ],
   "execution_count": 22
  },
  {
   "cell_type": "markdown",
   "metadata": {},
   "source": [
    "Seperate keys and values."
   ]
  },
  {
   "cell_type": "code",
   "metadata": {
    "ExecuteTime": {
     "end_time": "2025-04-10T05:46:50.519075Z",
     "start_time": "2025-04-10T05:46:50.514428Z"
    }
   },
   "source": [
    "students.keys()"
   ],
   "outputs": [
    {
     "data": {
      "text/plain": [
       "dict_keys([784711, 780815])"
      ]
     },
     "execution_count": 23,
     "metadata": {},
     "output_type": "execute_result"
    }
   ],
   "execution_count": 23
  },
  {
   "cell_type": "code",
   "metadata": {
    "ExecuteTime": {
     "end_time": "2025-04-10T05:46:50.571037Z",
     "start_time": "2025-04-10T05:46:50.566057Z"
    }
   },
   "source": [
    "students.values()"
   ],
   "outputs": [
    {
     "data": {
      "text/plain": [
       "dict_values(['Max Mustermann', 'Erika Musterfrau'])"
      ]
     },
     "execution_count": 24,
     "metadata": {},
     "output_type": "execute_result"
    }
   ],
   "execution_count": 24
  },
  {
   "cell_type": "markdown",
   "metadata": {},
   "source": [
    "Get the value of a key."
   ]
  },
  {
   "cell_type": "code",
   "metadata": {
    "ExecuteTime": {
     "end_time": "2025-04-10T05:46:50.619855Z",
     "start_time": "2025-04-10T05:46:50.615409Z"
    }
   },
   "source": [
    "students[784711]"
   ],
   "outputs": [
    {
     "data": {
      "text/plain": [
       "'Max Mustermann'"
      ]
     },
     "execution_count": 25,
     "metadata": {},
     "output_type": "execute_result"
    }
   ],
   "execution_count": 25
  },
  {
   "cell_type": "markdown",
   "metadata": {},
   "source": [
    "Check for a key."
   ]
  },
  {
   "cell_type": "code",
   "metadata": {
    "ExecuteTime": {
     "end_time": "2025-04-10T05:46:50.667519Z",
     "start_time": "2025-04-10T05:46:50.662990Z"
    }
   },
   "source": [
    "784711 in students"
   ],
   "outputs": [
    {
     "data": {
      "text/plain": [
       "True"
      ]
     },
     "execution_count": 26,
     "metadata": {},
     "output_type": "execute_result"
    }
   ],
   "execution_count": 26
  },
  {
   "cell_type": "code",
   "metadata": {
    "ExecuteTime": {
     "end_time": "2025-04-10T05:46:50.719937Z",
     "start_time": "2025-04-10T05:46:50.715234Z"
    }
   },
   "source": [
    "784712 in students"
   ],
   "outputs": [
    {
     "data": {
      "text/plain": [
       "False"
      ]
     },
     "execution_count": 27,
     "metadata": {},
     "output_type": "execute_result"
    }
   ],
   "execution_count": 27
  },
  {
   "cell_type": "code",
   "metadata": {
    "ExecuteTime": {
     "end_time": "2025-04-10T05:46:50.762298Z",
     "start_time": "2025-04-10T05:46:50.759523Z"
    }
   },
   "source": [],
   "outputs": [],
   "execution_count": null
  }
 ],
 "metadata": {
  "kernelspec": {
   "display_name": "Python 3 (ipykernel)",
   "language": "python",
   "name": "python3"
  },
  "language_info": {
   "codemirror_mode": {
    "name": "ipython",
    "version": 3
   },
   "file_extension": ".py",
   "mimetype": "text/x-python",
   "name": "python",
   "nbconvert_exporter": "python",
   "pygments_lexer": "ipython3",
   "version": "3.9.7"
  },
  "toc": {
   "base_numbering": 1,
   "nav_menu": {},
   "number_sections": true,
   "sideBar": true,
   "skip_h1_title": false,
   "title_cell": "Table of Contents",
   "title_sidebar": "Contents",
   "toc_cell": false,
   "toc_position": {},
   "toc_section_display": true,
   "toc_window_display": false
  }
 },
 "nbformat": 4,
 "nbformat_minor": 4
}
