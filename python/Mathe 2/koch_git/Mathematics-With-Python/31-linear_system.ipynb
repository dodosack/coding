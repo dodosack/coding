{
 "cells": [
  {
   "cell_type": "markdown",
   "metadata": {
    "toc": true
   },
   "source": [
    "<h1>Linear system<span class=\"tocSkip\"></span></h1>\n",
    "<div class=\"toc\"><ul class=\"toc-item\"><li><span><a href=\"#What-is-a-linear-system?\" data-toc-modified-id=\"What-is-a-linear-system?-1\"><span class=\"toc-item-num\">1&nbsp;&nbsp;</span>What is a linear system?</a></span></li><li><span><a href=\"#How-to-represent-a-linear-system?\" data-toc-modified-id=\"How-to-represent-a-linear-system?-2\"><span class=\"toc-item-num\">2&nbsp;&nbsp;</span>How to represent a linear system?</a></span></li><li><span><a href=\"#How-to-solve-a-linear-system-in-Python?\" data-toc-modified-id=\"How-to-solve-a-linear-system-in-Python?-3\"><span class=\"toc-item-num\">3&nbsp;&nbsp;</span>How to solve a linear system in Python?</a></span></li><li><span><a href=\"#What-about-the-inverse-matrix?\" data-toc-modified-id=\"What-about-the-inverse-matrix?-4\"><span class=\"toc-item-num\">4&nbsp;&nbsp;</span>What about the inverse matrix?</a></span></li><li><span><a href=\"#What-are-the-limitations?\" data-toc-modified-id=\"What-are-the-limitations?-5\"><span class=\"toc-item-num\">5&nbsp;&nbsp;</span>What are the limitations?</a></span></li></ul></div>"
   ]
  },
  {
   "cell_type": "markdown",
   "metadata": {
    "heading_collapsed": true
   },
   "source": [
    "# What should I know before I start?\n",
    " - How to bulid a vector and a matrix with `np.array()`."
   ]
  },
  {
   "cell_type": "markdown",
   "metadata": {},
   "source": [
    "# Linear System"
   ]
  },
  {
   "cell_type": "markdown",
   "metadata": {},
   "source": [
    "## What is a linear system?\n",
    "The goal of solving a system of linear equations is to find the values of the unknown variables. Here is an example with two variables:\n",
    "\n",
    "$$\n",
    "    \\begin{array}{rcrcr}\n",
    "        x_1 & + & 2 \\, x_2 & = & 1\\\\\n",
    "\t\tx_1 & + & 3 \\, x_2 & = & 2\\\\\n",
    "\t\\end{array}\n",
    "$$\n",
    "\n",
    "We need to find all values for $x_1$ and $x_2$, such that both equations are simultaneously satisfied.\n",
    "In this example you can easily see that $x_1 = -1$ and $x_2 = 1$ is a solution.\n",
    "\n",
    "There are multiple ways to solve such a system.\n",
    "We will focus on a numerical approach based on matrix computations."
   ]
  },
  {
   "cell_type": "markdown",
   "metadata": {
    "heading_collapsed": true
   },
   "source": [
    "## How to represent a linear system?\n",
    "The first step is to represent the linear system in matrix form.\n",
    "For our example it looks like this:\n",
    "\n",
    "$$\n",
    "\\underbrace{\n",
    "\\left[\n",
    "\\begin{array}{cc}\n",
    "        1 & 2\\\\\n",
    "        1 & 3\n",
    "\\end{array}\n",
    "\\right]}_{\\displaystyle A}\n",
    "\\,\n",
    "\\underbrace{\n",
    "\\left[\n",
    "\\begin{array}{c}\n",
    "        x_1\\\\\n",
    "        x_2\n",
    "\\end{array}\n",
    "\\right]}_{\\displaystyle x}\n",
    "=\n",
    "\\underbrace{\n",
    "\\left[\n",
    "    \\begin{array}{c}\n",
    "        1\\\\\n",
    "        2\n",
    "\\end{array}\n",
    "\\right]}_{\\displaystyle b}\n",
    "$$\n",
    "\n",
    "$A$ is a square matrix, $x$ and $b$ are vectors and the problem now states as:\n",
    "\n",
    "$$\n",
    "A \\, x = b\n",
    "$$"
   ]
  },
  {
   "cell_type": "markdown",
   "metadata": {},
   "source": [
    "## How to solve a linear system in Python?\n",
    "The Numpy library from Python supports matrix calculations.\n",
    "Importing Numpy works like this:"
   ]
  },
  {
   "cell_type": "code",
   "execution_count": null,
   "metadata": {},
   "outputs": [],
   "source": [
    "import numpy as np"
   ]
  },
  {
   "cell_type": "markdown",
   "metadata": {},
   "source": [
    "First we create a matrix $A$ and a vector $b$: "
   ]
  },
  {
   "cell_type": "code",
   "execution_count": null,
   "metadata": {},
   "outputs": [],
   "source": [
    "A = np.array([[1.0, 2.0],[1.0, 3.0]])\n",
    "print('A = \\n',A)\n",
    "b = np.array([1.0, 2.0])\n",
    "print('b = ',b)"
   ]
  },
  {
   "cell_type": "markdown",
   "metadata": {},
   "source": [
    "The solution $x$ can be computed with `linalg.solve()` from the Numpy linear algebra package:"
   ]
  },
  {
   "cell_type": "code",
   "execution_count": null,
   "metadata": {},
   "outputs": [],
   "source": [
    "x = np.linalg.solve(A,b)\n",
    "print('x = ',x)"
   ]
  },
  {
   "cell_type": "markdown",
   "metadata": {},
   "source": [
    "We can easily verify the correctness by multiplying $A$ and $x$ using `linalg.dot()` or the operator `@`:"
   ]
  },
  {
   "cell_type": "code",
   "execution_count": null,
   "metadata": {},
   "outputs": [],
   "source": [
    "print('A*x = ',A.dot(x))\n",
    "print('A*x = ',A @ x)"
   ]
  },
  {
   "cell_type": "markdown",
   "metadata": {},
   "source": [
    "## What about the inverse matrix?\n",
    "Mathematically spoken, the solution of a linear system can be calculated using the inverse matrix:  \n",
    "\n",
    "$$\n",
    "A \\, x = b\n",
    "\\quad \\Longrightarrow \\quad\n",
    "x = A^{-1} \\, b\n",
    "$$\n",
    "\n",
    "Numpy provides an easy way for calculating the inverse matrix with `linalg.inv()`:"
   ]
  },
  {
   "cell_type": "code",
   "execution_count": null,
   "metadata": {},
   "outputs": [],
   "source": [
    "invA = np.linalg.inv(A)\n",
    "print('inv(A) = \\n',invA)"
   ]
  },
  {
   "cell_type": "markdown",
   "metadata": {},
   "source": [
    "If you multiply matrix $A$ by its inverse matrix, you get the unit matrix:"
   ]
  },
  {
   "cell_type": "code",
   "execution_count": null,
   "metadata": {},
   "outputs": [],
   "source": [
    "print('A*A^(-1) = \\n',A @ invA)"
   ]
  },
  {
   "cell_type": "markdown",
   "metadata": {},
   "source": [
    "Nevertheless, solving a linear system with the inverse matrix is not recommended.\n",
    "Using `linalg.solve()` results in far more precise results and has much higher performance. "
   ]
  },
  {
   "cell_type": "markdown",
   "metadata": {},
   "source": [
    "## What are the limitations?\n",
    "A linear system of equations has only a unique solution, if the determinant is not null.\n",
    "We can calculate the determinants with `linalg.det()`:"
   ]
  },
  {
   "cell_type": "code",
   "execution_count": null,
   "metadata": {},
   "outputs": [],
   "source": [
    "d = np.linalg.det(A)\n",
    "print('det(A) = ',d)"
   ]
  },
  {
   "cell_type": "markdown",
   "metadata": {},
   "source": [
    "If the determinant is zero, or numerically speaking has a value close to zero, the linear system of equations has either no solution or infinitely many solutions."
   ]
  },
  {
   "cell_type": "markdown",
   "metadata": {},
   "source": [
    "# Conclusion\n",
    " - Solve a linear system of equation with `linalg.solve()`.\n",
    " - Multiply a matrix and a vector with the operator `@` or with `linalg.dot()`.\n",
    " - Calculate the inverse matrix with `linalg.inv()`.\n",
    " - Calculate the determinat of a matrix with `linalg.det()`."
   ]
  },
  {
   "cell_type": "markdown",
   "metadata": {},
   "source": [
    "# Did you get it?\n",
    "<div class=\"alert alert-block alert-info\">\n",
    "\n",
    "<b>Task 1</b>\n",
    "\n",
    "Solve the linear system of equations\n",
    "\n",
    "$$\n",
    "\\begin{array}{ccccr}\n",
    "  7 \\, x_1 & + & 4 \\, x_2 & = & -1 \\\\\n",
    "  5 \\, x_1 & + & 3 \\, x_2 & = &  1\n",
    "\\end{array}\n",
    "$$\n",
    "</div>"
   ]
  },
  {
   "cell_type": "code",
   "execution_count": null,
   "metadata": {},
   "outputs": [],
   "source": [
    "import numpy as np\n",
    "A = np.array([[7.0, 4.0],[5.0, 3.0]])\n",
    "b = np.array([-1.0, 1.0])\n",
    "x = np.linalg.solve(A,b)\n",
    "print('x = ',x)"
   ]
  },
  {
   "cell_type": "markdown",
   "metadata": {},
   "source": [
    "<div class=\"alert alert-block alert-info\">\n",
    "\n",
    "<b>Task 2</b>\n",
    "\n",
    "Solve the linear system of equations\n",
    "\n",
    "$$\n",
    "\\begin{array}{rcrcrcc}\n",
    "  x_1 & - & x_2 & + &      x_3 & = & 2 \\\\\n",
    "  x_1 & - & x_2 & + & 3 \\, x_3 & = & 3 \\\\\n",
    "  x_1 & + & x_2 & - & 2 \\, x_3 & = & 0 \\\\\n",
    "\\end{array}\n",
    "$$\n",
    "</div>"
   ]
  },
  {
   "cell_type": "code",
   "execution_count": null,
   "metadata": {},
   "outputs": [],
   "source": [
    "import numpy as np\n",
    "A = np.array([[1.0,-1.0,1.0],[1.0,-1.0,3.0],[1.0,1.0,-2.0]])\n",
    "b = np.array([2.0, 3.0, 0.0])\n",
    "x = np.linalg.solve(A,b)\n",
    "print('x = ',x)"
   ]
  },
  {
   "cell_type": "markdown",
   "metadata": {},
   "source": [
    "<div class=\"alert alert-block alert-info\">\n",
    "\n",
    "<b>Task 3</b>\n",
    "\n",
    "Solve the linear system of equations\n",
    "\n",
    "$$\n",
    "\\begin{array}{rcrcrcrcr}\n",
    "       x_1 & - &      x_2 & + &      x_3 & + &      x_4 & = & -2 \\\\\n",
    "  2 \\, x_1 & + &      x_2 & - & 2 \\, x_3 & - &      x_4 & = &  1 \\\\\n",
    "       x_1 & - & 2 \\, x_2 & + &      x_3 & - & 2 \\, x_4 & = &  3 \\\\\n",
    "      -x_1 & + &      x_2 &   &          & + &      x_4 & = &  1 \\\\\n",
    "\\end{array}\n",
    "$$\n",
    "</div>"
   ]
  },
  {
   "cell_type": "code",
   "execution_count": null,
   "metadata": {},
   "outputs": [],
   "source": [
    "import numpy as np\n",
    "A = np.array([[1.0,-1.0,1.0,1.0],[2.0,1.0,-2.0,-1.0],[1.0,-2.0,1.0,-2.0],[-1.0,1.0,0.0,1.0]])\n",
    "b = np.array([-2.0,1.0,3.0,1.0])\n",
    "x = np.linalg.solve(A,b)\n",
    "print('x = ',x)"
   ]
  },
  {
   "cell_type": "markdown",
   "metadata": {},
   "source": [
    "## Literature\n",
    "- https://youtu.be/Rh9R8HVwSiw"
   ]
  },
  {
   "cell_type": "code",
   "execution_count": null,
   "metadata": {},
   "outputs": [],
   "source": []
  }
 ],
 "metadata": {
  "kernelspec": {
   "display_name": "Python 3 (ipykernel)",
   "language": "python",
   "name": "python3"
  },
  "language_info": {
   "codemirror_mode": {
    "name": "ipython",
    "version": 3
   },
   "file_extension": ".py",
   "mimetype": "text/x-python",
   "name": "python",
   "nbconvert_exporter": "python",
   "pygments_lexer": "ipython3",
   "version": "3.9.7"
  },
  "toc": {
   "base_numbering": 1,
   "nav_menu": {},
   "number_sections": true,
   "sideBar": true,
   "skip_h1_title": true,
   "title_cell": "Linear system",
   "title_sidebar": "Linear system",
   "toc_cell": true,
   "toc_position": {
    "height": "calc(100% - 180px)",
    "left": "10px",
    "top": "150px",
    "width": "284px"
   },
   "toc_section_display": false,
   "toc_window_display": true
  }
 },
 "nbformat": 4,
 "nbformat_minor": 2
}
