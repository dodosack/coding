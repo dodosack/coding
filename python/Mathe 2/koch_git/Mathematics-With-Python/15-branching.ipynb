{
 "cells": [
  {
   "cell_type": "markdown",
   "metadata": {},
   "source": [
    "<img src=\"images/00-mathematics_with_python.png\" style=\"height:250px\" align=\"left\"> "
   ]
  },
  {
   "cell_type": "markdown",
   "metadata": {},
   "source": [
    "<!--NAVIGATION-->\n",
    "|  [4 Functions](14-functions.ipynb) | [6 Iteration](16-iteration.ipynb) >"
   ]
  },
  {
   "cell_type": "markdown",
   "metadata": {},
   "source": [
    "# 5 Branching\n",
    "Branching is the process of using conditions to determine which set of instructions to execute.\n",
    "If a certain condition is met, the python program will execute one set of instructions, and if the condition is not met, it will execute a different set of instructions.\n",
    "This allows the program to make decisions and adapt to different scenarios.\n",
    "\n",
    "## 5.1 Conditions \n",
    "Conditions are specific criteria that must be met for a set of instructions to be executed.\n",
    "Python supports the usual logical conditions from mathematics:\n",
    "\n",
    "| Meaning | Operator |\n",
    "| :- | :-: |\n",
    "| Equals | a == b |\n",
    "| Not Equals | a != b |\n",
    "| Less than | a < b |\n",
    "| Less than or equal to | a <= b |\n",
    "| Greater than | a > b |\n",
    "| Greater than or equal to | a >= b |"
   ]
  },
  {
   "cell_type": "code",
   "metadata": {
    "ExecuteTime": {
     "end_time": "2025-04-03T06:59:47.042353Z",
     "start_time": "2025-04-03T06:59:47.037269Z"
    }
   },
   "source": [
    "-2 > 1"
   ],
   "outputs": [
    {
     "data": {
      "text/plain": [
       "False"
      ]
     },
     "execution_count": 1,
     "metadata": {},
     "output_type": "execute_result"
    }
   ],
   "execution_count": 1
  },
  {
   "cell_type": "markdown",
   "metadata": {},
   "source": [
    "This equality comparison is not limited to integers only.\n",
    "We can also compare strings, lists, tuples, dictionaries, sets, or other data types. "
   ]
  },
  {
   "cell_type": "code",
   "metadata": {
    "ExecuteTime": {
     "end_time": "2025-04-03T06:59:47.126956Z",
     "start_time": "2025-04-03T06:59:47.122411Z"
    }
   },
   "source": [
    "'Otto' == 'otto'"
   ],
   "outputs": [
    {
     "data": {
      "text/plain": [
       "False"
      ]
     },
     "execution_count": 2,
     "metadata": {},
     "output_type": "execute_result"
    }
   ],
   "execution_count": 2
  },
  {
   "cell_type": "markdown",
   "metadata": {},
   "source": [
    "Comparing floats needs some special attention.\n",
    "Due to round off errors some typical mathematical formulas, for example\n",
    "\n",
    "$$ (a+b)(a-b) = a^2 - b^2, $$\n",
    "\n",
    "are no longer valid for float expressions."
   ]
  },
  {
   "cell_type": "code",
   "metadata": {
    "ExecuteTime": {
     "end_time": "2025-04-03T06:59:47.265932Z",
     "start_time": "2025-04-03T06:59:47.261530Z"
    }
   },
   "source": [
    "a = 1.0/3.0\n",
    "b = 1.0/7.0\n",
    "(a+b)*(a-b) == a**2 - b**2"
   ],
   "outputs": [
    {
     "data": {
      "text/plain": [
       "False"
      ]
     },
     "execution_count": 3,
     "metadata": {},
     "output_type": "execute_result"
    }
   ],
   "execution_count": 3
  },
  {
   "cell_type": "markdown",
   "metadata": {},
   "source": [
    "## 5.2 If-Else Statements\n",
    "An `if` statement is a code construct that executes a block of code only if a certain condition is met."
   ]
  },
  {
   "cell_type": "code",
   "metadata": {
    "ExecuteTime": {
     "end_time": "2025-04-03T06:59:47.274010Z",
     "start_time": "2025-04-03T06:59:47.271163Z"
    }
   },
   "source": [
    "n = 46\n",
    "if n%2 == 0:\n",
    "    print('even number')\n",
    "else:\n",
    "    print('odd number')"
   ],
   "outputs": [
    {
     "name": "stdout",
     "output_type": "stream",
     "text": [
      "even number\n"
     ]
    }
   ],
   "execution_count": 4
  },
  {
   "cell_type": "code",
   "metadata": {
    "ExecuteTime": {
     "end_time": "2025-04-03T06:59:47.302261Z",
     "start_time": "2025-04-03T06:59:47.300132Z"
    }
   },
   "source": [],
   "outputs": [],
   "execution_count": null
  }
 ],
 "metadata": {
  "kernelspec": {
   "display_name": "Python 3 (ipykernel)",
   "language": "python",
   "name": "python3"
  },
  "language_info": {
   "codemirror_mode": {
    "name": "ipython",
    "version": 3
   },
   "file_extension": ".py",
   "mimetype": "text/x-python",
   "name": "python",
   "nbconvert_exporter": "python",
   "pygments_lexer": "ipython3",
   "version": "3.9.7"
  },
  "toc": {
   "base_numbering": 1,
   "nav_menu": {},
   "number_sections": true,
   "sideBar": true,
   "skip_h1_title": false,
   "title_cell": "Table of Contents",
   "title_sidebar": "Contents",
   "toc_cell": false,
   "toc_position": {},
   "toc_section_display": true,
   "toc_window_display": false
  }
 },
 "nbformat": 4,
 "nbformat_minor": 4
}
