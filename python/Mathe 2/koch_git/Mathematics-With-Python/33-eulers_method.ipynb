{
 "cells": [
  {
   "cell_type": "markdown",
   "metadata": {
    "toc": true
   },
   "source": [
    "<h1>Euler's method<span class=\"tocSkip\"></span></h1>\n",
    "<div class=\"toc\"><ul class=\"toc-item\"><li><span><a href=\"#What-do-we-need-Euler's-method-for?\" data-toc-modified-id=\"What-do-we-need-Euler's-method-for?-1\"><span class=\"toc-item-num\">1&nbsp;&nbsp;</span>What do we need Euler's method for?</a></span></li><li><span><a href=\"#How-does-Euler's-method-work?\" data-toc-modified-id=\"How-does-Euler's-method-work?-2\"><span class=\"toc-item-num\">2&nbsp;&nbsp;</span>How does Euler's method work?</a></span></li><li><span><a href=\"#How-to-extend-to-higher-order-ODEs?\" data-toc-modified-id=\"How-to-extend-to-higher-order-ODEs?-3\"><span class=\"toc-item-num\">3&nbsp;&nbsp;</span>How to extend to higher order ODEs?</a></span></li><li><span><a href=\"#What-are-the-limitations?\" data-toc-modified-id=\"What-are-the-limitations?-4\"><span class=\"toc-item-num\">4&nbsp;&nbsp;</span>What are the limitations?</a></span></li></ul></div>"
   ]
  },
  {
   "cell_type": "markdown",
   "metadata": {},
   "source": [
    "# What should I know before I start?\n",
    " - How to define functions in python.\n",
    " - How to use `numpy.array`.\n",
    " - How to use `matplotlib.pyplot`."
   ]
  },
  {
   "cell_type": "markdown",
   "metadata": {},
   "source": [
    "# Euler's method"
   ]
  },
  {
   "cell_type": "markdown",
   "metadata": {},
   "source": [
    "## What do we need Euler's method for?\n",
    "In scientific and technical applications, ordinary differential equations (ODE) are usually so complex that the calculation of an exact solution is only possible in very simple cases.\n",
    "Therefore, many practical problems have to be solved by numerical approximation methods.\n",
    "\n",
    "Although one speaks of numerical solution methods for ordinary differential equations, strictly speaking one means numerical methods for solving initial value problems.\n",
    "One looks for the solution of a differential equation or a system of differential equations which has a given initial value at a given starting time.\n",
    "\n",
    "A numerical method provides a sequence of approximate values as a solution to an initial value problem.\n",
    "In practice, one requires that these approximate values agree with the mathematically exact solution within a given tolerance.\n",
    "\n",
    "The most basic approximation method for solving ODEs goes back to the German mathematician Leonhard Euler."
   ]
  },
  {
   "cell_type": "markdown",
   "metadata": {},
   "source": [
    "## How does Euler's method work?\n",
    "Eulers's method determines approximations $\\tilde{x}_0$, $\\tilde{x}_1$, $\\tilde{x}_2$, $\\ldots$, $\\tilde{x}_n$ to the exact solution $x$ of an ODE.\n",
    "Initially we concentrate on explicit first-order differential equations in the form\n",
    "\n",
    "$$\n",
    "    x'(t) = f(t,x(t)), \\quad x(t_0) = x_0, \\quad t \\in [t_0,t_n].\n",
    "$$\n",
    "\n",
    "The idea is to start with the initial value $\\tilde{x}_0 = x_0$, which we assume is known.\n",
    "Then, from the differential equation, the slope\n",
    "\n",
    "$$\n",
    "x'(t_0) = f(t_0,\\tilde{x}_0)\n",
    "$$\n",
    "\n",
    "can be computed, and with that the tangent line in $\\tilde{x}_0$.\n",
    "Take a small step with size $h$ along that tangent line up to a point\n",
    "\n",
    "$$\n",
    "    \\tilde{x}_1 = \\tilde{x}_0 + h \\cdot f(t_0,\\tilde{x}_0).\n",
    "$$\n",
    "\n",
    "The value $\\tilde{x}_1$ is a good approximation for the exact value of $x$ at $t_1=t_0+h$.\n",
    "\n",
    "Even if $\\tilde{x}_1$, unlike $\\tilde{x}_0$, is not an exact solution value, we can continue the procedure starting in $x_1$ in the same way\n",
    "\n",
    "$$\n",
    "    \\tilde{x}_2 = \\tilde{x}_1 + h \\cdot f(t_1,\\tilde{x}_1).\n",
    "$$\n",
    "\n",
    "We repeat this until we have reached the position $x_n$ corresponding to time $t_n = t_0 + n \\cdot h$.\n",
    "\n",
    "<div class=\"alert alert-block alert-warning\">\n",
    "    \n",
    "<b>Example</b>\n",
    "\n",
    "Let us consider the initial value problem\n",
    "    \n",
    "$$\n",
    "x'(t) + \\frac{x(t)}{1+t} = -6 \\, t, \\quad x(0) = 3, \\quad t \\in [0,5],\n",
    "$$\n",
    "    \n",
    "with a first-order ODE.\n",
    "To prepare Euler's method, we rewrite the differential equation in a suitable form, i.e. we isolate the first derivative on the left hand side of the equation:\n",
    "\n",
    "$$\n",
    "x'(t) = \\underbrace{-6 \\, t - \\frac{x(t)}{1+t}}_{\\displaystyle f(t,x(t))}.\n",
    "$$\n",
    "    \n",
    "The term on the right hand side of the equation represents the function $f$, which corresponds to the slope.\n",
    "We implement this function in Python.\n",
    "</div>"
   ]
  },
  {
   "cell_type": "code",
   "execution_count": null,
   "metadata": {},
   "outputs": [],
   "source": [
    "def f(t,x):\n",
    "    f = -6*t-x/(1+t)\n",
    "    return f"
   ]
  },
  {
   "cell_type": "markdown",
   "metadata": {},
   "source": [
    "<div class=\"alert alert-block alert-warning\">\n",
    "With the function $f$ Euler's method can be represented as follows:\n",
    "    \n",
    "$$\n",
    "    \\begin{array}{lcl}\n",
    "    \\tilde{x}_{k+1} & = & \\tilde{x}_k + h \\cdot f(t_k,\\tilde{x}_k) \\\\\n",
    "    t_{k+1}         & = & t_k + h\n",
    "    \\end{array}\n",
    "$$\n",
    "\n",
    "The values $t_k$ are equaly spaced and can be generated in Python by `numpy.arange()`. \n",
    "The approximate values $\\tilde{x}_k$ are calcuklated step by step and stored in a one dimensional array, which is initialized by zeors using `numpy.zeros()`.\n",
    "The size of those arrays is determined by\n",
    "\n",
    "$$\n",
    "    n = \\frac{t_n - t_0}{h} \\, .\n",
    "$$\n",
    "</div>"
   ]
  },
  {
   "cell_type": "code",
   "execution_count": null,
   "metadata": {},
   "outputs": [],
   "source": [
    "import numpy as np\n",
    "def euler(t0,tn,h,x0):\n",
    "    n = int((tn-t0)/h)\n",
    "    t = np.linspace(t0,tn,n+1)\n",
    "    x = np.zeros(n+1)\n",
    "    x[0] = x0\n",
    "    for k in range(n):\n",
    "        x[k+1] = x[k]+h*f(t[k],x[k])\n",
    "    return t, x"
   ]
  },
  {
   "cell_type": "code",
   "execution_count": null,
   "metadata": {},
   "outputs": [],
   "source": [
    "t0 = 0.0\n",
    "tn = 5.0\n",
    "h = 0.2\n",
    "x0 = 3.0\n",
    "t, x = euler(t0,tn,h,x0)\n",
    "print('t = ',t)\n",
    "print('x = ',x)"
   ]
  },
  {
   "cell_type": "markdown",
   "metadata": {},
   "source": [
    "<div class=\"alert alert-block alert-warning\">\n",
    "    \n",
    "A plot can be easily created with `matplotlib`.\n",
    "</div>"
   ]
  },
  {
   "cell_type": "code",
   "execution_count": null,
   "metadata": {},
   "outputs": [],
   "source": [
    "import matplotlib.pyplot as plt\n",
    "fig, ax = plt.subplots()\n",
    "ax.plot(t,x,'ob')"
   ]
  },
  {
   "cell_type": "markdown",
   "metadata": {},
   "source": [
    "## How to extend to higher order ODEs?\n",
    "The idea is to convert a higher order ODE into a set of first-order ODEs.\n",
    "Once we get a bunch of first-order ODEs, we can apply Euler's method to each first-order ODE. \n",
    "We will look into the process of the conversion through an example. \n",
    "\n",
    "<div class=\"alert alert-block alert-warning\">\n",
    "    \n",
    "<b>Example</b>\n",
    "\n",
    "Let us consider the initial value problem\n",
    "    \n",
    "$$\n",
    "x''(t) + x'(t) + \\sin \\left( x(t) \\right) = \\cos(t), \\quad x(0) = 3, \\quad x'(0) = 0, \\quad t \\in [0,6 \\, \\pi],\n",
    "$$\n",
    "    \n",
    "with a second-order ODE.\n",
    "Now, the trick is like this.\n",
    "First, we look for the order of the equation and replace all the terms of lower than the order with so called state variables.\n",
    "Since this is a second-order differential equation, we will replace $x(t)$ and $x'(t)$ with the variables $z_0(t)$ and $z_1(t)$: \n",
    "\n",
    "$$\n",
    "    \\left.\n",
    "    \\begin{array}{ccl}\n",
    "        z_0(t) & = & x(t) \\\\\n",
    "        z_1(t) & = & x'(t) \\\\\n",
    "    \\end{array}\n",
    "    \\right\\}\n",
    "    \\quad \\Longrightarrow \\quad\n",
    "    x''(t) + z_1(t) + \\sin \\left( z_0(t) \\right) = \\cos(t).\n",
    "$$\n",
    "\n",
    "In addition, we replace $x''(t)$ by $z_1'(t)$, which results in a first-order ODE:\n",
    "\n",
    "$$\n",
    "z_1'(t) = \\cos(t) - z_1(t) - \\sin \\left( z_0(t) \\right).    \n",
    "$$\n",
    "\n",
    "Now we have to consider that the two variables $z_0(t)$ and $z_1(t)$ are linked:\n",
    "    \n",
    "$$\n",
    "    z_0'(t) = x'(t) = z_1(t)\n",
    "$$\n",
    "\n",
    "Altogether we get a system with two first-order equations:\n",
    "    \n",
    "$$\n",
    "    \\begin{array}{ccl}\n",
    "    z_0'(t) & = & z_1(t), \\\\\n",
    "    z_1'(t) & = & \\cos(t) - z_1(t) - \\sin \\left( z_0(t) \\right). \\\\    \n",
    "    \\end{array}\n",
    "$$\n",
    "    \n",
    "In vector notation\n",
    "\n",
    "$$\n",
    "    z'(t) = \n",
    "    \\left(\n",
    "        \\begin{array}{c}\n",
    "            z_0(t) \\\\\n",
    "            z_1(t)\n",
    "        \\end{array}\n",
    "    \\right)'\n",
    "    =\n",
    "    \\underbrace{\n",
    "    \\left(\n",
    "        \\begin{array}{l}\n",
    "            z_1(t), \\\\\n",
    "            \\cos(t) - z_1(t) - \\sin \\left( z_0(t) \\right). \\\\    \n",
    "        \\end{array}\n",
    "    \\right)\n",
    "    }_{\\displaystyle f(t,z(t))},\n",
    "$$\n",
    "\n",
    "the system of differential equations looks exactly the same as the first-order differential equation.\n",
    "Therefore we can use Euler's method in a similar way.\n",
    "</div>"
   ]
  },
  {
   "cell_type": "code",
   "execution_count": null,
   "metadata": {},
   "outputs": [],
   "source": [
    "from math import sin, cos\n",
    "def f2(t,z):\n",
    "    f2 = np.array([z[1],cos(t)-z[1]-sin(z[0])])\n",
    "    return f2"
   ]
  },
  {
   "cell_type": "markdown",
   "metadata": {},
   "source": [
    "<div class=\"alert alert-block alert-warning\">\n",
    "    \n",
    "Again, we calculate the approximate values step by step and store the values for $t_k$ and $\\tilde{z}_k$.\n",
    "Since $z$ is now a two-dimensional vector, we need a matrix to store it.\n",
    "</div>"
   ]
  },
  {
   "cell_type": "code",
   "execution_count": null,
   "metadata": {},
   "outputs": [],
   "source": [
    "import numpy as np\n",
    "def euler2(t0,tn,h,z0):\n",
    "    n = int((tn-t0)/h)\n",
    "    t = np.linspace(t0,tn,n+1)\n",
    "    z = np.zeros([len(z0),n+1])\n",
    "    z[:,0] = z0\n",
    "    for k in range(n):\n",
    "        z[:,k+1] = z[:,k]+h*f2(t[k],z[:,k])\n",
    "    return t, z"
   ]
  },
  {
   "cell_type": "code",
   "execution_count": null,
   "metadata": {},
   "outputs": [],
   "source": [
    "t0 = 0.0\n",
    "tn = 6*np.pi\n",
    "h = 0.01\n",
    "z0 = np.array([3.0,0.0])\n",
    "t, z = euler2(t0,tn,h,z0)\n",
    "print('t = ',t)\n",
    "print('z = ',z)"
   ]
  },
  {
   "cell_type": "markdown",
   "metadata": {},
   "source": [
    "<div class=\"alert alert-block alert-warning\">\n",
    "    \n",
    "Using `matplotlib` we can plot the first sate $z_0$ over $t$ and the second state $z_1$ over $t$ as well.\n",
    "</div>"
   ]
  },
  {
   "cell_type": "code",
   "execution_count": null,
   "metadata": {},
   "outputs": [],
   "source": [
    "fig, (ax1,ax2) = plt.subplots(2,1)\n",
    "ax1.plot(t,z[0,:],'.b')\n",
    "ax1.set(xlabel='$t$', ylabel='$z_0$')\n",
    "ax2.plot(t,z[1,:],'.r')\n",
    "ax2.set(xlabel='$t$', ylabel='$z_1$')"
   ]
  },
  {
   "cell_type": "markdown",
   "metadata": {},
   "source": [
    "<div class=\"alert alert-block alert-warning\">\n",
    "\n",
    "Especially for second order differential equations the solution is often shown as a phase plot.\n",
    "Here the state $z_1$ is plotted depending on the state $z_0$.\n",
    "</div>"
   ]
  },
  {
   "cell_type": "code",
   "execution_count": null,
   "metadata": {},
   "outputs": [],
   "source": [
    "fig, ax = plt.subplots()\n",
    "ax.plot(z[0,:],z[1,:],'.k')"
   ]
  },
  {
   "cell_type": "markdown",
   "metadata": {
    "heading_collapsed": true
   },
   "source": [
    "## What are the limitations?\n",
    "Numerical methods require concrete values for all quantities in the differential equation.\n",
    "Dependencies of the solution on parameter values cannot be recognized directly with numerical methods.\n",
    "\n",
    "The art in numerics is to choose the best possible value for the step size.\n",
    "The larger you choose the step size, the greater the difference between the approximate value and the exact solution. \n",
    "If you choose a very small step size, many steps are required to approximate the solution.\n",
    "There are heuristics that try to optimally adjust the step size in each step.\n",
    "However, we always use the same step size here."
   ]
  },
  {
   "cell_type": "markdown",
   "metadata": {
    "heading_collapsed": true
   },
   "source": [
    "# Conclusion\n",
    " - Euler's method is a numerical procedure for solving ordinary differential equations.\n",
    " - It needs initial values.\n",
    " - It can be used for a first-order equation, for a higher order equation or for a system of equations."
   ]
  },
  {
   "cell_type": "markdown",
   "metadata": {},
   "source": [
    "# Did you get it?\n",
    "<div class=\"alert alert-block alert-info\">\n",
    "    \n",
    "<b>Task 1</b>\n",
    "\n",
    "Apply Euler's method to the first-order differential equation\n",
    "\n",
    "$$\n",
    "t \\, x'(t) = (1 - t) \\, x(t), \\quad x(1) = 1, \\quad t \\in [1,3].\n",
    "$$\n",
    "</div>"
   ]
  },
  {
   "cell_type": "code",
   "execution_count": null,
   "metadata": {},
   "outputs": [],
   "source": [
    "def f(t,x):\n",
    "    f = (1.0-t)*x/t\n",
    "    return f\n",
    "\n",
    "t0 = 1.0\n",
    "tn = 3.0\n",
    "h = 0.1\n",
    "x0 = 1.0\n",
    "t, x = euler(t0,tn,h,x0)\n",
    "\n",
    "fig, ax = plt.subplots(1,1)\n",
    "ax.plot(t,x[:],'.b')\n",
    "ax.set(xlabel='$t$', ylabel='$x$')\n",
    "#plt.savefig(\"euler1.png\")"
   ]
  },
  {
   "cell_type": "markdown",
   "metadata": {},
   "source": [
    "<div class=\"alert alert-block alert-info\">\n",
    "\n",
    "<b>Task 2</b>\n",
    "    \n",
    "Apply Euler's method to the second-order equation\n",
    "\n",
    "$$\n",
    "x''(t) + 2(1 + x(t)^2)x'(t) + 4 \\, x(t) = \\cos ( 3\\, t), \\quad x(0) = 0, \\quad x'(0) = 1, \\quad t \\in [0,1].\n",
    "$$\n",
    "</div>"
   ]
  },
  {
   "cell_type": "code",
   "execution_count": null,
   "metadata": {},
   "outputs": [],
   "source": [
    "def f2(t,z):\n",
    "    f2 = np.array([z[1],-2.0*(1.0+z[0]**2)*z[1]-4.0*z[0]+np.cos(3.0*t)])\n",
    "    return f2\n",
    "\n",
    "t0 = 0.0\n",
    "tn = 1.0\n",
    "h = 0.05\n",
    "z0 = np.array([0.0,1.0])\n",
    "t, z = euler2(t0,tn,h,z0)\n",
    "\n",
    "fig, (ax1,ax2) = plt.subplots(2,1)\n",
    "ax1.plot(t,z[0,:],'.b')\n",
    "ax1.set(xlabel='$t$', ylabel='$x(t)$')\n",
    "ax2.plot(t,z[1,:],'.r')\n",
    "ax2.set(xlabel='$t$', ylabel=\"$x'(t)$\")\n",
    "#plt.savefig(\"euler2a.png\")\n",
    "        \n",
    "fig, ax = plt.subplots()\n",
    "ax.plot(z[0,:],z[1,:],'.k')\n",
    "ax.set(xlabel='$x(t)$', ylabel=\"$x'(t)$\")\n",
    "#plt.savefig(\"euler2b.png\")"
   ]
  }
 ],
 "metadata": {
  "kernelspec": {
   "display_name": "Python 3 (ipykernel)",
   "language": "python",
   "name": "python3"
  },
  "language_info": {
   "codemirror_mode": {
    "name": "ipython",
    "version": 3
   },
   "file_extension": ".py",
   "mimetype": "text/x-python",
   "name": "python",
   "nbconvert_exporter": "python",
   "pygments_lexer": "ipython3",
   "version": "3.9.7"
  },
  "toc": {
   "base_numbering": 1,
   "nav_menu": {},
   "number_sections": true,
   "sideBar": true,
   "skip_h1_title": true,
   "title_cell": "Euler's method",
   "title_sidebar": "Euler's method",
   "toc_cell": true,
   "toc_position": {
    "height": "calc(100% - 180px)",
    "left": "10px",
    "top": "150px",
    "width": "287.933px"
   },
   "toc_section_display": true,
   "toc_window_display": false
  }
 },
 "nbformat": 4,
 "nbformat_minor": 2
}
