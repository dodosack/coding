{
 "cells": [
  {
   "cell_type": "markdown",
   "metadata": {},
   "source": [
    "<img src=\"images/00-mathematics_with_python.png\" style=\"height:250px\" align=\"left\"> "
   ]
  },
  {
   "cell_type": "markdown",
   "metadata": {},
   "source": [
    "<!--NAVIGATION-->\n",
    "| [3 Basic Data Structures](13-basic_data_structures.ipynb) | [5 Branching](15-branching.ipynb) >"
   ]
  },
  {
   "cell_type": "markdown",
   "metadata": {},
   "source": [
    "# 4 Functions\n",
    "A function is a block of statements that return the specific task.\n",
    "The idea is to put some commonly or repeatedly done tasks together and make a function so that instead of writing the same code again and again for different inputs, we can do the function calls to reuse code contained in it over and over again."
   ]
  },
  {
   "cell_type": "markdown",
   "metadata": {},
   "source": [
    "## 4.1 Creating a function\n",
    "A function is created with the keyword `def` followed by the name of the function and a semicolon `:`.\n",
    "Input parameters are the variables listed inside the parentheses in the function definition.\n",
    "In the following example the name of the function is f1 and x is the input parameter."
   ]
  },
  {
   "cell_type": "code",
   "metadata": {
    "ExecuteTime": {
     "end_time": "2025-04-03T06:53:42.582111Z",
     "start_time": "2025-04-03T06:53:42.578888Z"
    }
   },
   "source": [
    "def f1(x):\n",
    "   return 2*x**2"
   ],
   "outputs": [],
   "execution_count": 33
  },
  {
   "cell_type": "markdown",
   "metadata": {},
   "source": [
    "## 4.2 Calling a function\n",
    "Input arguments are the values that are sent to the function when it is called.\n",
    "In the following example 3 is the input argument and 18 is the return value."
   ]
  },
  {
   "cell_type": "code",
   "metadata": {
    "ExecuteTime": {
     "end_time": "2025-04-03T06:53:42.619052Z",
     "start_time": "2025-04-03T06:53:42.614783Z"
    }
   },
   "source": [
    "f1(3)"
   ],
   "outputs": [
    {
     "data": {
      "text/plain": [
       "18"
      ]
     },
     "execution_count": 34,
     "metadata": {},
     "output_type": "execute_result"
    }
   ],
   "execution_count": 34
  },
  {
   "cell_type": "markdown",
   "metadata": {},
   "source": [
    "## 4.3 Input parameters\n",
    "It is possible to assign a default argument value for each parameter."
   ]
  },
  {
   "cell_type": "code",
   "metadata": {
    "ExecuteTime": {
     "end_time": "2025-04-03T06:53:42.645451Z",
     "start_time": "2025-04-03T06:53:42.642858Z"
    }
   },
   "source": [
    "def f2(x=3):\n",
    "    return 2*x**2"
   ],
   "outputs": [],
   "execution_count": 35
  },
  {
   "cell_type": "code",
   "metadata": {
    "ExecuteTime": {
     "end_time": "2025-04-03T06:53:42.657374Z",
     "start_time": "2025-04-03T06:53:42.653659Z"
    }
   },
   "source": [
    "f2()"
   ],
   "outputs": [
    {
     "data": {
      "text/plain": [
       "18"
      ]
     },
     "execution_count": 36,
     "metadata": {},
     "output_type": "execute_result"
    }
   ],
   "execution_count": 36
  },
  {
   "cell_type": "markdown",
   "metadata": {},
   "source": [
    "A function can have any number of input parameters."
   ]
  },
  {
   "cell_type": "code",
   "metadata": {
    "ExecuteTime": {
     "end_time": "2025-04-03T06:53:42.750644Z",
     "start_time": "2025-04-03T06:53:42.746686Z"
    }
   },
   "source": [
    "def f3(x =  0,y=0):\n",
    "    return 2*x-3*y+4"
   ],
   "outputs": [],
   "execution_count": 37
  },
  {
   "cell_type": "code",
   "metadata": {
    "ExecuteTime": {
     "end_time": "2025-04-03T06:53:42.784195Z",
     "start_time": "2025-04-03T06:53:42.779762Z"
    }
   },
   "source": "    f3(2,1)",
   "outputs": [
    {
     "data": {
      "text/plain": [
       "5"
      ]
     },
     "execution_count": 38,
     "metadata": {},
     "output_type": "execute_result"
    }
   ],
   "execution_count": 38
  },
  {
   "cell_type": "markdown",
   "metadata": {},
   "source": [
    "You can also use arguments with the key = value syntax.\n",
    "This way the order of the arguments does not matter."
   ]
  },
  {
   "cell_type": "code",
   "metadata": {
    "ExecuteTime": {
     "end_time": "2025-04-03T06:53:42.812252Z",
     "start_time": "2025-04-03T06:53:42.808629Z"
    }
   },
   "source": [
    "f3(y=1,x=2)"
   ],
   "outputs": [
    {
     "data": {
      "text/plain": [
       "5"
      ]
     },
     "execution_count": 39,
     "metadata": {},
     "output_type": "execute_result"
    }
   ],
   "execution_count": 39
  },
  {
   "cell_type": "markdown",
   "metadata": {},
   "source": [
    "## 4.4 Function output\n",
    "A function can return multiple results.\n",
    "Separating the results with commas generates a `tuple`. "
   ]
  },
  {
   "cell_type": "code",
   "metadata": {
    "ExecuteTime": {
     "end_time": "2025-05-18T18:08:51.213852Z",
     "start_time": "2025-05-18T18:08:51.211692Z"
    }
   },
   "source": [
    "def f4(x):\n",
    "    y1 =  2*x**2\n",
    "    y2 = -2*x**2\n",
    "    return y1, y2"
   ],
   "outputs": [],
   "execution_count": 2
  },
  {
   "cell_type": "code",
   "metadata": {
    "ExecuteTime": {
     "end_time": "2025-05-18T18:08:51.668734Z",
     "start_time": "2025-05-18T18:08:51.666266Z"
    }
   },
   "source": [
    "y = f4(3)\n",
    "print('y = ',y)\n",
    "print(type(y))"
   ],
   "outputs": [
    {
     "name": "stdout",
     "output_type": "stream",
     "text": [
      "y =  (18, -18)\n",
      "<class 'tuple'>\n"
     ]
    }
   ],
   "execution_count": 3
  },
  {
   "cell_type": "markdown",
   "metadata": {},
   "source": [
    "Putting the results in brackets `[...]` seperated by commas generates a `list`. "
   ]
  },
  {
   "cell_type": "code",
   "metadata": {
    "ExecuteTime": {
     "end_time": "2025-04-03T06:53:42.889309Z",
     "start_time": "2025-04-03T06:53:42.886067Z"
    }
   },
   "source": [
    "def f5(x):\n",
    "    y1 =  2*x**2\n",
    "    y2 = -2*x**2\n",
    "    return [y1, y2]"
   ],
   "outputs": [],
   "execution_count": 42
  },
  {
   "cell_type": "code",
   "metadata": {
    "ExecuteTime": {
     "end_time": "2025-04-03T06:53:42.926489Z",
     "start_time": "2025-04-03T06:53:42.921888Z"
    }
   },
   "source": [
    "y = f5(3)\n",
    "print('y = ',y)\n",
    "print(type(y))"
   ],
   "outputs": [
    {
     "name": "stdout",
     "output_type": "stream",
     "text": [
      "y =  [18, -18]\n",
      "<class 'list'>\n"
     ]
    }
   ],
   "execution_count": 43
  },
  {
   "cell_type": "markdown",
   "metadata": {},
   "source": [
    "## 1.5 Local and global namespace\n",
    "Python assumes that any name that is assigned to, anywhere within a function, is local to that function unless explicitly told otherwise."
   ]
  },
  {
   "cell_type": "code",
   "metadata": {
    "ExecuteTime": {
     "end_time": "2025-04-03T06:53:42.949928Z",
     "start_time": "2025-04-03T06:53:42.946506Z"
    }
   },
   "source": [
    "def f6(x):\n",
    "    a = 2\n",
    "    return a*x**2"
   ],
   "outputs": [],
   "execution_count": 44
  },
  {
   "cell_type": "markdown",
   "metadata": {},
   "source": [
    "The variable a ist not defined outside the namespace of the function f."
   ]
  },
  {
   "cell_type": "code",
   "metadata": {
    "ExecuteTime": {
     "end_time": "2025-04-03T06:53:42.986426Z",
     "start_time": "2025-04-03T06:53:42.982058Z"
    }
   },
   "source": [
    "f6(3)\n",
    "#print('a = ',a) # Error: a is not defined !"
   ],
   "outputs": [
    {
     "data": {
      "text/plain": [
       "18"
      ]
     },
     "execution_count": 45,
     "metadata": {},
     "output_type": "execute_result"
    }
   ],
   "execution_count": 45
  },
  {
   "cell_type": "markdown",
   "metadata": {},
   "source": [
    "By using the key word `global` the name assigned within the function becomes globally accessible."
   ]
  },
  {
   "cell_type": "code",
   "metadata": {
    "ExecuteTime": {
     "end_time": "2025-04-03T06:53:43.021582Z",
     "start_time": "2025-04-03T06:53:43.018772Z"
    }
   },
   "source": [
    "def f7(x):\n",
    "    global b\n",
    "    b = 2\n",
    "    return b*x**2"
   ],
   "outputs": [],
   "execution_count": 46
  },
  {
   "cell_type": "code",
   "metadata": {
    "ExecuteTime": {
     "end_time": "2025-04-03T06:53:43.039829Z",
     "start_time": "2025-04-03T06:53:43.036357Z"
    }
   },
   "source": [
    "f7(3)\n",
    "print('b = ',b)"
   ],
   "outputs": [
    {
     "name": "stdout",
     "output_type": "stream",
     "text": [
      "b =  2\n"
     ]
    }
   ],
   "execution_count": 47
  },
  {
   "cell_type": "code",
   "metadata": {
    "ExecuteTime": {
     "end_time": "2025-04-03T06:53:43.073384Z",
     "start_time": "2025-04-03T06:53:43.071468Z"
    }
   },
   "source": [],
   "outputs": [],
   "execution_count": null
  }
 ],
 "metadata": {
  "kernelspec": {
   "display_name": "Python 3 (ipykernel)",
   "language": "python",
   "name": "python3"
  },
  "language_info": {
   "codemirror_mode": {
    "name": "ipython",
    "version": 3
   },
   "file_extension": ".py",
   "mimetype": "text/x-python",
   "name": "python",
   "nbconvert_exporter": "python",
   "pygments_lexer": "ipython3",
   "version": "3.9.7"
  },
  "toc": {
   "base_numbering": 1,
   "nav_menu": {},
   "number_sections": true,
   "sideBar": true,
   "skip_h1_title": false,
   "title_cell": "Table of Contents",
   "title_sidebar": "Contents",
   "toc_cell": false,
   "toc_position": {},
   "toc_section_display": true,
   "toc_window_display": false
  }
 },
 "nbformat": 4,
 "nbformat_minor": 4
}
