{
 "cells": [
  {
   "cell_type": "markdown",
   "id": "bedd1dc9",
   "metadata": {},
   "source": [
    "<img src=\"images/00-mathematics_with_python.png\" style=\"height:250px\" align=\"left\">"
   ]
  },
  {
   "cell_type": "markdown",
   "id": "8dad0008",
   "metadata": {},
   "source": [
    "<!--NAVIGATION-->\n",
    "< [3.x](3x.ipynb) | [3.x](3x.ipynb) >"
   ]
  },
  {
   "cell_type": "markdown",
   "id": "24c43a8d",
   "metadata": {},
   "source": [
    "# 3.x Direction Field"
   ]
  },
  {
   "cell_type": "markdown",
   "id": "9f359456",
   "metadata": {},
   "source": [
    "<div class=\"alert alert-block alert-warning\">\n",
    "    \n",
    "<b>Example</b>\n",
    "\n",
    "Let us consider the ordinary differential equation\n",
    "    \n",
    "$$\n",
    "    y'(x) = \\frac{-x}{y} \\, .\n",
    "$$  \n",
    "</div>"
   ]
  },
  {
   "cell_type": "code",
   "execution_count": null,
   "id": "6b4f6fef",
   "metadata": {},
   "outputs": [],
   "source": [
    "#\n",
    "# direction field with numpy and quiver\n",
    "#\n",
    "x = np.linspace(-3.5,3.5,8)\n",
    "y = np.linspace(-3.5,3.5,8)\n",
    "X,Y = np.meshgrid(x,y)\n",
    "\n",
    "U = np.ones_like(X)\n",
    "V = -X/Y;\n",
    "\n",
    "# normalize\n",
    "n = np.sqrt(U**2 + V**2)\n",
    "U = U/n\n",
    "V = V/n\n",
    "\n",
    "plt.quiver(X,Y,U,V)\n",
    "fig = plt.gcf()\n",
    "ax = plt.gca()\n",
    "ax.axis('equal')"
   ]
  },
  {
   "cell_type": "code",
   "execution_count": null,
   "id": "eda8c068",
   "metadata": {},
   "outputs": [],
   "source": [
    "#\n",
    "# symbolic solution with sympy\n",
    "#\n",
    "x = sp.Symbol('x')\n",
    "y = sp.Function('y')(x)\n",
    "yp = sp.Derivative(y)\n",
    "ode = sp.Eq(yp,-x/y)\n",
    "x0, y0 = -3.0, 1.0\n",
    "sym_sol = sp.dsolve(ode, ics = {y.subs(x,x0) : y0})\n",
    "print(sym_sol)"
   ]
  },
  {
   "cell_type": "code",
   "execution_count": null,
   "id": "3d2c94cb",
   "metadata": {},
   "outputs": [],
   "source": [
    "#\n",
    "# convert the symbolical solution to a numerical solution\n",
    "#\n",
    "num_sol = sp.lambdify(x,sym_sol.rhs)\n",
    "x = np.linspace(x0,-x0)\n",
    "y = num_sol(x)\n",
    "ax.plot(x,y,'-r')\n",
    "display(fig)"
   ]
  },
  {
   "cell_type": "code",
   "execution_count": null,
   "id": "ab695e34",
   "metadata": {},
   "outputs": [],
   "source": []
  }
 ],
 "metadata": {
  "kernelspec": {
   "display_name": "Python 3 (ipykernel)",
   "language": "python",
   "name": "python3"
  },
  "language_info": {
   "codemirror_mode": {
    "name": "ipython",
    "version": 3
   },
   "file_extension": ".py",
   "mimetype": "text/x-python",
   "name": "python",
   "nbconvert_exporter": "python",
   "pygments_lexer": "ipython3",
   "version": "3.9.7"
  }
 },
 "nbformat": 4,
 "nbformat_minor": 5
}
