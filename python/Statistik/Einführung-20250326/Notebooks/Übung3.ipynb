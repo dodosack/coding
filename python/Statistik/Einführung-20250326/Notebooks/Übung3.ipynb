{
 "cells": [
  {
   "cell_type": "markdown",
   "id": "6c4f313e",
   "metadata": {},
   "source": [
    "# Einführung Statistiklabor\n",
    "\n",
    "## 3. Übung - Diskrete Wahrscheinlichkeitsverteilung (Hypergeometrische, Binomial- & Poissonverteilung)\n",
    "\n",
    "### 3.1 Hypergeometrische Verteilung\n",
    "\n",
    "Sie erhalten eine Lieferung von $50$ elektronischen Bauteilen. Daraus entnehmen Sie eine\n",
    "Stichprobe von $20$ Bauteilen und testen diese $20$ Bauteile auf Funktionsfähigkeit. Die\n",
    "Zufallsvariable $X$ gebe die Anzahl der defekten Bauteile unter den $20$ Bauteilen der\n",
    "Stichprobe an. \n",
    "\n",
    "Angenommen, in der Lieferung sind $5$ defekte elektronische Bauteile. Unter\n",
    "diesen Annahmen folgt $X$ einer so genannten hypergeometrischen Verteilung\n",
    "$X\\sim H(n=20; N=50; m=5)$."
   ]
  },
  {
   "cell_type": "code",
   "execution_count": null,
   "id": "377e6a8d",
   "metadata": {},
   "outputs": [],
   "source": []
  },
  {
   "cell_type": "markdown",
   "id": "d726a634",
   "metadata": {},
   "source": [
    "a) Berechnung der Wahrscheinlichkeit, dass **kein** defektes Bauteil in der Stichprobe ist:\n",
    "$P(X=0)$"
   ]
  },
  {
   "cell_type": "code",
   "execution_count": null,
   "id": "c7e1fef1",
   "metadata": {},
   "outputs": [],
   "source": []
  },
  {
   "cell_type": "code",
   "execution_count": null,
   "id": "1e244c69",
   "metadata": {},
   "outputs": [],
   "source": []
  },
  {
   "cell_type": "markdown",
   "id": "679d1811",
   "metadata": {},
   "source": [
    "b1) ..., dass **genau 1** defektes Bauteil in der Stichprobe ist:\n",
    "$P(X=1)$"
   ]
  },
  {
   "cell_type": "code",
   "execution_count": null,
   "id": "7461444e",
   "metadata": {},
   "outputs": [],
   "source": []
  },
  {
   "cell_type": "markdown",
   "id": "2b34ee88",
   "metadata": {},
   "source": [
    "b2) ..., dass **genau 2** Bauteile defekt sind:\n",
    "$P(X=2)$"
   ]
  },
  {
   "cell_type": "code",
   "execution_count": null,
   "id": "55ce6867",
   "metadata": {},
   "outputs": [],
   "source": []
  },
  {
   "cell_type": "markdown",
   "id": "15752539",
   "metadata": {},
   "source": [
    "b3) ..., dass **genau 3** Bauteile defekt sind:\n",
    "$P(X=3)$"
   ]
  },
  {
   "cell_type": "code",
   "execution_count": null,
   "id": "afaf016c",
   "metadata": {},
   "outputs": [],
   "source": []
  },
  {
   "cell_type": "markdown",
   "id": "dfda1b85",
   "metadata": {},
   "source": [
    "c) ..., dass **höchstens 3** defekte Bauteile in der Stichprobe sind:\n",
    "$P(X\\leq 3)$"
   ]
  },
  {
   "cell_type": "code",
   "execution_count": null,
   "id": "d902e2f4",
   "metadata": {},
   "outputs": [],
   "source": []
  },
  {
   "cell_type": "code",
   "execution_count": null,
   "id": "8672e95a",
   "metadata": {},
   "outputs": [],
   "source": []
  },
  {
   "cell_type": "markdown",
   "id": "0170e2cd",
   "metadata": {},
   "source": [
    "*Zusatz: ..., dass **höchstens 5** defekte Bauteile in der Stichprobe sind:*\n",
    "$P(X\\leq5)$"
   ]
  },
  {
   "cell_type": "code",
   "execution_count": null,
   "id": "93326c9c",
   "metadata": {},
   "outputs": [],
   "source": []
  },
  {
   "cell_type": "code",
   "execution_count": null,
   "id": "84022fc6",
   "metadata": {},
   "outputs": [],
   "source": []
  },
  {
   "cell_type": "code",
   "execution_count": null,
   "id": "b3f82b66",
   "metadata": {},
   "outputs": [],
   "source": []
  },
  {
   "cell_type": "markdown",
   "id": "ad7279c2",
   "metadata": {},
   "source": [
    "### 3.2 Binomialverteilung\n",
    "\n",
    "Bei der Massenproduktion bestimmter elektronischer Kleinteile entsteht eine Ausschussquote von\n",
    "$10\\,\\%$. Sie entnehmen der laufenden Produktion eine Stichprobe vom Umfang $20$. Man kann davon\n",
    "ausgehen, dass hierbei verschiedene Stichprobenteile unabhängig voneinander defekt sind. \n",
    "\n",
    "Die Zufallsvariable $X$ gebe die Anzahl der defekten Kleinteile unter diesen $20$ Teilen an. Unter den\n",
    "genannten Annahmen folgt $X$ einer so genannten Binomialverteilung $X\\sim B(n=20; p=0.1)$. "
   ]
  },
  {
   "cell_type": "code",
   "execution_count": null,
   "id": "6d3b6511",
   "metadata": {},
   "outputs": [],
   "source": []
  },
  {
   "cell_type": "markdown",
   "id": "2565a451",
   "metadata": {},
   "source": [
    "a) Berechnung der Wahrscheinlichkeit, dass **genau 3** defekte Kleinteile in Stichprobe sind: \n",
    "$P(X=3)$"
   ]
  },
  {
   "cell_type": "code",
   "execution_count": null,
   "id": "d30f6942",
   "metadata": {},
   "outputs": [],
   "source": []
  },
  {
   "cell_type": "markdown",
   "id": "2464ebe6",
   "metadata": {},
   "source": [
    "b) ..., dass **höchstens 3** defekte Kleinteile in Stichprobe sind:\n",
    "$P(X\\leq3)$"
   ]
  },
  {
   "cell_type": "code",
   "execution_count": null,
   "id": "89456612",
   "metadata": {},
   "outputs": [],
   "source": []
  },
  {
   "cell_type": "markdown",
   "id": "9eaebf5e",
   "metadata": {},
   "source": [
    "c) ..., dass **mindestens 3** Bauteile defekt sind:\n",
    "$P(X\\geq3)$"
   ]
  },
  {
   "cell_type": "code",
   "execution_count": null,
   "id": "e5672a90",
   "metadata": {},
   "outputs": [],
   "source": []
  },
  {
   "cell_type": "markdown",
   "id": "93e5c326",
   "metadata": {},
   "source": [
    "d) Berechnung des ***Erwartungswerts/ Standardabweichung/ Varianz*** der Zufallsvariablen $X$:"
   ]
  },
  {
   "cell_type": "code",
   "execution_count": null,
   "id": "862ac70d",
   "metadata": {},
   "outputs": [],
   "source": []
  },
  {
   "cell_type": "markdown",
   "id": "1fc29337",
   "metadata": {},
   "source": [
    "### 3.3 Poissonverteilung (auch engl. 'Counting Funktion')\n",
    "Bei der Produktion einer bestimmten Textilart entstehen zufallsbedingt Webfehler. Im Mittel sind es $2$ Webfehler auf $1 m^2$. \n",
    "\n",
    "Sie entnehmen zufällig ein Textilstück von $1 m^2$ und zählen, wie viele Webfehler auf diesem Stück sind. Die Zufallsvariable $X$ gebe die Anzahl festgestellter Webfehler an. \n",
    "\n",
    "Unter den genannten Annahmen folgt $X$ einer so genannten Poissonverteilung $X\\sim P(2)$, dabei ist $\\lambda = 2$ der Erwartungswert von $X$ (mittlere, d. h. erwartete Anzahl von Fehlern)."
   ]
  },
  {
   "cell_type": "code",
   "execution_count": null,
   "id": "e858252e",
   "metadata": {},
   "outputs": [],
   "source": []
  },
  {
   "cell_type": "markdown",
   "id": "bf7bf3a7",
   "metadata": {},
   "source": [
    "a) Berechnung der Wahrscheinlichkeit, dass **genau 3** Webfehler auf einem Textilstück sind:\n",
    "$P(X=3)$"
   ]
  },
  {
   "cell_type": "code",
   "execution_count": null,
   "id": "1eddafd8",
   "metadata": {},
   "outputs": [],
   "source": []
  },
  {
   "cell_type": "markdown",
   "id": "79b8b6e0",
   "metadata": {},
   "source": [
    "b) .., dass **höchstens 3** Webfehler auf einem Textilstück sind:\n",
    "$P(X\\leq3)$"
   ]
  },
  {
   "cell_type": "code",
   "execution_count": null,
   "id": "a04e08e5",
   "metadata": {},
   "outputs": [],
   "source": []
  },
  {
   "cell_type": "markdown",
   "id": "6c95f4ec",
   "metadata": {},
   "source": [
    "c) ..., dass **mindestens 3** Webfehler auf einem Textilstück sind:\n",
    "$P(X\\geq3)$"
   ]
  },
  {
   "cell_type": "code",
   "execution_count": null,
   "id": "66176ca1",
   "metadata": {},
   "outputs": [],
   "source": []
  },
  {
   "cell_type": "markdown",
   "id": "c0d5e02f",
   "metadata": {},
   "source": [
    "*Zusatz: ..., dass **mindestens 2 und höchstens 5** Webfehler auf einem Textilstück sind:*\n",
    "$P(2\\leq X\\leq 5)$"
   ]
  },
  {
   "cell_type": "code",
   "execution_count": null,
   "id": "4274f3d0",
   "metadata": {},
   "outputs": [],
   "source": []
  }
 ],
 "metadata": {
  "kernelspec": {
   "display_name": "Python 3 (ipykernel)",
   "language": "python",
   "name": "python3"
  },
  "language_info": {
   "codemirror_mode": {
    "name": "ipython",
    "version": 3
   },
   "file_extension": ".py",
   "mimetype": "text/x-python",
   "name": "python",
   "nbconvert_exporter": "python",
   "pygments_lexer": "ipython3",
   "version": "3.9.12"
  }
 },
 "nbformat": 4,
 "nbformat_minor": 5
}
