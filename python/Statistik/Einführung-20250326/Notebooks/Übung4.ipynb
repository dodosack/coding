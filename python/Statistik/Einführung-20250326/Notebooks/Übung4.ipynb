{
 "cells": [
  {
   "cell_type": "markdown",
   "id": "6c4f313e",
   "metadata": {},
   "source": [
    "# Einführung Statistiklabor\n",
    "\n",
    "## 4. Übung - Zuckerpackung\n",
    "## Normalverteilung\n",
    "\n",
    "In diesem Beispiel lernen Sie einige Statistik-Funktionen kennen, mit denen man Berechnungen bei der wichtigsten stetigen Wahrscheinlichkeitsverteilung, nämlich der Normalverteilung, durchführen kann. \n",
    "\n",
    "Eine Maschine füllt Zucker in Packungen. Die Füllmenge variiert zufällig. Die Zufallsvariable $X$ gebe die Füllmenge [in $g$] einer zufällig ausgewählten Zuckerpackung an. \n",
    "\n",
    "Wir gehen in diesem Beispiel davon aus dass die Zufallsvariable $X$ einer Normalverteilung $X\\sim N(\\mu=1000;\\sigma^2 9)$\n",
    "folgt. In diesem Beispiel ist also der Erwartungswert der Füllmenge $\\mu =1.000\\,[g]$, Varianz der\n",
    "Füllmenge $\\sigma^2=9\\,[g^2]$ und Standardabweichung der Füllmenge $\\sigma=3\\,[g]$."
   ]
  },
  {
   "cell_type": "markdown",
   "id": "dc893a7e",
   "metadata": {},
   "source": [
    "a) Berechnen Sie die **Wahrscheinlichkeit**, dass die Füllmenge einer zufällig ausgewählten Zuckerpackung bei **höchstens $994\\,g$** liegt.<br>\n",
    "*Die gesuchte Wahrscheinlichkeit $P(X \\leq 994)$ ist ein Wert der Verteilungsfunktion $F(x) = P(X \\leq x)$ für $x = 994$.*"
   ]
  },
  {
   "cell_type": "code",
   "execution_count": null,
   "id": "9e3933fa",
   "metadata": {},
   "outputs": [],
   "source": []
  },
  {
   "cell_type": "code",
   "execution_count": null,
   "id": "cacff434",
   "metadata": {},
   "outputs": [],
   "source": []
  },
  {
   "cell_type": "markdown",
   "id": "4a0b2221",
   "metadata": {},
   "source": [
    "**Zusatz:** Die Wahrscheinlichkeit, dass **mindestens $1.000\\,g$** in der Zuckerpackung enthalten sind:"
   ]
  },
  {
   "cell_type": "code",
   "execution_count": null,
   "id": "3edcb9b9",
   "metadata": {},
   "outputs": [],
   "source": []
  },
  {
   "cell_type": "markdown",
   "id": "445e0458",
   "metadata": {},
   "source": [
    "**Zusatz:** Die Wahrscheinlichkeit, dass das Gewicht **zwischen $999\\,g$ und $1.002\\,g$** liegt:"
   ]
  },
  {
   "cell_type": "code",
   "execution_count": null,
   "id": "3dd81c9c",
   "metadata": {},
   "outputs": [],
   "source": []
  },
  {
   "cell_type": "markdown",
   "id": "93f7de55",
   "metadata": {},
   "source": [
    "b) Berechnen Sie das **1\\%-Quantil** der Normalverteilung $X \\sim N(1000;9)$. Das ist diejenige Füllmenge, die von einer zufällig ausgewählten Zuckerpackung nur mit einer Wahrscheinlichkeit von $0,01$ unterschritten wird. <br>\n",
    "*Die Berechnung von Quantilen ist die Umkehrung der Wahrscheinlichkeitsberechnung. Hierbei wird eine Wahrscheinlichkeit $\\alpha$ vorgegeben und der entsprechende Wert/das Quantil $q_{\\alpha}$ wird gesucht, so dass $P(X \\leq q_{\\alpha}) = \\alpha$.*"
   ]
  },
  {
   "cell_type": "code",
   "execution_count": null,
   "id": "9865bbf0",
   "metadata": {},
   "outputs": [],
   "source": []
  },
  {
   "cell_type": "code",
   "execution_count": null,
   "id": "57f4a13b",
   "metadata": {},
   "outputs": [],
   "source": []
  },
  {
   "cell_type": "markdown",
   "id": "12bee7ca",
   "metadata": {},
   "source": [
    "c) Mit welcher Funktion können die Quantile der so genannten **$t$-Verteilung** berechnet werden? "
   ]
  },
  {
   "cell_type": "code",
   "execution_count": null,
   "id": "2ad68154",
   "metadata": {},
   "outputs": [],
   "source": []
  },
  {
   "cell_type": "markdown",
   "id": "d3d49a09",
   "metadata": {},
   "source": [
    "d) Zeichnen Sie die **Dichtefunktion** der Zufallsvariablen $X$ im Intervall $[990; 1010]$."
   ]
  },
  {
   "cell_type": "code",
   "execution_count": null,
   "id": "f1773b97",
   "metadata": {},
   "outputs": [],
   "source": []
  },
  {
   "cell_type": "markdown",
   "id": "9f4e7fe4",
   "metadata": {},
   "source": [
    "**Zusatz:** Gegenüberstellung der Dichtefunktion der Normalverteilung & t-Verteilung"
   ]
  },
  {
   "cell_type": "code",
   "execution_count": null,
   "id": "c1d87dfe",
   "metadata": {},
   "outputs": [],
   "source": []
  }
 ],
 "metadata": {
  "kernelspec": {
   "display_name": "Python 3 (ipykernel)",
   "language": "python",
   "name": "python3"
  },
  "language_info": {
   "codemirror_mode": {
    "name": "ipython",
    "version": 3
   },
   "file_extension": ".py",
   "mimetype": "text/x-python",
   "name": "python",
   "nbconvert_exporter": "python",
   "pygments_lexer": "ipython3",
   "version": "3.9.12"
  }
 },
 "nbformat": 4,
 "nbformat_minor": 5
}
