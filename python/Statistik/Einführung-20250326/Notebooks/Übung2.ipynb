{
 "cells": [
  {
   "cell_type": "markdown",
   "id": "59916038",
   "metadata": {},
   "source": [
    "# Einführung Statistiklabor \n",
    "# Beispielaufgabe 2 - Weltmaisproduktion\n",
    "\n",
    "Lesen Sie die txt-Datei mit der Weltmaisproduktion ein. Beachten Sie dabei die letzten Zeilen aus dem Dokument zu löschen. \n",
    "\n",
    "Bestimmen Sie anschließend die **Regressionskurve** mit *Koeffizienten*, *Achsenabschnitt* und dem *Korrelationskoeffizienten* (nur für lineare Regression) bzw. das *Bestimmtheitsmaß* $R^2$."
   ]
  },
  {
   "cell_type": "markdown",
   "id": "908ecdbb",
   "metadata": {},
   "source": [
    "## 1. Einlesen der Datei und Datenbereinigung"
   ]
  },
  {
   "cell_type": "code",
   "execution_count": null,
   "id": "1d2e02cd",
   "metadata": {},
   "outputs": [],
   "source": [
    "# Code"
   ]
  },
  {
   "cell_type": "markdown",
   "id": "1a56afae",
   "metadata": {},
   "source": [
    "## 2. Lineare Regression / Lineare Funktion\n",
    "### 2.1 Streudiagramm erstellen"
   ]
  },
  {
   "cell_type": "code",
   "execution_count": null,
   "id": "1623d85c",
   "metadata": {},
   "outputs": [],
   "source": [
    "#Code"
   ]
  },
  {
   "cell_type": "markdown",
   "id": "d65ef89e",
   "metadata": {},
   "source": [
    "### 2.2 Lineares Regressionsmodell bestimmen\n",
    "Die zu bestimmende lineare Funktion soll folgendermaßen lauten:\n",
    "$$y = ax + b$$ mit der Steigung $a$ und dem Achsenabschnitt $b$.\n",
    "\n",
    "$a$ und $b$ werden so angepasst, dass für die Jahre $x$ die geschätzte Maisproduktion $\\hat y$ möglichst gering von der tatsächlichen Produktion $y$ abweicht.\n",
    "\n",
    "Der Abstand zwischen allen $y$ und den zugehörigen geschätzten $\\hat y$ gibt an, wie gut die einzelnen Koeffizienten (Steigung) und der Achsenabschnitt geschätzt wurden und soll möglichst klein sein:\n",
    "$$\\sum\\limits_{i=0}^{n}\\left(y_i-\\hat y_i \\right)^2 \\stackrel{!}{=} min$$"
   ]
  },
  {
   "cell_type": "code",
   "execution_count": null,
   "id": "fb240af8",
   "metadata": {},
   "outputs": [],
   "source": [
    "# Code"
   ]
  },
  {
   "cell_type": "markdown",
   "id": "0767e06b",
   "metadata": {},
   "source": [
    "**Wichtig:** Formatierung der Jahre von Zeilen- in Spaltenvektoren"
   ]
  },
  {
   "cell_type": "code",
   "execution_count": null,
   "id": "916fd0cb",
   "metadata": {},
   "outputs": [],
   "source": [
    "# Code"
   ]
  },
  {
   "cell_type": "markdown",
   "id": "c33eb05c",
   "metadata": {},
   "source": [
    "#### Steigung und Achsenabschnitt erhalten"
   ]
  },
  {
   "cell_type": "code",
   "execution_count": null,
   "id": "1c8ab13c",
   "metadata": {},
   "outputs": [],
   "source": [
    "# Code"
   ]
  },
  {
   "cell_type": "code",
   "execution_count": null,
   "id": "ff5339d4",
   "metadata": {},
   "outputs": [],
   "source": [
    "# Code"
   ]
  },
  {
   "cell_type": "markdown",
   "id": "0ae39d1d",
   "metadata": {},
   "source": [
    "### 2.3 Regressionskurve +Korrelationskoeffizient bestimmen\n",
    "#### Schätzungen der Maisproduktion mithilfe des Modells"
   ]
  },
  {
   "cell_type": "code",
   "execution_count": null,
   "id": "c9cd60f5",
   "metadata": {},
   "outputs": [],
   "source": [
    "# Code"
   ]
  },
  {
   "cell_type": "markdown",
   "id": "7271f9a5",
   "metadata": {},
   "source": [
    "Prognose für das \"nächste\" Jahr 2005:"
   ]
  },
  {
   "cell_type": "code",
   "execution_count": null,
   "id": "412b2e56",
   "metadata": {},
   "outputs": [],
   "source": [
    "# Code"
   ]
  },
  {
   "cell_type": "markdown",
   "id": "54e17ec7",
   "metadata": {},
   "source": [
    "#### Visualisierung der Regressionsgeraden"
   ]
  },
  {
   "cell_type": "code",
   "execution_count": null,
   "id": "7228c175",
   "metadata": {},
   "outputs": [],
   "source": [
    "# Code"
   ]
  },
  {
   "cell_type": "markdown",
   "id": "d01e8175",
   "metadata": {},
   "source": [
    "#### (Pearson/) Linearer Korrelationskoeffizient $r_{xy}$\n",
    "$r_{xy} \\in [-1;1]$"
   ]
  },
  {
   "cell_type": "code",
   "execution_count": null,
   "id": "1e095a54",
   "metadata": {},
   "outputs": [],
   "source": [
    "# Code"
   ]
  },
  {
   "cell_type": "code",
   "execution_count": null,
   "id": "d4697ddd",
   "metadata": {},
   "outputs": [],
   "source": [
    "# Code"
   ]
  },
  {
   "cell_type": "markdown",
   "id": "a4a9fe3d",
   "metadata": {},
   "source": [
    "#### Bestimmtheitsmaß $R^2$ im Gegensatz zum linearen Korrelationskoeffizienten\n",
    "$R^2 \\in [0;1]$\n",
    "\n",
    "**Achtung:** nur im linearen Fall gilt: $R^2 = (r_{xy})^2$"
   ]
  },
  {
   "cell_type": "code",
   "execution_count": null,
   "id": "1e8005cf",
   "metadata": {},
   "outputs": [],
   "source": [
    "# Code"
   ]
  },
  {
   "cell_type": "markdown",
   "id": "ab44add8",
   "metadata": {},
   "source": [
    "## 3. Polynom 2. Grades\n",
    "### 3.1 Preprocessing\n",
    "$y = a_1 \\cdot x^2 + a_2 \\cdot x + b$\n",
    "\n",
    "Da Jahreszahlen quadriert sehr groß werden und somit $a_1$ stärker gewichtet wäre, muss ein Vorverarbeitungsschritt (Preprocessing) eingebaut werden.\n",
    "\n",
    "#### Standardisierung der Jahreszahlen\n",
    "$x_{scaled}=\\frac{x-\\bar x}{s} \\to \\bar x_{scaled} = 0, s_{scaled}=1$"
   ]
  },
  {
   "cell_type": "code",
   "execution_count": null,
   "id": "94cd2f50",
   "metadata": {},
   "outputs": [],
   "source": [
    "# Code"
   ]
  },
  {
   "cell_type": "markdown",
   "id": "9ec038f0",
   "metadata": {},
   "source": [
    "#### Features erzeugen (auch quadriert)"
   ]
  },
  {
   "cell_type": "code",
   "execution_count": null,
   "id": "bbf956cc",
   "metadata": {},
   "outputs": [],
   "source": [
    "# Code"
   ]
  },
  {
   "cell_type": "markdown",
   "id": "e3959287",
   "metadata": {},
   "source": [
    "### 3.2 Modell bestimmen\n",
    "*Modell weiterhin als lineare Regression anlegen, da $x$ und $x^2$ als separate Parameter/Features betrachtet werden können.*"
   ]
  },
  {
   "cell_type": "code",
   "execution_count": null,
   "id": "66fa306e",
   "metadata": {},
   "outputs": [],
   "source": [
    "# Code"
   ]
  },
  {
   "cell_type": "markdown",
   "id": "0b1abc4a",
   "metadata": {},
   "source": [
    "### 3.3 Regressionskurve + Bestimmtheitsmaß bestimmen"
   ]
  },
  {
   "cell_type": "code",
   "execution_count": null,
   "id": "eef550e2",
   "metadata": {},
   "outputs": [],
   "source": [
    "# Code"
   ]
  },
  {
   "cell_type": "code",
   "execution_count": null,
   "id": "7a4d4862",
   "metadata": {},
   "outputs": [],
   "source": [
    "# Code"
   ]
  },
  {
   "cell_type": "markdown",
   "id": "b2527787",
   "metadata": {},
   "source": [
    "## 4. Polynom 6. Grades\n",
    "### 4.1 Modell bestimmen\n",
    "$y = b + a_1 \\cdot x + a_2 \\cdot x^2 + a_3 \\cdot x^3 + a_4 \\cdot x^4 + a_5 \\cdot x^5 + a_6 \\cdot x^6$"
   ]
  },
  {
   "cell_type": "code",
   "execution_count": null,
   "id": "77f8c1e9",
   "metadata": {},
   "outputs": [],
   "source": [
    "# Code"
   ]
  },
  {
   "cell_type": "markdown",
   "id": "93ae83ca",
   "metadata": {},
   "source": [
    "###  4.2 Bestimmheitsmaß bestimmen"
   ]
  },
  {
   "cell_type": "code",
   "execution_count": null,
   "id": "be6cb247",
   "metadata": {},
   "outputs": [],
   "source": [
    "# Code"
   ]
  },
  {
   "cell_type": "markdown",
   "id": "fe731ba2",
   "metadata": {},
   "source": [
    "### 4.3 Regressionskurve zeichnen\n",
    "**Achtung:** Zuerst müssen mehr Jahresdaten erzeugt, da mit nur 9 Datenpunkte (Jahren) das Polynom 6. Grades nicht gut abgebildet werden kann."
   ]
  },
  {
   "cell_type": "code",
   "execution_count": null,
   "id": "4f393b12",
   "metadata": {},
   "outputs": [],
   "source": [
    "# Code"
   ]
  },
  {
   "cell_type": "code",
   "execution_count": null,
   "id": "05b0922d",
   "metadata": {},
   "outputs": [],
   "source": [
    "# Code"
   ]
  },
  {
   "cell_type": "markdown",
   "id": "78690c86",
   "metadata": {},
   "source": [
    "## 5. Regression bestimmen über e-Funktion\n",
    "### 5.1 e-Funktion anlegen\n",
    "$y = a_0 \\cdot {\\rm e}^{a1x}$"
   ]
  },
  {
   "cell_type": "code",
   "execution_count": null,
   "id": "0b6eaf96",
   "metadata": {},
   "outputs": [],
   "source": [
    "# Code"
   ]
  },
  {
   "cell_type": "markdown",
   "id": "5777616b",
   "metadata": {},
   "source": [
    "### 5.2 Regressionskurve fitten\n",
    "Nicht mehr im linearen Fall, deswegen neue Funktion *curve_fit*:"
   ]
  },
  {
   "cell_type": "code",
   "execution_count": null,
   "id": "1c1b728e",
   "metadata": {},
   "outputs": [],
   "source": [
    "# Code"
   ]
  },
  {
   "cell_type": "markdown",
   "id": "8bb6b0a4",
   "metadata": {},
   "source": [
    "### 5.3 Modellschätzungen\n",
    "Maisproduktion mithilfe der bestimmten Koeffizienten für die einzelnen Jahre schätzen:"
   ]
  },
  {
   "cell_type": "code",
   "execution_count": null,
   "id": "6491398f",
   "metadata": {},
   "outputs": [],
   "source": [
    "# Code"
   ]
  },
  {
   "cell_type": "markdown",
   "id": "4db26325",
   "metadata": {},
   "source": [
    "### 5.4 Regressionskurve zeichnen"
   ]
  },
  {
   "cell_type": "code",
   "execution_count": null,
   "id": "b1ca9551",
   "metadata": {},
   "outputs": [],
   "source": [
    "# Code"
   ]
  },
  {
   "cell_type": "markdown",
   "id": "c9abd4e9",
   "metadata": {},
   "source": [
    "### 5.4 Bestimmtheitsmaß $R^2$\n",
    "Für den allgemeinen Fall gilt (a):<br>\n",
    "$$R^2 = \\frac{SQE}{SQT} \n",
    "      = \\frac{\\sum_{i=1}^{n} \\left(\\hat y_i-\\bar{y}\\right)^2}{\\sum_{i=1}^{n} \\left(y_i - \\bar{y}\\right)^2} $$\n",
    "nur für den linearen Fall gilt (b): <br>\n",
    "$$R^2 = 1 - \\frac{\\sum_{i=1}^{n} \\left(y_i-\\hat y_i\\right)^2}{\\sum_{i=1}^{n} \\left(y_i -\\bar{y}\\right)^2}$$"
   ]
  },
  {
   "cell_type": "code",
   "execution_count": null,
   "id": "81de12e7",
   "metadata": {},
   "outputs": [],
   "source": [
    "# Code"
   ]
  },
  {
   "cell_type": "markdown",
   "id": "c28e0f10",
   "metadata": {},
   "source": [
    "## 6. Logarithmus-Funktion\n",
    "### 6.1 Funktion anlegen und Modell fitten\n",
    "eigentliche Funktion: $f(x) = a_0 \\cdot log(x) + a1$, es werden später aber schon die Jahre logarithmiert und von daher sieht die Funktion so aus: $$f(x) = a_0 \\cdot x_{log} + a1$$"
   ]
  },
  {
   "cell_type": "code",
   "execution_count": null,
   "id": "c8b2026f",
   "metadata": {},
   "outputs": [],
   "source": [
    "# Code"
   ]
  },
  {
   "cell_type": "code",
   "execution_count": null,
   "id": "a261875b",
   "metadata": {},
   "outputs": [],
   "source": [
    "# Code"
   ]
  },
  {
   "cell_type": "markdown",
   "id": "7ab43630",
   "metadata": {},
   "source": [
    "### 6.2 Modellschätzung + Bestimmtheitsmaß betimmen"
   ]
  },
  {
   "cell_type": "code",
   "execution_count": null,
   "id": "441c92f4",
   "metadata": {},
   "outputs": [],
   "source": [
    "# Code"
   ]
  },
  {
   "cell_type": "code",
   "execution_count": null,
   "id": "80d1ff41",
   "metadata": {},
   "outputs": [],
   "source": [
    "# Code"
   ]
  },
  {
   "cell_type": "code",
   "execution_count": null,
   "id": "6caa789a",
   "metadata": {},
   "outputs": [],
   "source": [
    "# Code"
   ]
  },
  {
   "cell_type": "markdown",
   "id": "4db196e1",
   "metadata": {},
   "source": [
    "**Zusatz: Bestimmung mithilfe eingebauter Funktion**\n",
    "\n",
    "Über die sklearn-Bibliothek kann eine Funktion zur direkten Bestimmung des Bestimmheitsmaßes geladen und verwendet werden. <br>\n",
    "Dafür werden wieder nur die beobachteten/tatsächlichen **y-Werte und die geschätzten Werte** benötigt und nicht wie über die LinearRegression-Bibiliothek ein **Modell**."
   ]
  },
  {
   "cell_type": "code",
   "execution_count": null,
   "id": "88e4fc14",
   "metadata": {},
   "outputs": [],
   "source": [
    "# Code"
   ]
  }
 ],
 "metadata": {
  "kernelspec": {
   "display_name": "Python 3 (ipykernel)",
   "language": "python",
   "name": "python3"
  },
  "language_info": {
   "codemirror_mode": {
    "name": "ipython",
    "version": 3
   },
   "file_extension": ".py",
   "mimetype": "text/x-python",
   "name": "python",
   "nbconvert_exporter": "python",
   "pygments_lexer": "ipython3",
   "version": "3.10.9"
  }
 },
 "nbformat": 4,
 "nbformat_minor": 5
}
