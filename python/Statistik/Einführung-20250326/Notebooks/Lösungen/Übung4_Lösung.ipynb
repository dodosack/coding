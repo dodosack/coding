{
 "cells": [
  {
   "cell_type": "markdown",
   "id": "6c4f313e",
   "metadata": {},
   "source": [
    "# Einführung Statistiklabor\n",
    "\n",
    "## 4. Übung - Zuckerpackung\n",
    "## Normalverteilung\n",
    "\n",
    "In diesem Beispiel lernen Sie einige Statistik-Funktionen kennen, mit denen man Berechnungen bei der wichtigsten stetigen Wahrscheinlichkeitsverteilung, nämlich der Normalverteilung, durchführen kann. \n",
    "\n",
    "Eine Maschine füllt Zucker in Packungen. Die Füllmenge variiert zufällig. Die Zufallsvariable $X$ gebe die Füllmenge [in $g$] einer zufällig ausgewählten Zuckerpackung an. \n",
    "\n",
    "Wir gehen in diesem Beispiel davon aus dass die Zufallsvariable $X$ einer Normalverteilung $X\\sim N(\\mu=1000;\\sigma^2 9)$\n",
    "folgt. In diesem Beispiel ist also der Erwartungswert der Füllmenge $\\mu =1.000\\,[g]$, Varianz der\n",
    "Füllmenge $\\sigma^2=9\\,[g^2]$ und Standardabweichung der Füllmenge $\\sigma=3\\,[g]$."
   ]
  },
  {
   "cell_type": "markdown",
   "id": "dc893a7e",
   "metadata": {},
   "source": [
    "a) Berechnen Sie die **Wahrscheinlichkeit**, dass die Füllmenge einer zufällig ausgewählten Zuckerpackung bei **höchstens $994\\,g$** liegt.<br>\n",
    "*Die gesuchte Wahrscheinlichkeit $P(X \\leq 994)$ ist ein Wert der Verteilungsfunktion $F(x) = P(X \\leq x)$ für $x = 994$.*"
   ]
  },
  {
   "cell_type": "code",
   "execution_count": 1,
   "id": "9e3933fa",
   "metadata": {},
   "outputs": [],
   "source": [
    "from scipy.stats import norm\n",
    "\n",
    "mu = 1000\n",
    "sigma = 3\n",
    "\n",
    "X = norm(mu, sigma) # ACHTUNG in Python Standardabweichung; NICHT Varianz!"
   ]
  },
  {
   "cell_type": "code",
   "execution_count": 2,
   "id": "cacff434",
   "metadata": {},
   "outputs": [
    {
     "name": "stdout",
     "output_type": "stream",
     "text": [
      "Wahrscheinlichkeit, dass die Füllmenge höchstens 994 g beträgt: p = 0.0228\n"
     ]
    }
   ],
   "source": [
    "X.cdf(994) # cdf = cumulative density function\n",
    "print('Wahrscheinlichkeit, dass die Füllmenge höchstens 994 g beträgt: p = %.4f' %X.cdf(994))"
   ]
  },
  {
   "cell_type": "markdown",
   "id": "4a0b2221",
   "metadata": {},
   "source": [
    "**Zusatz:** Die Wahrscheinlichkeit, dass **mindestens $1.000\\,g$** in der Zuckerpackung enthalten sind:"
   ]
  },
  {
   "cell_type": "code",
   "execution_count": 3,
   "id": "3edcb9b9",
   "metadata": {},
   "outputs": [
    {
     "name": "stdout",
     "output_type": "stream",
     "text": [
      "Wahrscheinlichkeit, dass mindestens 1.000 g in einer Zuckerpackung sind: p = 0.5000\n"
     ]
    }
   ],
   "source": [
    "print('Wahrscheinlichkeit, dass mindestens 1.000 g in einer Zuckerpackung sind: p = %.4f' %(1-X.cdf(1000)))"
   ]
  },
  {
   "cell_type": "markdown",
   "id": "445e0458",
   "metadata": {},
   "source": [
    "**Zusatz:** Die Wahrscheinlichkeit, dass das Gewicht **zwischen $999\\,g$ und $1.002\\,g$** liegt:"
   ]
  },
  {
   "cell_type": "code",
   "execution_count": 4,
   "id": "3dd81c9c",
   "metadata": {},
   "outputs": [
    {
     "name": "stdout",
     "output_type": "stream",
     "text": [
      "Wahrscheinlichkeit, dass das Gewicht zwischen 999 g und 1.002 g liegt: p = 0.3781\n"
     ]
    }
   ],
   "source": [
    "print('Wahrscheinlichkeit, dass das Gewicht zwischen 999 g und 1.002 g liegt: p = %.4f' % (X.cdf(1002)-X.cdf(999)))"
   ]
  },
  {
   "cell_type": "markdown",
   "id": "93f7de55",
   "metadata": {},
   "source": [
    "b) Berechnen Sie das **1\\%-Quantil** der Normalverteilung $X \\sim N(1000;9)$. Das ist diejenige Füllmenge, die von einer zufällig ausgewählten Zuckerpackung nur mit einer Wahrscheinlichkeit von $0,01$ unterschritten wird. <br>\n",
    "*Die Berechnung von Quantilen ist die Umkehrung der Wahrscheinlichkeitsberechnung. Hierbei wird eine Wahrscheinlichkeit $\\alpha$ vorgegeben und der entsprechende Wert/das Quantil $q_{\\alpha}$ wird gesucht, so dass $P(X \\leq q_{\\alpha}) = \\alpha$.*"
   ]
  },
  {
   "cell_type": "code",
   "execution_count": 5,
   "id": "9865bbf0",
   "metadata": {},
   "outputs": [
    {
     "data": {
      "text/plain": [
       "993.021"
      ]
     },
     "execution_count": 5,
     "metadata": {},
     "output_type": "execute_result"
    }
   ],
   "source": [
    "alpha = 0.01\n",
    "# ppf=percentage point function\n",
    "norm.ppf(alpha, loc = mu, scale = sigma).round(4) # Erwartungswert als loc, sowie die Standardabweichung als scale"
   ]
  },
  {
   "cell_type": "code",
   "execution_count": 6,
   "id": "57f4a13b",
   "metadata": {},
   "outputs": [
    {
     "name": "stdout",
     "output_type": "stream",
     "text": [
      "Das 1%-Quantil der Zuckerpackungen beträgt: z = 993.0210 g\n"
     ]
    }
   ],
   "source": [
    "print('Das 1%%-Quantil der Zuckerpackungen beträgt: z = %.4f g' %X.ppf(alpha))"
   ]
  },
  {
   "cell_type": "markdown",
   "id": "12bee7ca",
   "metadata": {},
   "source": [
    "c) Mit welcher Funktion können die Quantile der so genannten **$t$-Verteilung** berechnet werden? "
   ]
  },
  {
   "cell_type": "code",
   "execution_count": 7,
   "id": "2ad68154",
   "metadata": {},
   "outputs": [
    {
     "data": {
      "text/plain": [
       "989.9052"
      ]
     },
     "execution_count": 7,
     "metadata": {},
     "output_type": "execute_result"
    }
   ],
   "source": [
    "from scipy.stats import t\n",
    "\n",
    "df = 5\n",
    "\n",
    "# mit Standardreihenfolge der Argumente, diese nicht extra angeben:\n",
    "#t.ppf(alpha, df, mu, sigma).round(4) # loc=mu, scale=sigma\n",
    "\n",
    "X_t=t(df,mu,sigma)\n",
    "X_t.ppf(alpha).round(4)"
   ]
  },
  {
   "cell_type": "markdown",
   "id": "d3d49a09",
   "metadata": {},
   "source": [
    "d) Zeichnen Sie die **Dichtefunktion** der Zufallsvariablen $X$ im Intervall $[990; 1010]$."
   ]
  },
  {
   "cell_type": "code",
   "execution_count": 8,
   "id": "f1773b97",
   "metadata": {},
   "outputs": [
    {
     "data": {
      "image/png": "[encoded data removed]",
      "text/plain": [
       "<Figure size 432x288 with 1 Axes>"
      ]
     },
     "metadata": {
      "needs_background": "light"
     },
     "output_type": "display_data"
    }
   ],
   "source": [
    "import matplotlib.pyplot as plt\n",
    "import numpy as np\n",
    "\n",
    "x_values = np.arange(990, 1010.05, 0.05) # erzeugen einer Range von 990 bis 1010 in 0.05 Schritten\n",
    "y_values = norm.pdf(x_values, mu, sigma) # pdf=probability density function\n",
    "\n",
    "plt.plot(x_values, y_values, color='r') \n",
    "plt.xlabel('x')\n",
    "plt.ylabel('Dichte f(x)')\n",
    "plt.show()"
   ]
  },
  {
   "cell_type": "markdown",
   "id": "9f4e7fe4",
   "metadata": {},
   "source": [
    "**Zusatz:** Gegenüberstellung der Dichtefunktion der Normalverteilung & t-Verteilung"
   ]
  },
  {
   "cell_type": "code",
   "execution_count": 9,
   "id": "c1d87dfe",
   "metadata": {},
   "outputs": [
    {
     "data": {
      "image/png": "[encoded data removed]",
      "text/plain": [
       "<Figure size 432x288 with 1 Axes>"
      ]
     },
     "metadata": {
      "needs_background": "light"
     },
     "output_type": "display_data"
    }
   ],
   "source": [
    "df = 5\n",
    "t_values = t.pdf(x_values, df, mu, sigma)\n",
    "\n",
    "plt.plot(x_values, y_values, color='r', label='X~N(%i;%i)'%(mu, sigma**2))\n",
    "plt.plot(x_values, t_values, color='g', label='X~t(%i;%i;%i)'%(df, mu, sigma**2))\n",
    "plt.xlabel('x') \n",
    "plt.ylabel('Dichte')\n",
    "plt.legend()\n",
    "plt.show()"
   ]
  }
 ],
 "metadata": {
  "kernelspec": {
   "display_name": "Python 3 (ipykernel)",
   "language": "python",
   "name": "python3"
  },
  "language_info": {
   "codemirror_mode": {
    "name": "ipython",
    "version": 3
   },
   "file_extension": ".py",
   "mimetype": "text/x-python",
   "name": "python",
   "nbconvert_exporter": "python",
   "pygments_lexer": "ipython3",
   "version": "3.9.12"
  }
 },
 "nbformat": 4,
 "nbformat_minor": 5
}
