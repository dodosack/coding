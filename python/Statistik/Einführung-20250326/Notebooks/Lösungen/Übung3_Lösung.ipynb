{
 "cells": [
  {
   "cell_type": "markdown",
   "id": "6c4f313e",
   "metadata": {},
   "source": [
    "# Einführung Statistiklabor\n",
    "\n",
    "## 3. Übung - Diskrete Wahrscheinlichkeitsverteilung (Hypergeometrische, Binomial- & Poissonverteilung)\n",
    "\n",
    "### 3.1 Hypergeometrische Verteilung\n",
    "\n",
    "Sie erhalten eine Lieferung von $50$ elektronischen Bauteilen. Daraus entnehmen Sie eine\n",
    "Stichprobe von $20$ Bauteilen und testen diese $20$ Bauteile auf Funktionsfähigkeit. Die\n",
    "Zufallsvariable $X$ gebe die Anzahl der defekten Bauteile unter den $20$ Bauteilen der\n",
    "Stichprobe an. \n",
    "\n",
    "Angenommen, in der Lieferung sind $5$ defekte elektronische Bauteile. Unter\n",
    "diesen Annahmen folgt $X$ einer so genannten hypergeometrischen Verteilung\n",
    "$X\\sim H(n=20; N=50; m=5)$."
   ]
  },
  {
   "cell_type": "code",
   "execution_count": 1,
   "id": "377e6a8d",
   "metadata": {},
   "outputs": [],
   "source": [
    "from scipy.stats import hypergeom\n",
    "[n, N, m]  = [20, 50, 5]  \n",
    "dist_hyper = hypergeom(N, m, n) # Grundgesamtheit N, Defekte Bauteile m, Stichprobe n\n",
    "#      hypergeom(50,5, 20)"
   ]
  },
  {
   "cell_type": "markdown",
   "id": "d726a634",
   "metadata": {},
   "source": [
    "a) Berechnung der Wahrscheinlichkeit, dass **kein** defektes Bauteil in der Stichprobe ist:\n",
    "$P(X=0)$"
   ]
  },
  {
   "cell_type": "code",
   "execution_count": 2,
   "id": "c7e1fef1",
   "metadata": {},
   "outputs": [
    {
     "data": {
      "text/plain": [
       "0.06725915157922518"
      ]
     },
     "execution_count": 2,
     "metadata": {},
     "output_type": "execute_result"
    }
   ],
   "source": [
    "# pmf: probability mass function; Dichtefunktion bzw. Wahrscheinlichkeitsverteilung\n",
    "dist_hyper.pmf(0)  "
   ]
  },
  {
   "cell_type": "code",
   "execution_count": 3,
   "id": "1e244c69",
   "metadata": {},
   "outputs": [
    {
     "name": "stdout",
     "output_type": "stream",
     "text": [
      "Wahrscheinlichkeit, dass kein Bauteil der Stichprobe defekt ist: P(X=0) = 6.73 %\n"
     ]
    }
   ],
   "source": [
    "print('Wahrscheinlichkeit, dass kein Bauteil der Stichprobe defekt ist: P(X=0) = %.2f' % (dist_hyper.pmf(0)*100), '%')"
   ]
  },
  {
   "cell_type": "markdown",
   "id": "679d1811",
   "metadata": {},
   "source": [
    "b1) ..., dass **genau 1** defektes Bauteil in der Stichprobe ist:\n",
    "$P(X=1)$"
   ]
  },
  {
   "cell_type": "code",
   "execution_count": 4,
   "id": "7461444e",
   "metadata": {},
   "outputs": [
    {
     "name": "stdout",
     "output_type": "stream",
     "text": [
      "P(X=1) = 0.2587\n"
     ]
    }
   ],
   "source": [
    "print('P(X=1) = %.4f' % dist_hyper.pmf(1))"
   ]
  },
  {
   "cell_type": "markdown",
   "id": "2b34ee88",
   "metadata": {},
   "source": [
    "b2) ..., dass **genau 2** Bauteile defekt sind:\n",
    "$P(X=2)$"
   ]
  },
  {
   "cell_type": "code",
   "execution_count": 5,
   "id": "55ce6867",
   "metadata": {},
   "outputs": [
    {
     "name": "stdout",
     "output_type": "stream",
     "text": [
      "P(X=2) = 0.3641\n"
     ]
    }
   ],
   "source": [
    "print('P(X=2) = %.4f' % dist_hyper.pmf(2))"
   ]
  },
  {
   "cell_type": "markdown",
   "id": "8cd7502d",
   "metadata": {},
   "source": [
    "b3) ..., dass **genau 3** Bauteile defekt sind:\n",
    "$P(X=3)$"
   ]
  },
  {
   "cell_type": "code",
   "execution_count": 6,
   "id": "2e6c0b6f",
   "metadata": {},
   "outputs": [
    {
     "name": "stdout",
     "output_type": "stream",
     "text": [
      "P(X=3) = 0.2341\n"
     ]
    }
   ],
   "source": [
    "print('P(X=3) = %.4f' % dist_hyper.pmf(3))"
   ]
  },
  {
   "cell_type": "markdown",
   "id": "dfda1b85",
   "metadata": {},
   "source": [
    "c) ..., dass **höchstens 3** defekte Bauteile in der Stichprobe sind:\n",
    "$P(X\\leq 3)$"
   ]
  },
  {
   "cell_type": "code",
   "execution_count": 7,
   "id": "d902e2f4",
   "metadata": {},
   "outputs": [
    {
     "name": "stdout",
     "output_type": "stream",
     "text": [
      "Wahrscheinlichkeit, dass höchstens 3 defekte Bauteile in der Stichprobe sind: P(X<=3) = 0.9241\n"
     ]
    }
   ],
   "source": [
    "print('Wahrscheinlichkeit, dass höchstens 3 defekte Bauteile in der Stichprobe sind: P(X<=3) = %.4f' \n",
    "      % (dist_hyper.pmf(0)+dist_hyper.pmf(1)+dist_hyper.pmf(2)+dist_hyper.pmf(3)))"
   ]
  },
  {
   "cell_type": "code",
   "execution_count": 8,
   "id": "8672e95a",
   "metadata": {},
   "outputs": [
    {
     "name": "stdout",
     "output_type": "stream",
     "text": [
      "P(X<=3) = 0.9241\n"
     ]
    }
   ],
   "source": [
    "print('P(X<=3) = %.4f' % dist_hyper.cdf(3))"
   ]
  },
  {
   "cell_type": "markdown",
   "id": "37749de4",
   "metadata": {},
   "source": [
    "*Zusatz: ..., dass **höchstens 5** defekte Bauteile in der Stichprobe sind:*\n",
    "$P(X\\leq5)$"
   ]
  },
  {
   "cell_type": "code",
   "execution_count": 9,
   "id": "8a9eb666",
   "metadata": {},
   "outputs": [
    {
     "name": "stdout",
     "output_type": "stream",
     "text": [
      "P(X<=5) = 1.0000\n"
     ]
    }
   ],
   "source": [
    "print('P(X<=5) = %.4f' % dist_hyper.cdf(5))"
   ]
  },
  {
   "cell_type": "code",
   "execution_count": 10,
   "id": "d5cc2b0d",
   "metadata": {},
   "outputs": [
    {
     "name": "stdout",
     "output_type": "stream",
     "text": [
      "P(X<=5) = 1.0000\n"
     ]
    }
   ],
   "source": [
    "# Alternative: Berechnung über for Schleife\n",
    "wahr = 0 \n",
    "for k in range(6):   # Wichtig: range(4) geht von 0 bis 3 (nicht 4)\n",
    "    wahr += dist_hyper.pmf(k)\n",
    "print('P(X<=5) = %.4f' % wahr)"
   ]
  },
  {
   "cell_type": "code",
   "execution_count": 11,
   "id": "c4023d18",
   "metadata": {},
   "outputs": [
    {
     "name": "stdout",
     "output_type": "stream",
     "text": [
      "P(X<=5) = 1.0000\n"
     ]
    }
   ],
   "source": [
    "# ALternative: Berechnung über array als Input\n",
    "x = range(6)\n",
    "\n",
    "print('P(X<=5) = %.4f' % dist_hyper.pmf(x).sum())"
   ]
  },
  {
   "cell_type": "markdown",
   "id": "ad7279c2",
   "metadata": {},
   "source": [
    "### 3.2 Binomialverteilung\n",
    "\n",
    "Bei der Massenproduktion bestimmter elektronischer Kleinteile entsteht eine Ausschussquote von\n",
    "$10\\,\\%$. Sie entnehmen der laufenden Produktion eine Stichprobe vom Umfang $20$. Man kann davon\n",
    "ausgehen, dass hierbei verschiedene Stichprobenteile unabhängig voneinander defekt sind. \n",
    "\n",
    "Die Zufallsvariable $X$ gebe die Anzahl der defekten Kleinteile unter diesen $20$ Teilen an. Unter den\n",
    "genannten Annahmen folgt $X$ einer so genannten Binomialverteilung $X\\sim B(n=20; p=0.1)$. "
   ]
  },
  {
   "cell_type": "code",
   "execution_count": 12,
   "id": "6d3b6511",
   "metadata": {},
   "outputs": [],
   "source": [
    "from scipy.stats import binom\n",
    "\n",
    "[n, p]   = [20, 0.1]\n",
    "dist_bin = binom(n, p)"
   ]
  },
  {
   "cell_type": "markdown",
   "id": "2565a451",
   "metadata": {},
   "source": [
    "a) Berechnung der Wahrscheinlichkeit, dass **genau 3** defekte Kleinteile in Stichprobe sind: \n",
    "$P(X=3)$"
   ]
  },
  {
   "cell_type": "code",
   "execution_count": 13,
   "id": "d30f6942",
   "metadata": {},
   "outputs": [
    {
     "name": "stdout",
     "output_type": "stream",
     "text": [
      "P(X=3) = 19.01 %\n"
     ]
    }
   ],
   "source": [
    "print('P(X=3) = %.2f' % (dist_bin.pmf(3)*100), '%')"
   ]
  },
  {
   "cell_type": "markdown",
   "id": "2464ebe6",
   "metadata": {},
   "source": [
    "b) ..., dass **höchstens 3** defekte Kleinteile in Stichprobe sind:\n",
    "$P(X\\leq3)$"
   ]
  },
  {
   "cell_type": "code",
   "execution_count": 14,
   "id": "89456612",
   "metadata": {},
   "outputs": [
    {
     "name": "stdout",
     "output_type": "stream",
     "text": [
      "P(X<=3) = 0.8670\n"
     ]
    }
   ],
   "source": [
    "print('P(X<=3) = %1.4f' % dist_bin.cdf(3))"
   ]
  },
  {
   "cell_type": "markdown",
   "id": "9eaebf5e",
   "metadata": {},
   "source": [
    "c) ..., dass **mindestens 3** Bauteile defekt sind:\n",
    "$P(X\\geq3)$"
   ]
  },
  {
   "cell_type": "code",
   "execution_count": 15,
   "id": "e5672a90",
   "metadata": {},
   "outputs": [
    {
     "name": "stdout",
     "output_type": "stream",
     "text": [
      "Wahrscheinlichkeit, dass mind. 3 Bauteile defekt sind: P(X>=3)=32.31 %\n"
     ]
    }
   ],
   "source": [
    "print('Wahrscheinlichkeit, dass mind. 3 Bauteile defekt sind: P(X>=3)=%.2f'\n",
    "     % ((1-dist_bin.cdf(2))*100), '%')"
   ]
  },
  {
   "cell_type": "markdown",
   "id": "93e5c326",
   "metadata": {},
   "source": [
    "d) Berechnung des ***Erwartungswerts/ Standardabweichung/ Varianz*** der Zufallsvariablen $X$:"
   ]
  },
  {
   "cell_type": "code",
   "execution_count": 16,
   "id": "862ac70d",
   "metadata": {},
   "outputs": [
    {
     "name": "stdout",
     "output_type": "stream",
     "text": [
      "Erwartungswert: 2.0\n",
      "Standardabweichung: 1.3416\n",
      "Varianz: 1.8000\n"
     ]
    }
   ],
   "source": [
    "print('Erwartungswert: ' + str(dist_bin.mean())) # Erwartungswert*0.1 = 2\n",
    "print('Standardabweichung: %.4f' % dist_bin.std())  # Standardabweichung\n",
    "print('Varianz: %.4f' % dist_bin.var())  # Varianz der Zufallsvariable"
   ]
  },
  {
   "cell_type": "markdown",
   "id": "1fc29337",
   "metadata": {},
   "source": [
    "### 3.3 Poissonverteilung (auch engl. 'Counting Funktion')\n",
    "Bei der Produktion einer bestimmten Textilart entstehen zufallsbedingt Webfehler. Im Mittel sind es $2$ Webfehler auf $1 m^2$. \n",
    "\n",
    "Sie entnehmen zufällig ein Textilstück von $1 m^2$ und zählen, wie viele Webfehler auf diesem Stück sind. Die Zufallsvariable $X$ gebe die Anzahl festgestellter Webfehler an. \n",
    "\n",
    "Unter den genannten Annahmen folgt $X$ einer so genannten Poissonverteilung $X\\sim P(2)$, dabei ist $\\lambda = 2$ der Erwartungswert von $X$ (mittlere, d. h. erwartete Anzahl von Fehlern)."
   ]
  },
  {
   "cell_type": "code",
   "execution_count": 17,
   "id": "e858252e",
   "metadata": {},
   "outputs": [],
   "source": [
    "from scipy.stats import poisson\n",
    "\n",
    "labda    = 2 \n",
    "dist_poi = poisson(labda)\n",
    "#dist_poi = poisson(2)"
   ]
  },
  {
   "cell_type": "markdown",
   "id": "bf7bf3a7",
   "metadata": {},
   "source": [
    "a) Berechnung der Wahrscheinlichkeit, dass **genau 3** Webfehler auf einem Textilstück sind:\n",
    "$P(X=3)$"
   ]
  },
  {
   "cell_type": "code",
   "execution_count": 18,
   "id": "1eddafd8",
   "metadata": {},
   "outputs": [
    {
     "name": "stdout",
     "output_type": "stream",
     "text": [
      "P(X=3)=0.1804\n"
     ]
    }
   ],
   "source": [
    "print('P(X=3)=%.4f' % dist_poi.pmf(3))"
   ]
  },
  {
   "cell_type": "markdown",
   "id": "79b8b6e0",
   "metadata": {},
   "source": [
    "b) .., dass **höchstens 3** Webfehler auf einem Textilstück sind:\n",
    "$P(X\\leq3)$"
   ]
  },
  {
   "cell_type": "code",
   "execution_count": 19,
   "id": "a04e08e5",
   "metadata": {},
   "outputs": [
    {
     "name": "stdout",
     "output_type": "stream",
     "text": [
      "P(X<=3)=0.8571\n"
     ]
    }
   ],
   "source": [
    "print('P(X<=3)=%.4f' % dist_poi.cdf(3))"
   ]
  },
  {
   "cell_type": "markdown",
   "id": "6c95f4ec",
   "metadata": {},
   "source": [
    "c) ..., dass **mindestens 3** Webfehler auf einem Textilstück sind:\n",
    "$P(X\\geq3)$"
   ]
  },
  {
   "cell_type": "code",
   "execution_count": 20,
   "id": "66176ca1",
   "metadata": {},
   "outputs": [
    {
     "name": "stdout",
     "output_type": "stream",
     "text": [
      "P(X>=3)=0.3233\n"
     ]
    }
   ],
   "source": [
    "print('P(X>=3)=%.4f' % (1-dist_poi.cdf(2)))"
   ]
  },
  {
   "cell_type": "markdown",
   "id": "c0d5e02f",
   "metadata": {},
   "source": [
    "*Zusatz: ..., dass **mindestens 2 und höchstens 5** Webfehler auf einem Textilstück sind:*\n",
    "$P(2\\leq X\\leq 5)$"
   ]
  },
  {
   "cell_type": "code",
   "execution_count": 21,
   "id": "4274f3d0",
   "metadata": {},
   "outputs": [
    {
     "data": {
      "text/plain": [
       "0.5774305418095476"
      ]
     },
     "execution_count": 21,
     "metadata": {},
     "output_type": "execute_result"
    }
   ],
   "source": [
    "dist_poi.cdf(5)-dist_poi.cdf(1)"
   ]
  }
 ],
 "metadata": {
  "kernelspec": {
   "display_name": "Python 3 (ipykernel)",
   "language": "python",
   "name": "python3"
  },
  "language_info": {
   "codemirror_mode": {
    "name": "ipython",
    "version": 3
   },
   "file_extension": ".py",
   "mimetype": "text/x-python",
   "name": "python",
   "nbconvert_exporter": "python",
   "pygments_lexer": "ipython3",
   "version": "3.9.12"
  }
 },
 "nbformat": 4,
 "nbformat_minor": 5
}
