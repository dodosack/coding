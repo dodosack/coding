{
 "cells": [
  {
   "cell_type": "markdown",
   "id": "59916038",
   "metadata": {},
   "source": [
    "# Einführung Statistiklabor \n",
    "# Beispielaufgabe 2 - Weltmaisproduktion\n",
    "\n",
    "Lesen Sie die txt-Datei mit der Weltmaisproduktion ein. Beachten Sie dabei die letzten Zeilen aus dem Dokument zu löschen. \n",
    "\n",
    "Bestimmen Sie anschließend die **Regressionskurve** mit *Koeffizienten*, *Achsenabschnitt* und dem *Korrelationskoeffizienten* (nur für lineare Regression) bzw. das *Bestimmtheitsmaß* $R^2$."
   ]
  },
  {
   "cell_type": "markdown",
   "id": "908ecdbb",
   "metadata": {},
   "source": [
    "## 1. Einlesen der Datei und Datenbereinigung"
   ]
  },
  {
   "cell_type": "code",
   "execution_count": 1,
   "id": "1d2e02cd",
   "metadata": {},
   "outputs": [
    {
     "data": {
      "text/html": [
       "<div>\n",
       "<style scoped>\n",
       "    .dataframe tbody tr th:only-of-type {\n",
       "        vertical-align: middle;\n",
       "    }\n",
       "\n",
       "    .dataframe tbody tr th {\n",
       "        vertical-align: top;\n",
       "    }\n",
       "\n",
       "    .dataframe thead th {\n",
       "        text-align: right;\n",
       "    }\n",
       "</style>\n",
       "<table border=\"1\" class=\"dataframe\">\n",
       "  <thead>\n",
       "    <tr style=\"text-align: right;\">\n",
       "      <th></th>\n",
       "      <th>Jahr</th>\n",
       "      <th>Maisproduktion</th>\n",
       "    </tr>\n",
       "  </thead>\n",
       "  <tbody>\n",
       "    <tr>\n",
       "      <th>0</th>\n",
       "      <td>1960</td>\n",
       "      <td>220.0</td>\n",
       "    </tr>\n",
       "    <tr>\n",
       "      <th>1</th>\n",
       "      <td>1970</td>\n",
       "      <td>300.0</td>\n",
       "    </tr>\n",
       "    <tr>\n",
       "      <th>2</th>\n",
       "      <td>1980</td>\n",
       "      <td>420.0</td>\n",
       "    </tr>\n",
       "    <tr>\n",
       "      <th>3</th>\n",
       "      <td>1990</td>\n",
       "      <td>520.0</td>\n",
       "    </tr>\n",
       "    <tr>\n",
       "      <th>4</th>\n",
       "      <td>2000</td>\n",
       "      <td>590.0</td>\n",
       "    </tr>\n",
       "    <tr>\n",
       "      <th>5</th>\n",
       "      <td>2001</td>\n",
       "      <td>614.0</td>\n",
       "    </tr>\n",
       "    <tr>\n",
       "      <th>6</th>\n",
       "      <td>2002</td>\n",
       "      <td>602.0</td>\n",
       "    </tr>\n",
       "    <tr>\n",
       "      <th>7</th>\n",
       "      <td>2003</td>\n",
       "      <td>640.0</td>\n",
       "    </tr>\n",
       "    <tr>\n",
       "      <th>8</th>\n",
       "      <td>2004</td>\n",
       "      <td>705.0</td>\n",
       "    </tr>\n",
       "  </tbody>\n",
       "</table>\n",
       "</div>"
      ],
      "text/plain": [
       "   Jahr  Maisproduktion\n",
       "0  1960           220.0\n",
       "1  1970           300.0\n",
       "2  1980           420.0\n",
       "3  1990           520.0\n",
       "4  2000           590.0\n",
       "5  2001           614.0\n",
       "6  2002           602.0\n",
       "7  2003           640.0\n",
       "8  2004           705.0"
      ]
     },
     "execution_count": 1,
     "metadata": {},
     "output_type": "execute_result"
    }
   ],
   "source": [
    "import pandas as ps\n",
    "\n",
    "data = ps.read_csv(r'.\\Maisproduktion.txt', sep='\\t') # hier korrigierte Verion (ohne Fußzeilen in txt-Datei) verwenden\n",
    "\n",
    "# Datenbereinigung optional:\n",
    "data = data.drop([9], axis=0)                # Löschen überflüssiger Zeilen\n",
    "del data['Unnamed: 2']                       # Löschen überflüssiger Spalten\n",
    "del data['Unnamed: 3']\n",
    "\n",
    "# data['Jahr'] # zum Überprüfen des Datentyps einmal nur diese Spalte anzeigen lassen\n",
    "data['Jahr'] = data['Jahr'].astype(int) # falls Typ float bei Jahr statt int ist, dann Typ-Umwandlung\n",
    "\n",
    "data"
   ]
  },
  {
   "cell_type": "markdown",
   "id": "1a56afae",
   "metadata": {},
   "source": [
    "## 2. Lineare Regression / Lineare Funktion\n",
    "### 2.1 Streudiagramm erstellen"
   ]
  },
  {
   "cell_type": "code",
   "execution_count": 2,
   "id": "1623d85c",
   "metadata": {},
   "outputs": [
    {
     "data": {
      "image/png": "[encoded data removed]",
      "text/plain": [
       "<Figure size 640x480 with 1 Axes>"
      ]
     },
     "metadata": {},
     "output_type": "display_data"
    }
   ],
   "source": [
    "import matplotlib.pyplot as plt\n",
    "\n",
    "plt.scatter(data['Jahr'], data['Maisproduktion'], marker='x')\n",
    "\n",
    "plt.xlabel('Jahr')\n",
    "plt.ylabel('Maisproduktion [Mio. Tonnen]')\n",
    "plt.title('Maisproduktion in Mio. Tonnen seit 1960')\n",
    "\n",
    "plt.show()"
   ]
  },
  {
   "cell_type": "markdown",
   "id": "d65ef89e",
   "metadata": {},
   "source": [
    "### 2.2 Lineares Regressionsmodell bestimmen\n",
    "Die zu bestimmende lineare Funktion soll folgendermaßen lauten:\n",
    "$$y = ax + b$$ mit der Steigung $a$ und dem Achsenabschnitt $b$.\n",
    "\n",
    "$a$ und $b$ werden so angepasst, dass für die Jahre $x$ die geschätzte Maisproduktion $\\hat y$ möglichst gering von der tatsächlichen Produktion $y$ abweicht.\n",
    "\n",
    "Der Abstand zwischen allen $y$ und den zugehörigen geschätzten $\\hat y$ gibt an, wie gut die einzelnen Koeffizienten (Steigung) und der Achsenabschnitt geschätzt wurden und soll möglichst klein sein:\n",
    "$$\\sum\\limits_{i=0}^{n}\\left(y_i-\\hat y_i \\right)^2 \\stackrel{!}{=} min$$"
   ]
  },
  {
   "cell_type": "code",
   "execution_count": 3,
   "id": "fb240af8",
   "metadata": {},
   "outputs": [],
   "source": [
    "from sklearn.linear_model import LinearRegression\n",
    "\n",
    "# Anlegen (einer Hülle für das) lineare Regressionsmodell\n",
    "mais_model = LinearRegression()\n",
    "# mais_model.fit(data['Jahr'], data['Maisproduktion']) # geht nicht, da Daten im falschen Format vorliegen"
   ]
  },
  {
   "cell_type": "markdown",
   "id": "0767e06b",
   "metadata": {},
   "source": [
    "**Wichtig:** Formatierung der Jahre von Zeilen- in Spaltenvektoren"
   ]
  },
  {
   "cell_type": "code",
   "execution_count": 4,
   "id": "916fd0cb",
   "metadata": {},
   "outputs": [
    {
     "data": {
      "text/plain": [
       "LinearRegression()"
      ]
     },
     "execution_count": 4,
     "metadata": {},
     "output_type": "execute_result"
    }
   ],
   "source": [
    "import numpy as np\n",
    "# Umformatierung der Jahre in Spaltenvektor notwendig, da nur ein Merkmal mit mehreren Beobachtungen vorliegt\n",
    "## es könnten auch mehrere Merkmale wie Sonneneinstrahlung, Bodenbeschaffenheit, ... vorliegen\n",
    "x = data['Jahr'].to_numpy().reshape(-1,1) \n",
    "\n",
    "mais_model.fit(x, data['Maisproduktion']) # Schätzen des linearen Regressionsmodells --> a, b"
   ]
  },
  {
   "cell_type": "markdown",
   "id": "c33eb05c",
   "metadata": {},
   "source": [
    "#### Steigung und Achsenabschnitt erhalten"
   ]
  },
  {
   "cell_type": "code",
   "execution_count": 5,
   "id": "1c8ab13c",
   "metadata": {},
   "outputs": [
    {
     "data": {
      "text/plain": [
       "-19357.769953051644"
      ]
     },
     "execution_count": 5,
     "metadata": {},
     "output_type": "execute_result"
    }
   ],
   "source": [
    "mais_model.coef_ # array mit Koeffizienten --> Steigung bzw. a\n",
    "mais_model.intercept_  # Achsenabschnitt (b)"
   ]
  },
  {
   "cell_type": "code",
   "execution_count": 6,
   "id": "ff5339d4",
   "metadata": {},
   "outputs": [
    {
     "name": "stdout",
     "output_type": "stream",
     "text": [
      "Die Gleichung der Regressionsgeraden für die Weltmaisproduktion lautet: y = 9.98x -19357.77\n"
     ]
    }
   ],
   "source": [
    "print('Die Gleichung der Regressionsgeraden für die Weltmaisproduktion lautet: y = %.2fx %.2f' \n",
    "      %(mais_model.coef_, mais_model.intercept_))"
   ]
  },
  {
   "cell_type": "markdown",
   "id": "0ae39d1d",
   "metadata": {},
   "source": [
    "### 2.3 Regressionskurve +Korrelationskoeffizient bestimmen\n",
    "#### Schätzungen der Maisproduktion mithilfe des Modells"
   ]
  },
  {
   "cell_type": "code",
   "execution_count": 7,
   "id": "c9cd60f5",
   "metadata": {},
   "outputs": [
    {
     "data": {
      "text/plain": [
       "array([212.78403756, 312.63380282, 412.48356808, 512.33333333,\n",
       "       612.18309859, 622.16807512, 632.15305164, 642.13802817,\n",
       "       652.12300469])"
      ]
     },
     "execution_count": 7,
     "metadata": {},
     "output_type": "execute_result"
    }
   ],
   "source": [
    "y_predict = mais_model.predict(x) # Schätzung mithilfe des Modells der Maisproduktion der bisherigen Produktionsjahre\n",
    "y_predict "
   ]
  },
  {
   "cell_type": "markdown",
   "id": "7271f9a5",
   "metadata": {},
   "source": [
    "Prognose für das \"nächste\" Jahr 2005:"
   ]
  },
  {
   "cell_type": "code",
   "execution_count": 8,
   "id": "412b2e56",
   "metadata": {},
   "outputs": [
    {
     "data": {
      "text/plain": [
       "array([662.10798122])"
      ]
     },
     "execution_count": 8,
     "metadata": {},
     "output_type": "execute_result"
    }
   ],
   "source": [
    "mais_model.predict([[2005]])"
   ]
  },
  {
   "cell_type": "markdown",
   "id": "54e17ec7",
   "metadata": {},
   "source": [
    "#### Visualisierung der Regressionsgeraden"
   ]
  },
  {
   "cell_type": "code",
   "execution_count": 9,
   "id": "7228c175",
   "metadata": {},
   "outputs": [
    {
     "data": {
      "image/png": "[encoded data removed]",
      "text/plain": [
       "<Figure size 640x480 with 1 Axes>"
      ]
     },
     "metadata": {},
     "output_type": "display_data"
    }
   ],
   "source": [
    "plt.scatter(data['Jahr'], data['Maisproduktion'], marker='x')\n",
    "\n",
    "plt.plot(data['Jahr'], y_predict, color='red') #linewidth=3\n",
    "\n",
    "plt.xlabel('Jahr')\n",
    "plt.ylabel('Mio. Tonnen')\n",
    "plt.title('Weltmaisproduktion')\n",
    "plt.show()"
   ]
  },
  {
   "cell_type": "markdown",
   "id": "d01e8175",
   "metadata": {},
   "source": [
    "#### (Pearson/) Linearer Korrelationskoeffizient $r_{xy}$\n",
    "$r_{xy} \\in [-1;1]$"
   ]
  },
  {
   "cell_type": "code",
   "execution_count": 10,
   "id": "1e095a54",
   "metadata": {},
   "outputs": [
    {
     "data": {
      "text/plain": [
       "array([[1.        , 0.98935241],\n",
       "       [0.98935241, 1.        ]])"
      ]
     },
     "execution_count": 10,
     "metadata": {},
     "output_type": "execute_result"
    }
   ],
   "source": [
    "np.corrcoef(data['Jahr'], data['Maisproduktion'])"
   ]
  },
  {
   "cell_type": "code",
   "execution_count": 11,
   "id": "d4697ddd",
   "metadata": {},
   "outputs": [
    {
     "name": "stdout",
     "output_type": "stream",
     "text": [
      "Der lineare Korrelationskoeffizient für das Jahr mit der Maisproduktion lautet: 0.9894\n"
     ]
    }
   ],
   "source": [
    "rxy = np.corrcoef(data['Jahr'], data['Maisproduktion'])[0,1]\n",
    "\n",
    "print('Der lineare Korrelationskoeffizient für das Jahr mit der Maisproduktion lautet: %.4f' \n",
    "      %rxy)"
   ]
  },
  {
   "cell_type": "markdown",
   "id": "a4a9fe3d",
   "metadata": {},
   "source": [
    "#### Bestimmtheitsmaß $R^2$ im Gegensatz zum linearen Korrelationskoeffizienten\n",
    "$R^2 \\in [0;1]$\n",
    "\n",
    "**Achtung:** nur im linearen Fall gilt: $R^2 = (r_{xy})^2$"
   ]
  },
  {
   "cell_type": "code",
   "execution_count": 12,
   "id": "1e8005cf",
   "metadata": {},
   "outputs": [
    {
     "data": {
      "text/plain": [
       "0.978818197013097"
      ]
     },
     "execution_count": 12,
     "metadata": {},
     "output_type": "execute_result"
    }
   ],
   "source": [
    "mais_model.score(x, data['Maisproduktion'])#.round(4)"
   ]
  },
  {
   "cell_type": "markdown",
   "id": "ab44add8",
   "metadata": {},
   "source": [
    "## 3. Polynom 2. Grades\n",
    "### 3.1 Preprocessing\n",
    "$y = a_1 \\cdot x^2 + a_2 \\cdot x + b$\n",
    "\n",
    "Da Jahreszahlen quadriert sehr groß werden und somit $a_1$ stärker gewichtet wäre, muss ein Vorverarbeitungsschritt (Preprocessing) eingebaut werden.\n",
    "\n",
    "#### Standardisierung der Jahreszahlen\n",
    "$x_{scaled}=\\frac{x-\\bar x}{s} \\to \\bar x_{scaled} = 0, s_{scaled}=1$"
   ]
  },
  {
   "cell_type": "code",
   "execution_count": 13,
   "id": "94cd2f50",
   "metadata": {},
   "outputs": [
    {
     "data": {
      "text/plain": [
       "array([[-1.95008126],\n",
       "       [-1.30005417],\n",
       "       [-0.65002709],\n",
       "       [ 0.        ],\n",
       "       [ 0.65002709],\n",
       "       [ 0.71502979],\n",
       "       [ 0.7800325 ],\n",
       "       [ 0.84503521],\n",
       "       [ 0.91003792]])"
      ]
     },
     "execution_count": 13,
     "metadata": {},
     "output_type": "execute_result"
    }
   ],
   "source": [
    "from sklearn.preprocessing import StandardScaler\n",
    "\n",
    "x_scaled = StandardScaler().fit_transform(x)\n",
    "x_scaled"
   ]
  },
  {
   "cell_type": "markdown",
   "id": "9ec038f0",
   "metadata": {},
   "source": [
    "#### Features erzeugen (auch quadriert)"
   ]
  },
  {
   "cell_type": "code",
   "execution_count": 14,
   "id": "bbf956cc",
   "metadata": {},
   "outputs": [
    {
     "data": {
      "text/plain": [
       "array([[-1.95008126,  3.8028169 ],\n",
       "       [-1.30005417,  1.69014085],\n",
       "       [-0.65002709,  0.42253521],\n",
       "       [ 0.        ,  0.        ],\n",
       "       [ 0.65002709,  0.42253521],\n",
       "       [ 0.71502979,  0.51126761],\n",
       "       [ 0.7800325 ,  0.6084507 ],\n",
       "       [ 0.84503521,  0.71408451],\n",
       "       [ 0.91003792,  0.82816901]])"
      ]
     },
     "execution_count": 14,
     "metadata": {},
     "output_type": "execute_result"
    }
   ],
   "source": [
    "from sklearn.preprocessing import PolynomialFeatures\n",
    "\n",
    "quad_jahr = PolynomialFeatures(degree=2, include_bias=False).fit_transform(x_scaled)\n",
    "# mit bias=True wäre 1. Spalte für Schätzung von b dabei; Steigung/Offset soll aber seperat geschätzt werden (aktuell überall 1)\n",
    "quad_jahr"
   ]
  },
  {
   "cell_type": "markdown",
   "id": "e3959287",
   "metadata": {},
   "source": [
    "### 3.2 Modell bestimmen\n",
    "*Modell weiterhin als lineare Regression anlegen, da $x$ und $x^2$ als separate Parameter/Features betrachtet werden können.*"
   ]
  },
  {
   "cell_type": "code",
   "execution_count": 15,
   "id": "66fa306e",
   "metadata": {},
   "outputs": [
    {
     "data": {
      "text/plain": [
       "507.8632607341388"
      ]
     },
     "execution_count": 15,
     "metadata": {},
     "output_type": "execute_result"
    }
   ],
   "source": [
    "quad_mais_model = LinearRegression()\n",
    "quad_mais_model.fit(quad_jahr, data['Maisproduktion'])\n",
    "\n",
    "quad_mais_model.coef_              # erste Stelle a_2, zweite a_1\n",
    "quad_mais_model.intercept_         # gibt bias/Steigung an (b)"
   ]
  },
  {
   "cell_type": "markdown",
   "id": "0b1abc4a",
   "metadata": {},
   "source": [
    "### 3.3 Regressionskurve + Bestimmtheitsmaß bestimmen"
   ]
  },
  {
   "cell_type": "code",
   "execution_count": 16,
   "id": "eef550e2",
   "metadata": {},
   "outputs": [
    {
     "data": {
      "image/png": "[encoded data removed]",
      "text/plain": [
       "<Figure size 640x480 with 1 Axes>"
      ]
     },
     "metadata": {},
     "output_type": "display_data"
    }
   ],
   "source": [
    "quad_mais_predict = quad_mais_model.predict(quad_jahr) # Schätzung der Maisproduktion mithilfe des Modells\n",
    "\n",
    "plt.scatter(data['Jahr'], data['Maisproduktion'], marker='x')\n",
    "plt.plot(x,quad_mais_predict,color='red')\n",
    "\n",
    "plt.xlabel('Jahr')\n",
    "plt.ylabel('Mio. Tonnen')\n",
    "plt.title('Steudiagramm der Weltmaisproduktion')\n",
    "plt.show()"
   ]
  },
  {
   "cell_type": "code",
   "execution_count": 17,
   "id": "7a4d4862",
   "metadata": {},
   "outputs": [
    {
     "name": "stdout",
     "output_type": "stream",
     "text": [
      "Das Bestimmtheitsmaß lautet: 0.9792\n"
     ]
    }
   ],
   "source": [
    "r_sqr_quad = quad_mais_model.score(quad_jahr, data['Maisproduktion'])\n",
    "print('Das Bestimmtheitsmaß lautet: %.4f' % r_sqr_quad)"
   ]
  },
  {
   "cell_type": "markdown",
   "id": "b2527787",
   "metadata": {},
   "source": [
    "## 4. Polynom 6. Grades\n",
    "### 4.1 Modell bestimmen\n",
    "$y = b + a_1 \\cdot x + a_2 \\cdot x^2 + a_3 \\cdot x^3 + a_4 \\cdot x^4 + a_5 \\cdot x^5 + a_6 \\cdot x^6$"
   ]
  },
  {
   "cell_type": "code",
   "execution_count": 18,
   "id": "77f8c1e9",
   "metadata": {},
   "outputs": [
    {
     "data": {
      "text/plain": [
       "519.8557165986173"
      ]
     },
     "execution_count": 18,
     "metadata": {},
     "output_type": "execute_result"
    }
   ],
   "source": [
    "six_jahr = PolynomialFeatures(degree=6, include_bias=False).fit_transform(x_scaled)\n",
    "\n",
    "six_mais_model = LinearRegression()\n",
    "six_mais_model.fit(six_jahr, data['Maisproduktion']) # Maisdaten sind die y Werte\n",
    "\n",
    "six_mais_model.coef_\n",
    "six_mais_model.intercept_"
   ]
  },
  {
   "cell_type": "markdown",
   "id": "93ae83ca",
   "metadata": {},
   "source": [
    "###  4.2 Bestimmheitsmaß bestimmen"
   ]
  },
  {
   "cell_type": "code",
   "execution_count": 19,
   "id": "be6cb247",
   "metadata": {},
   "outputs": [
    {
     "name": "stdout",
     "output_type": "stream",
     "text": [
      "Das Bestimmtheitsmaß lautet: 0.9982\n"
     ]
    }
   ],
   "source": [
    "r_sqr_q = six_mais_model.score(six_jahr, data['Maisproduktion'])\n",
    "print('Das Bestimmtheitsmaß lautet: %.4f' % r_sqr_q)"
   ]
  },
  {
   "cell_type": "markdown",
   "id": "fe731ba2",
   "metadata": {},
   "source": [
    "### 4.3 Regressionskurve zeichnen\n",
    "**Achtung:** Zuerst müssen mehr Jahresdaten erzeugt, da mit nur 9 Datenpunkte (Jahren) das Polynom 6. Grades nicht gut abgebildet werden kann."
   ]
  },
  {
   "cell_type": "code",
   "execution_count": 20,
   "id": "4f393b12",
   "metadata": {},
   "outputs": [],
   "source": [
    "y = np.arange(1960, 2005).reshape(-1,1) \n",
    "\n",
    "y_scaled = (y-np.mean(x))/np.std(x) # wieder skalieren, ABER gleiche Skalierung wie x-Werte, deswegen nicht StandardScaler\n",
    "\n",
    "six_jahr_y = PolynomialFeatures(degree=6, include_bias=False).fit_transform(y_scaled)"
   ]
  },
  {
   "cell_type": "code",
   "execution_count": 21,
   "id": "05b0922d",
   "metadata": {},
   "outputs": [
    {
     "data": {
      "image/png": "[encoded data removed]",
      "text/plain": [
       "<Figure size 640x480 with 1 Axes>"
      ]
     },
     "metadata": {},
     "output_type": "display_data"
    }
   ],
   "source": [
    "six_mais_predict = six_mais_model.predict(six_jahr_y)\n",
    "\n",
    "plt.plot(y,six_mais_predict,color='red')\n",
    "\n",
    "plt.scatter(data['Jahr'], data['Maisproduktion'], marker='x')\n",
    "plt.xlabel('Jahr')\n",
    "plt.ylabel('Mio. Tonnen')\n",
    "plt.title('Steudiagramm der Weltmaisproduktion')\n",
    "\n",
    "plt.show()"
   ]
  },
  {
   "cell_type": "markdown",
   "id": "78690c86",
   "metadata": {},
   "source": [
    "## 5. Regression bestimmen über e-Funktion\n",
    "### 5.1 e-Funktion anlegen\n",
    "$y = a_0 \\cdot {\\rm e}^{a_1x}$"
   ]
  },
  {
   "cell_type": "code",
   "execution_count": 22,
   "id": "0b6eaf96",
   "metadata": {},
   "outputs": [
    {
     "data": {
      "text/plain": [
       "2.718281828459045"
      ]
     },
     "execution_count": 22,
     "metadata": {},
     "output_type": "execute_result"
    }
   ],
   "source": [
    "# eigene Funktion definieren:\n",
    "def f_exp(x, a0,a1):\n",
    "    return a0*np.exp(x*a1)\n",
    "\n",
    "#Test:\n",
    "f_exp(1,1,1) # --> Ergebnis ist gleich e"
   ]
  },
  {
   "cell_type": "markdown",
   "id": "5777616b",
   "metadata": {},
   "source": [
    "### 5.2 Regressionskurve fitten\n",
    "Nicht mehr im linearen Fall, deswegen neue Funktion *curve_fit*:"
   ]
  },
  {
   "cell_type": "code",
   "execution_count": 23,
   "id": "1c1b728e",
   "metadata": {},
   "outputs": [
    {
     "data": {
      "text/plain": [
       "array([4.86087581e+02, 3.45087541e-01])"
      ]
     },
     "execution_count": 23,
     "metadata": {},
     "output_type": "execute_result"
    }
   ],
   "source": [
    "from scipy.optimize import curve_fit\n",
    "# Skalieren der Daten\n",
    "jahr_scaled = (data['Jahr']-np.mean(data['Jahr']))/np.std(data['Jahr'])\n",
    "\n",
    "# curve_fit(Funktion über die gefitted werden soll, x-Werte, y-Werte)\n",
    "curve_fit(f_exp, jahr_scaled, data['Maisproduktion'])  # Ausgabe 2 Arrays: 1. Koeffizienten; 2. Covarianz-Matrix\n",
    "\n",
    "# Speichern der zwei Ausgabe-Arrays in zwei Variablen\n",
    "coefs_exp, cov_exp = curve_fit(f_exp, jahr_scaled, data['Maisproduktion'])\n",
    "coefs_exp # 1. Wert im Array ist Koeffizient für a_0; zweiter für a_1"
   ]
  },
  {
   "cell_type": "markdown",
   "id": "8bb6b0a4",
   "metadata": {},
   "source": [
    "### 5.3 Modellschätzungen\n",
    "Maisproduktion mithilfe der bestimmten Koeffizienten für die einzelnen Jahre schätzen:"
   ]
  },
  {
   "cell_type": "code",
   "execution_count": 24,
   "id": "6491398f",
   "metadata": {},
   "outputs": [
    {
     "data": {
      "text/plain": [
       "0    248.002808\n",
       "1    310.367264\n",
       "2    388.414305\n",
       "3    486.087581\n",
       "4    608.322436\n",
       "5    622.122295\n",
       "6    636.235205\n",
       "7    650.668268\n",
       "8    665.428746\n",
       "Name: Jahr, dtype: float64"
      ]
     },
     "execution_count": 24,
     "metadata": {},
     "output_type": "execute_result"
    }
   ],
   "source": [
    "exp_predict = f_exp(jahr_scaled, *coefs_exp) \n",
    "#mit Stern: wird genau an jedem einzelnen coeff ausgewertet/ nimmt jedes coeff\n",
    "exp_predict"
   ]
  },
  {
   "cell_type": "markdown",
   "id": "4db26325",
   "metadata": {},
   "source": [
    "### 5.4 Regressionskurve zeichnen"
   ]
  },
  {
   "cell_type": "code",
   "execution_count": 25,
   "id": "b1ca9551",
   "metadata": {},
   "outputs": [
    {
     "data": {
      "image/png": "[encoded data removed]",
      "text/plain": [
       "<Figure size 640x480 with 1 Axes>"
      ]
     },
     "metadata": {},
     "output_type": "display_data"
    }
   ],
   "source": [
    "plt.plot(data['Jahr'],exp_predict,color='red')\n",
    "\n",
    "plt.scatter(data['Jahr'], data['Maisproduktion'], marker='x')\n",
    "plt.xlabel('Jahr')\n",
    "plt.ylabel('Mio. Tonnen')\n",
    "plt.title('Steudiagramm der Weltmaisproduktion')\n",
    "\n",
    "plt.show()"
   ]
  },
  {
   "cell_type": "markdown",
   "id": "c9abd4e9",
   "metadata": {},
   "source": [
    "### 5.5 Bestimmtheitsmaß $R^2$\n",
    "Für den allgemeinen Fall gilt (a):<br>\n",
    "$$R^2 = \\frac{SQE}{SQT} \n",
    "      = \\frac{\\sum_{i=1}^{n} \\left(\\hat y_i-\\bar{y}\\right)^2}{\\sum_{i=1}^{n} \\left(y_i - \\bar{y}\\right)^2} $$\n",
    "nur für den linearen Fall gilt (b): <br>\n",
    "$$R^2 = 1 - \\frac{\\sum_{i=1}^{n} \\left(y_i-\\hat y_i\\right)^2}{\\sum_{i=1}^{n} \\left(y_i -\\bar{y}\\right)^2}$$"
   ]
  },
  {
   "cell_type": "code",
   "execution_count": 26,
   "id": "81de12e7",
   "metadata": {},
   "outputs": [
    {
     "data": {
      "text/plain": [
       "0.949"
      ]
     },
     "execution_count": 26,
     "metadata": {},
     "output_type": "execute_result"
    }
   ],
   "source": [
    "# zu (a):\n",
    "y_mean = np.mean(data['Maisproduktion'])\n",
    "\n",
    "sumsquared_e = np.sum((exp_predict-y_mean)**2)\n",
    "sumsquared_t = np.sum((data['Maisproduktion']-y_mean)**2)\n",
    "\n",
    "R_squared_exp = sumsquared_e/sumsquared_t\n",
    "R_squared_exp.round(4)"
   ]
  },
  {
   "cell_type": "markdown",
   "id": "c28e0f10",
   "metadata": {},
   "source": [
    "## 6. Logarithmus-Funktion\n",
    "### 6.1 Funktion anlegen und Modell fitten\n",
    "eigentliche Funktion: $f(x) = a_0 \\cdot log(x) + a1$, es werden später aber schon die Jahre logarithmiert und von daher sieht die Funktion so aus: $$f(x) = a_0 \\cdot x_{log} + a1$$"
   ]
  },
  {
   "cell_type": "code",
   "execution_count": 27,
   "id": "c8b2026f",
   "metadata": {},
   "outputs": [],
   "source": [
    "def f_log(z, a0,a1): return a0*z+a1"
   ]
  },
  {
   "cell_type": "code",
   "execution_count": 28,
   "id": "a261875b",
   "metadata": {},
   "outputs": [],
   "source": [
    "x_log = np.log(data['Jahr'])\n",
    "\n",
    "coefs_log, cov_log = curve_fit(f_log, x_log, data['Maisproduktion'])"
   ]
  },
  {
   "cell_type": "markdown",
   "id": "7ab43630",
   "metadata": {},
   "source": [
    "### 6.2 Modellschätzung + Bestimmtheitsmaß betimmen"
   ]
  },
  {
   "cell_type": "code",
   "execution_count": 29,
   "id": "441c92f4",
   "metadata": {},
   "outputs": [
    {
     "data": {
      "text/plain": [
       "0    212.087576\n",
       "1    312.876223\n",
       "2    413.154545\n",
       "3    512.927684\n",
       "4    612.200705\n",
       "5    622.100694\n",
       "6    631.995736\n",
       "7    641.885837\n",
       "8    651.771001\n",
       "Name: Jahr, dtype: float64"
      ]
     },
     "execution_count": 29,
     "metadata": {},
     "output_type": "execute_result"
    }
   ],
   "source": [
    "log_predict = f_log(x_log, *coefs_log)\n",
    "log_predict"
   ]
  },
  {
   "cell_type": "code",
   "execution_count": 30,
   "id": "0860af07",
   "metadata": {},
   "outputs": [
    {
     "data": {
      "text/plain": [
       "0.9787"
      ]
     },
     "execution_count": 30,
     "metadata": {},
     "output_type": "execute_result"
    }
   ],
   "source": [
    "# zu (a):\n",
    "sumsquared_e = np.sum((log_predict-y_mean)**2)\n",
    "\n",
    "R_squared_log = sumsquared_e/sumsquared_t\n",
    "R_squared_log.round(4)"
   ]
  },
  {
   "cell_type": "code",
   "execution_count": 31,
   "id": "80d1ff41",
   "metadata": {},
   "outputs": [
    {
     "data": {
      "text/plain": [
       "0.9787"
      ]
     },
     "execution_count": 31,
     "metadata": {},
     "output_type": "execute_result"
    }
   ],
   "source": [
    "# zu (b):\n",
    "sumsquared_ne = np.sum((data['Maisproduktion']-log_predict)**2)\n",
    "\n",
    "R_squared_log2 = 1-(sumsquared_ne/sumsquared_t)\n",
    "R_squared_log2.round(4)"
   ]
  },
  {
   "cell_type": "markdown",
   "id": "84bb3c16",
   "metadata": {},
   "source": [
    "**Zusatz: Bestimmung mithilfe eingebauter Funktion**\n",
    "\n",
    "Über die sklearn-Bibliothek kann eine Funktion zur direkten Bestimmung des Bestimmheitsmaßes geladen und verwendet werden. <br>\n",
    "Dafür werden wieder nur die beobachteten/tatsächlichen **y-Werte und die geschätzten Werte** benötigt und nicht wie über die LinearRegression-Bibiliothek ein **Modell**."
   ]
  },
  {
   "cell_type": "code",
   "execution_count": 32,
   "id": "9f53462a",
   "metadata": {},
   "outputs": [
    {
     "data": {
      "text/plain": [
       "0.9787"
      ]
     },
     "execution_count": 32,
     "metadata": {},
     "output_type": "execute_result"
    }
   ],
   "source": [
    "from sklearn.metrics import r2_score\n",
    "\n",
    "r2_score(data['Maisproduktion'], log_predict).round(4) # r2_score(y, y_predict)"
   ]
  }
 ],
 "metadata": {
  "kernelspec": {
   "display_name": "Python 3 (ipykernel)",
   "language": "python",
   "name": "python3"
  },
  "language_info": {
   "codemirror_mode": {
    "name": "ipython",
    "version": 3
   },
   "file_extension": ".py",
   "mimetype": "text/x-python",
   "name": "python",
   "nbconvert_exporter": "python",
   "pygments_lexer": "ipython3",
   "version": "3.10.9"
  }
 },
 "nbformat": 4,
 "nbformat_minor": 5
}
