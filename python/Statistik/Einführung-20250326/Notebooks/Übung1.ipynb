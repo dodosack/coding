{
 "cells": [
  {
   "cell_type": "markdown",
   "id": "40d4ce6a",
   "metadata": {},
   "source": [
    "# Einführung Statistiklabor\n",
    "\n",
    "# Beispielaufgabe 1 - Schulnoten\n",
    "\n",
    "Lesen Sie die txt-Datei mit den Schulnoten ein und lassen Sie sich diese als Pandas-Dataframework ausgeben.\n",
    "Anschließend sollen die **Häufigkeiten der erreichten Noten mithilfe eines Säulendiagramms** dargestellt sowie der *Mittelwert*, die *Standardabweichung*, die *Varianz* und der *Median* sowie die *Spannweite* ausgegeben werden. \n",
    "\n",
    "Die Formel für den Mittelwert zum Beispiel lautet:\n",
    "$$\\bar x = \\frac{1}{n}\\sum_{i=1}^{n} x_i$$"
   ]
  },
  {
   "cell_type": "markdown",
   "id": "12912567",
   "metadata": {},
   "source": [
    "## 1. Einlesen der Datei"
   ]
  },
  {
   "cell_type": "code",
   "id": "d443150a",
   "metadata": {
    "ExecuteTime": {
     "end_time": "2025-03-26T17:26:31.717101Z",
     "start_time": "2025-03-26T17:26:31.704217Z"
    }
   },
   "source": [
    "import pandas as pd\n",
    "data = pd.read_csv('C:\\\\Users\\\\Adam\\\\OneDrive\\\\programmieren\\\\coding\\\\python\\\\Statistik\\\\Einführung-20250326\\\\datasets\\\\einf_b1.txt',\n",
    "                   sep=\" \",\n",
    "header=None,\n",
    "                   names=['Nr. ', 'Punkte', 'Note'],\n",
    "                   decimal=',')\n",
    "data.head(15)"
   ],
   "outputs": [
    {
     "data": {
      "text/plain": [
       "   Nr.   Punkte  Note\n",
       "0    01     110   1.0\n",
       "1    02      90   1.7\n",
       "2    03     108   1.0\n",
       "3    04      95   1.3\n",
       "4    05      80   2.3\n",
       "5    06      74   2.7\n",
       "6    07      52   3.7\n",
       "7    08      78   2.3\n",
       "8    09      39   4.7\n",
       "9    10     102   1.0\n",
       "10   qw     500   8.4\n",
       "11   11      79   2.3\n",
       "12   12      88   1.7\n",
       "13   13      58   3.3\n",
       "14   14      86   2.0"
      ],
      "text/html": [
       "<div>\n",
       "<style scoped>\n",
       "    .dataframe tbody tr th:only-of-type {\n",
       "        vertical-align: middle;\n",
       "    }\n",
       "\n",
       "    .dataframe tbody tr th {\n",
       "        vertical-align: top;\n",
       "    }\n",
       "\n",
       "    .dataframe thead th {\n",
       "        text-align: right;\n",
       "    }\n",
       "</style>\n",
       "<table border=\"1\" class=\"dataframe\">\n",
       "  <thead>\n",
       "    <tr style=\"text-align: right;\">\n",
       "      <th></th>\n",
       "      <th>Nr.</th>\n",
       "      <th>Punkte</th>\n",
       "      <th>Note</th>\n",
       "    </tr>\n",
       "  </thead>\n",
       "  <tbody>\n",
       "    <tr>\n",
       "      <th>0</th>\n",
       "      <td>01</td>\n",
       "      <td>110</td>\n",
       "      <td>1.0</td>\n",
       "    </tr>\n",
       "    <tr>\n",
       "      <th>1</th>\n",
       "      <td>02</td>\n",
       "      <td>90</td>\n",
       "      <td>1.7</td>\n",
       "    </tr>\n",
       "    <tr>\n",
       "      <th>2</th>\n",
       "      <td>03</td>\n",
       "      <td>108</td>\n",
       "      <td>1.0</td>\n",
       "    </tr>\n",
       "    <tr>\n",
       "      <th>3</th>\n",
       "      <td>04</td>\n",
       "      <td>95</td>\n",
       "      <td>1.3</td>\n",
       "    </tr>\n",
       "    <tr>\n",
       "      <th>4</th>\n",
       "      <td>05</td>\n",
       "      <td>80</td>\n",
       "      <td>2.3</td>\n",
       "    </tr>\n",
       "    <tr>\n",
       "      <th>5</th>\n",
       "      <td>06</td>\n",
       "      <td>74</td>\n",
       "      <td>2.7</td>\n",
       "    </tr>\n",
       "    <tr>\n",
       "      <th>6</th>\n",
       "      <td>07</td>\n",
       "      <td>52</td>\n",
       "      <td>3.7</td>\n",
       "    </tr>\n",
       "    <tr>\n",
       "      <th>7</th>\n",
       "      <td>08</td>\n",
       "      <td>78</td>\n",
       "      <td>2.3</td>\n",
       "    </tr>\n",
       "    <tr>\n",
       "      <th>8</th>\n",
       "      <td>09</td>\n",
       "      <td>39</td>\n",
       "      <td>4.7</td>\n",
       "    </tr>\n",
       "    <tr>\n",
       "      <th>9</th>\n",
       "      <td>10</td>\n",
       "      <td>102</td>\n",
       "      <td>1.0</td>\n",
       "    </tr>\n",
       "    <tr>\n",
       "      <th>10</th>\n",
       "      <td>qw</td>\n",
       "      <td>500</td>\n",
       "      <td>8.4</td>\n",
       "    </tr>\n",
       "    <tr>\n",
       "      <th>11</th>\n",
       "      <td>11</td>\n",
       "      <td>79</td>\n",
       "      <td>2.3</td>\n",
       "    </tr>\n",
       "    <tr>\n",
       "      <th>12</th>\n",
       "      <td>12</td>\n",
       "      <td>88</td>\n",
       "      <td>1.7</td>\n",
       "    </tr>\n",
       "    <tr>\n",
       "      <th>13</th>\n",
       "      <td>13</td>\n",
       "      <td>58</td>\n",
       "      <td>3.3</td>\n",
       "    </tr>\n",
       "    <tr>\n",
       "      <th>14</th>\n",
       "      <td>14</td>\n",
       "      <td>86</td>\n",
       "      <td>2.0</td>\n",
       "    </tr>\n",
       "  </tbody>\n",
       "</table>\n",
       "</div>"
      ]
     },
     "execution_count": 6,
     "metadata": {},
     "output_type": "execute_result"
    }
   ],
   "execution_count": 6
  },
  {
   "cell_type": "markdown",
   "id": "5c12f038",
   "metadata": {},
   "source": [
    "    ## 2. Daten bereinigen\n",
    "In der 11. Zeile (index = 10) scheinen ungültige Daten vorzuliegen. Diese sollen aus dem Datensatz (mit *dataframe.drop()*) gelöscht werden."
   ]
  },
  {
   "cell_type": "code",
   "execution_count": null,
   "id": "a840cfc2",
   "metadata": {},
   "outputs": [],
   "source": [
    "data_new = pd.DataFrame()\n",
    "#data"
   ]
  },
  {
   "cell_type": "markdown",
   "id": "0915b89f",
   "metadata": {},
   "source": [
    "## 3. Säulendiagramm der Häufigkeiten erstellen\n",
    "\n",
    "### 3.1 Schulnoten-\"klassen\" einführen\n",
    "Jede Dezimalnote kann einer eindeutigen Schulnotenklasse wie *sehr gut*, *gut*, ... und *ungenügend* zugeordnet werden. \n",
    "Die Trennung erfolgt immer bei $x,3$. Sodass z.B. 2,3 noch zur Gruppe gut gehört. **Aber:** Ab 4,0 ist die Zuordnung allgemein ungenügend."
   ]
  },
  {
   "cell_type": "code",
   "execution_count": null,
   "id": "09a3b71d",
   "metadata": {},
   "outputs": [],
   "source": [
    "# Code"
   ]
  },
  {
   "cell_type": "markdown",
   "id": "3f811cc2",
   "metadata": {},
   "source": [
    "### 3.2 Häufigkeiten bestimmen\n",
    "Mithilfe der Pandas-Funktion value_counts() kann ganz leicht die absolute Häufigkeit der jeweiligen Note $H_n(Note)$ bestimmt werden.\n",
    "\n",
    "*z.B.: $H_n(gut) = 20$*"
   ]
  },
  {
   "cell_type": "code",
   "execution_count": null,
   "id": "4cf17ec1",
   "metadata": {},
   "outputs": [],
   "source": [
    "# Code"
   ]
  },
  {
   "cell_type": "markdown",
   "id": "739cfe02",
   "metadata": {},
   "source": [
    "#### Die relative Häufigkeit\n",
    "\n",
    "$h_n = \\frac{H_n(Note)}{n}$\n",
    "\n",
    "Die Grundgesamtheit $n$ bestimmen über:"
   ]
  },
  {
   "cell_type": "code",
   "execution_count": null,
   "id": "ac83c039",
   "metadata": {},
   "outputs": [],
   "source": [
    "# Code"
   ]
  },
  {
   "cell_type": "markdown",
   "id": "c1098cc6",
   "metadata": {},
   "source": [
    "*optionaler Zusatz: Die Summen der Spalten in neuer Zeile mit ausgeben lassen:*"
   ]
  },
  {
   "cell_type": "code",
   "execution_count": null,
   "id": "80aab0b9",
   "metadata": {},
   "outputs": [],
   "source": [
    "# Code"
   ]
  },
  {
   "cell_type": "markdown",
   "id": "6a6180c1",
   "metadata": {},
   "source": [
    "Relative Häufigkeit in Prozent [%] bestimmen (vgl. obere Formel)"
   ]
  },
  {
   "cell_type": "code",
   "execution_count": null,
   "id": "d44f04a7",
   "metadata": {},
   "outputs": [],
   "source": [
    "# Code"
   ]
  },
  {
   "cell_type": "markdown",
   "id": "3ac08a1b",
   "metadata": {},
   "source": [
    "### 3.3 Säulendiagramm erstellen"
   ]
  },
  {
   "cell_type": "code",
   "execution_count": null,
   "id": "9dc26d00",
   "metadata": {},
   "outputs": [],
   "source": [
    "# Code"
   ]
  },
  {
   "cell_type": "markdown",
   "id": "49a36bc0",
   "metadata": {},
   "source": [
    "#### Ergänzung: Beschriftung der Säulen hinzufügen\n",
    "(am Beispiel der relativen Häufigkeit)"
   ]
  },
  {
   "cell_type": "code",
   "execution_count": null,
   "id": "e634b8de",
   "metadata": {},
   "outputs": [],
   "source": [
    "# Code"
   ]
  },
  {
   "cell_type": "markdown",
   "id": "c4be2ee4",
   "metadata": {},
   "source": [
    "## 4. Statistische Angaben ausgeben\n",
    "Für Mittelwert, Standardabweichung, Varianz und Median können vorgefertigte Methoden aufgerufen werden."
   ]
  },
  {
   "cell_type": "code",
   "execution_count": null,
   "id": "06c8c01b",
   "metadata": {},
   "outputs": [],
   "source": [
    "# Code"
   ]
  },
  {
   "cell_type": "markdown",
   "id": "43d1037a",
   "metadata": {},
   "source": [
    "Die Spannweite wird bestimmt, indem der kleinste Wert vom größten abgezogen wird. Zur Bestimmung dieser beiden Werte können auch wieder vorgefertigte Methoden verwendet werden."
   ]
  },
  {
   "cell_type": "code",
   "execution_count": null,
   "id": "c8b6d6a0",
   "metadata": {},
   "outputs": [],
   "source": [
    "# Code"
   ]
  },
  {
   "cell_type": "code",
   "execution_count": null,
   "id": "3bd0a831",
   "metadata": {},
   "outputs": [],
   "source": []
  }
 ],
 "metadata": {
  "kernelspec": {
   "display_name": "Python 3 (ipykernel)",
   "language": "python",
   "name": "python3"
  },
  "language_info": {
   "codemirror_mode": {
    "name": "ipython",
    "version": 3
   },
   "file_extension": ".py",
   "mimetype": "text/x-python",
   "name": "python",
   "nbconvert_exporter": "python",
   "pygments_lexer": "ipython3",
   "version": "3.9.12"
  }
 },
 "nbformat": 4,
 "nbformat_minor": 5
}
