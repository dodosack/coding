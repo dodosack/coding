{
 "cells": [
  {
   "cell_type": "markdown",
   "id": "40d4ce6a",
   "metadata": {},
   "source": [
    "# Einführung Statistiklabor\n",
    "\n",
    "# Beispielaufgabe 1 - Schulnoten\n",
    "\n",
    "Lesen Sie die txt-Datei mit den Schulnoten ein und lassen Sie sich diese als Pandas-Dataframework ausgeben.\n",
    "Anschließend sollen die **Häufigkeiten der erreichten Noten mithilfe eines Säulendiagramms** dargestellt sowie der *Mittelwert*, die *Standardabweichung*, die *Varianz* und der *Median* sowie die *Spannweite* ausgegeben werden. \n",
    "\n",
    "Die Formel für den Mittelwert zum Beispiel lautet:\n",
    "$$\\bar x = \\frac{1}{n}\\sum_{i=1}^{n} x_i$$"
   ]
  },
  {
   "cell_type": "markdown",
   "id": "12912567",
   "metadata": {},
   "source": [
    "## 1. Einlesen der Datei"
   ]
  },
  {
   "cell_type": "code",
   "id": "d443150a",
   "metadata": {
    "ExecuteTime": {
     "end_time": "2025-04-10T15:43:59.664925Z",
     "start_time": "2025-04-10T15:43:59.645845Z"
    }
   },
   "source": [
    "import pandas as pd\n",
    "data = pd.read_csv('C:\\\\Users\\\\Adam8\\\\OneDrive\\\\programmieren\\\\coding\\\\python\\\\Statistik\\\\Einführung-20250326\\\\datasets\\\\einf_b1.txt',\n",
    "                   sep=\" \",\n",
    "header=None,\n",
    "                   names=['Nr. ', 'Punkte', 'Note'],\n",
    "                   decimal=',')\n",
    "data.head(15)"
   ],
   "outputs": [
    {
     "ename": "ModuleNotFoundError",
     "evalue": "No module named 'pandas'",
     "output_type": "error",
     "traceback": [
      "\u001B[31m---------------------------------------------------------------------------\u001B[39m",
      "\u001B[31mModuleNotFoundError\u001B[39m                       Traceback (most recent call last)",
      "\u001B[36mCell\u001B[39m\u001B[36m \u001B[39m\u001B[32mIn[2]\u001B[39m\u001B[32m, line 1\u001B[39m\n\u001B[32m----> \u001B[39m\u001B[32m1\u001B[39m \u001B[38;5;28;01mimport\u001B[39;00m\u001B[38;5;250m \u001B[39m\u001B[34;01mpandas\u001B[39;00m\u001B[38;5;250m \u001B[39m\u001B[38;5;28;01mas\u001B[39;00m\u001B[38;5;250m \u001B[39m\u001B[34;01mpd\u001B[39;00m\n\u001B[32m      2\u001B[39m data = pd.read_csv(\u001B[33m'\u001B[39m\u001B[33mC:\u001B[39m\u001B[38;5;130;01m\\\\\u001B[39;00m\u001B[33mUsers\u001B[39m\u001B[38;5;130;01m\\\\\u001B[39;00m\u001B[33mAdam8\u001B[39m\u001B[38;5;130;01m\\\\\u001B[39;00m\u001B[33mOneDrive\u001B[39m\u001B[38;5;130;01m\\\\\u001B[39;00m\u001B[33mprogrammieren\u001B[39m\u001B[38;5;130;01m\\\\\u001B[39;00m\u001B[33mcoding\u001B[39m\u001B[38;5;130;01m\\\\\u001B[39;00m\u001B[33mpython\u001B[39m\u001B[38;5;130;01m\\\\\u001B[39;00m\u001B[33mStatistik\u001B[39m\u001B[38;5;130;01m\\\\\u001B[39;00m\u001B[33mEinführung-20250326\u001B[39m\u001B[38;5;130;01m\\\\\u001B[39;00m\u001B[33mdatasets\u001B[39m\u001B[38;5;130;01m\\\\\u001B[39;00m\u001B[33meinf_b1.txt\u001B[39m\u001B[33m'\u001B[39m,\n\u001B[32m      3\u001B[39m                    sep=\u001B[33m\"\u001B[39m\u001B[33m \u001B[39m\u001B[33m\"\u001B[39m,\n\u001B[32m      4\u001B[39m header=\u001B[38;5;28;01mNone\u001B[39;00m,\n\u001B[32m      5\u001B[39m                    names=[\u001B[33m'\u001B[39m\u001B[33mNr. \u001B[39m\u001B[33m'\u001B[39m, \u001B[33m'\u001B[39m\u001B[33mPunkte\u001B[39m\u001B[33m'\u001B[39m, \u001B[33m'\u001B[39m\u001B[33mNote\u001B[39m\u001B[33m'\u001B[39m],\n\u001B[32m      6\u001B[39m                    decimal=\u001B[33m'\u001B[39m\u001B[33m,\u001B[39m\u001B[33m'\u001B[39m)\n\u001B[32m      7\u001B[39m data.head(\u001B[32m15\u001B[39m)\n",
      "\u001B[31mModuleNotFoundError\u001B[39m: No module named 'pandas'"
     ]
    }
   ],
   "execution_count": 2
  },
  {
   "cell_type": "markdown",
   "id": "5c12f038",
   "metadata": {},
   "source": [
    "    ## 2. Daten bereinigen\n",
    "In der 11. Zeile (index = 10) scheinen ungültige Daten vorzuliegen. Diese sollen aus dem Datensatz (mit *dataframe.drop()*) gelöscht werden."
   ]
  },
  {
   "cell_type": "code",
   "execution_count": null,
   "id": "a840cfc2",
   "metadata": {},
   "outputs": [],
   "source": [
    "data_new = pd.DataFrame()\n",
    "#data"
   ]
  },
  {
   "cell_type": "markdown",
   "id": "0915b89f",
   "metadata": {},
   "source": [
    "## 3. Säulendiagramm der Häufigkeiten erstellen\n",
    "\n",
    "### 3.1 Schulnoten-\"klassen\" einführen\n",
    "Jede Dezimalnote kann einer eindeutigen Schulnotenklasse wie *sehr gut*, *gut*, ... und *ungenügend* zugeordnet werden. \n",
    "Die Trennung erfolgt immer bei $x,3$. Sodass z.B. 2,3 noch zur Gruppe gut gehört. **Aber:** Ab 4,0 ist die Zuordnung allgemein ungenügend."
   ]
  },
  {
   "cell_type": "code",
   "execution_count": null,
   "id": "09a3b71d",
   "metadata": {},
   "outputs": [],
   "source": [
    "# Code"
   ]
  },
  {
   "cell_type": "markdown",
   "id": "3f811cc2",
   "metadata": {},
   "source": [
    "### 3.2 Häufigkeiten bestimmen\n",
    "Mithilfe der Pandas-Funktion value_counts() kann ganz leicht die absolute Häufigkeit der jeweiligen Note $H_n(Note)$ bestimmt werden.\n",
    "\n",
    "*z.B.: $H_n(gut) = 20$*"
   ]
  },
  {
   "cell_type": "code",
   "execution_count": null,
   "id": "4cf17ec1",
   "metadata": {},
   "outputs": [],
   "source": [
    "# Code"
   ]
  },
  {
   "cell_type": "markdown",
   "id": "739cfe02",
   "metadata": {},
   "source": [
    "#### Die relative Häufigkeit\n",
    "\n",
    "$h_n = \\frac{H_n(Note)}{n}$\n",
    "\n",
    "Die Grundgesamtheit $n$ bestimmen über:"
   ]
  },
  {
   "cell_type": "code",
   "execution_count": null,
   "id": "ac83c039",
   "metadata": {},
   "outputs": [],
   "source": [
    "# Code"
   ]
  },
  {
   "cell_type": "markdown",
   "id": "c1098cc6",
   "metadata": {},
   "source": [
    "*optionaler Zusatz: Die Summen der Spalten in neuer Zeile mit ausgeben lassen:*"
   ]
  },
  {
   "cell_type": "code",
   "execution_count": null,
   "id": "80aab0b9",
   "metadata": {},
   "outputs": [],
   "source": [
    "# Code"
   ]
  },
  {
   "cell_type": "markdown",
   "id": "6a6180c1",
   "metadata": {},
   "source": [
    "Relative Häufigkeit in Prozent [%] bestimmen (vgl. obere Formel)"
   ]
  },
  {
   "cell_type": "code",
   "execution_count": null,
   "id": "d44f04a7",
   "metadata": {},
   "outputs": [],
   "source": [
    "# Code"
   ]
  },
  {
   "cell_type": "markdown",
   "id": "3ac08a1b",
   "metadata": {},
   "source": [
    "### 3.3 Säulendiagramm erstellen"
   ]
  },
  {
   "cell_type": "code",
   "execution_count": null,
   "id": "9dc26d00",
   "metadata": {},
   "outputs": [],
   "source": [
    "# Code"
   ]
  },
  {
   "cell_type": "markdown",
   "id": "49a36bc0",
   "metadata": {},
   "source": [
    "#### Ergänzung: Beschriftung der Säulen hinzufügen\n",
    "(am Beispiel der relativen Häufigkeit)"
   ]
  },
  {
   "cell_type": "code",
   "execution_count": null,
   "id": "e634b8de",
   "metadata": {},
   "outputs": [],
   "source": [
    "# Code"
   ]
  },
  {
   "cell_type": "markdown",
   "id": "c4be2ee4",
   "metadata": {},
   "source": [
    "## 4. Statistische Angaben ausgeben\n",
    "Für Mittelwert, Standardabweichung, Varianz und Median können vorgefertigte Methoden aufgerufen werden."
   ]
  },
  {
   "cell_type": "code",
   "execution_count": null,
   "id": "06c8c01b",
   "metadata": {},
   "outputs": [],
   "source": [
    "# Code"
   ]
  },
  {
   "cell_type": "markdown",
   "id": "43d1037a",
   "metadata": {},
   "source": [
    "Die Spannweite wird bestimmt, indem der kleinste Wert vom größten abgezogen wird. Zur Bestimmung dieser beiden Werte können auch wieder vorgefertigte Methoden verwendet werden."
   ]
  },
  {
   "cell_type": "code",
   "execution_count": null,
   "id": "c8b6d6a0",
   "metadata": {},
   "outputs": [],
   "source": [
    "# Code"
   ]
  },
  {
   "cell_type": "code",
   "execution_count": null,
   "id": "3bd0a831",
   "metadata": {},
   "outputs": [],
   "source": []
  }
 ],
 "metadata": {
  "kernelspec": {
   "display_name": "Python 3 (ipykernel)",
   "language": "python",
   "name": "python3"
  },
  "language_info": {
   "codemirror_mode": {
    "name": "ipython",
    "version": 3
   },
   "file_extension": ".py",
   "mimetype": "text/x-python",
   "name": "python",
   "nbconvert_exporter": "python",
   "pygments_lexer": "ipython3",
   "version": "3.9.12"
  }
 },
 "nbformat": 4,
 "nbformat_minor": 5
}
