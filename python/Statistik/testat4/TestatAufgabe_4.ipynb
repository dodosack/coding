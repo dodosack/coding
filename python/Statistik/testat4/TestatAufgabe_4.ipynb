{
 "cells": [
  {
   "cell_type": "code",
   "execution_count": null,
   "id": "7bde7d34",
   "metadata": {},
   "outputs": [],
   "source": [
    "import pandas as pd\n",
    "\n",
    "data = pd.read_csv('sr_aufg_4_xy_MR1.txt', delim_whitespace=True, decimal=',', header=None, names=['MR1'])\n",
    "#data['MR2'] = pd.read_csv('sr_aufg_4_xy_MR2.txt', delim_whitespace=True, decimal=',', header=None)\n",
    "#data['MR3'] = pd.read_csv('sr_aufg_4_xy_MR3.txt', delim_whitespace=True, decimal=',', header=None)"
   ]
  },
  {
   "cell_type": "markdown",
   "id": "ef2bdc99",
   "metadata": {},
   "source": [
    "## 2. Kennzahlen bestimmen\n",
    "Berechnen Sie für jeden der drei Messreihen **Mittelwert**, **empirische Varianz**, **empirische Standardabweichung**, **Median** und **Spannweite**.\n",
    "\n",
    "***Beispiellösung:***<br>\n",
    "Bitte geben Sie die Kennzahlen in tabellarischer Form ab."
   ]
  },
  {
   "cell_type": "code",
   "execution_count": null,
   "id": "b000852b",
   "metadata": {},
   "outputs": [],
   "source": []
  },
  {
   "cell_type": "markdown",
   "id": "09766789",
   "metadata": {},
   "source": [
    "## 3. Histogramme erstellen\n",
    "Erstellen Sie für jeden der drei Messreihen ein Histogramm. <br>\n",
    "Erläutern Sie hierzu auch die Wahl der Klassen: \n",
    "- Wie viele Klassen haben Sie gewählt (und warum diese Anzahl von Klassen)? \n",
    "- Wie haben Sie die Klassengrenzen festgelegt und warum? Welche Funktion haben Sie beim Auszählen benutzt?\n",
    "\n",
    "***Beispiellösung:***<br>\n",
    "Darstellung aller 3 Histogramme mit zusätzlich der Beantwortung der Fragen."
   ]
  },
  {
   "cell_type": "code",
   "execution_count": null,
   "id": "e9195198",
   "metadata": {},
   "outputs": [],
   "source": []
  },
  {
   "cell_type": "markdown",
   "id": "f26ac387",
   "metadata": {},
   "source": [
    "## 4. Normalverteilte Daten erkennen\n",
    "Entscheiden Sie anhand des Histogramms für jede der drei Messreihen, ob eine Normalverteilung vorliegt. Begründen Sie Ihre Entscheidung."
   ]
  },
  {
   "cell_type": "code",
   "execution_count": null,
   "id": "994c62a3",
   "metadata": {},
   "outputs": [],
   "source": []
  },
  {
   "cell_type": "markdown",
   "id": "d1e39a87",
   "metadata": {},
   "source": [
    "## 5. Dichtekurve der Normalverteilung einzeichnen\n",
    "Sofern bei einer Messreihe eine Normalverteilung vorliegt, erstellen Sie ein weiteres Diagramm, das sowohl das Histogramm als auch die (an das Histogramm angepasste) Dichtekurve der passenden Normalverteilung zeigt.\n",
    "- Welche Normalverteilungsdichte haben Sie gezeichnet, d. h., welche Werte haben Sie für die Parameter $\\mu$ bzw. $\\sigma$ eingesetzt?\n",
    "\n",
    "***Beispiellösung*** (für den Fall, dass bei Messreihe MR1 eine Normalverteilung vorliegt):\n",
    "<div>\n",
    "<img src=\"https://drive.google.com/uc?id=1iVJQvjVW9mvBWJ_V3a4rUMJ-fdgbzqg4\" width=\"500\"/>\n",
    "</div>"
   ]
  },
  {
   "cell_type": "code",
   "execution_count": null,
   "id": "85e4189e",
   "metadata": {},
   "outputs": [],
   "source": []
  },
  {
   "cell_type": "markdown",
   "id": "13ef0f19",
   "metadata": {},
   "source": [
    "## 6. Erläuterungen zur Dichtekurve\n",
    "Erläutern Sie zu dem bei 5. gezeichneten Diagramm:\n",
    "- Um welchen Faktor unterscheiden sich die im Histogramm dargestellten Anzahlen von den Funktionswerten der Normalverteilungsdichte?\n",
    "- Wie haben Sie diesen Faktor bei der Erstellung des Diagramms berücksichtigt? Mussten Sie die Skalierung der y-Achse(n) ändern? Wenn ja, wie? Wenn nein, warum nicht?"
   ]
  },
  {
   "cell_type": "code",
   "execution_count": null,
   "id": "e26a908c",
   "metadata": {},
   "outputs": [],
   "source": []
  }
 ],
 "metadata": {
  "kernelspec": {
   "display_name": "Python 3 (ipykernel)",
   "language": "python",
   "name": "python3"
  },
  "language_info": {
   "codemirror_mode": {
    "name": "ipython",
    "version": 3
   },
   "file_extension": ".py",
   "mimetype": "text/x-python",
   "name": "python",
   "nbconvert_exporter": "python",
   "pygments_lexer": "ipython3",
   "version": "3.9.12"
  }
 },
 "nbformat": 4,
 "nbformat_minor": 5
}
