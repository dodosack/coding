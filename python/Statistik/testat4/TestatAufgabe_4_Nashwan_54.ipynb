{
 "cells": [
  {
   "cell_type": "code",
   "id": "7bde7d34",
   "metadata": {
    "ExecuteTime": {
     "end_time": "2025-06-02T17:19:10.030153Z",
     "start_time": "2025-06-02T17:19:10.025242Z"
    }
   },
   "source": [
    "\n",
    "import os\n",
    "\n",
    "# Aktuelles Arbeitsverzeichnis anzeigen\n",
    "print(\"Aktuelles Verzeichnis:\", os.getcwd())\n",
    "\n",
    "import pandas as pd\n",
    "\n",
    "mr1 = pd.read_csv('sr_aufg_4_54_MR1.txt', sep=r'\\s+', decimal=',', header=None, names=['Wert'])\n",
    "mr2 = pd.read_csv('sr_aufg_4_54_MR2.txt', sep=r'\\s+', decimal=',', header=None, names=['Wert'])\n",
    "mr3 = pd.read_csv('sr_aufg_4_54_MR3.txt', sep=r'\\s+', decimal=',', header=None, names=['Wert'])\n"
   ],
   "outputs": [
    {
     "name": "stdout",
     "output_type": "stream",
     "text": [
      "Aktuelles Verzeichnis: C:\\Users\\adam8\\OneDrive\\programmieren\\coding\\python\\Statistik\\testat4\n"
     ]
    }
   ],
   "execution_count": 6
  },
  {
   "cell_type": "markdown",
   "id": "ef2bdc99",
   "metadata": {},
   "source": [
    "## 2. Kennzahlen bestimmen\n",
    "Berechnen Sie für jeden der drei Messreihen **Mittelwert**, **empirische Varianz**, **empirische Standardabweichung**, **Median** und **Spannweite**.\n",
    "\n",
    "***Beispiellösung:***<br>\n",
    "Bitte geben Sie die Kennzahlen in tabellarischer Form ab."
   ]
  },
  {
   "cell_type": "code",
   "id": "b000852b",
   "metadata": {
    "ExecuteTime": {
     "end_time": "2025-06-02T17:30:45.023354Z",
     "start_time": "2025-06-02T17:30:45.015718Z"
    }
   },
   "source": [
    "import pandas as pd\n",
    "\n",
    "# Funktion zur Berechnung der Kennzahlen\n",
    "def berechne_kennzahlen(df):\n",
    "    return {\n",
    "        'Mittelwert': df['Wert'].mean(),\n",
    "        'emp. Varianz': df['Wert'].var(ddof=0),\n",
    "        'emp. Standardabw.': df['Wert'].std(ddof=0),\n",
    "        'Median': df['Wert'].median(),\n",
    "        'Spannweite': df['Wert'].max() - df['Wert'].min()\n",
    "    }\n",
    "\n",
    "# Berechnung für jede Messreihe\n",
    "kennzahlen = pd.DataFrame({\n",
    "    'MR1': berechne_kennzahlen(mr1),\n",
    "    'MR2': berechne_kennzahlen(mr2),\n",
    "    'MR3': berechne_kennzahlen(mr3)\n",
    "})\n",
    "\n",
    "# Transponieren für bessere Darstellung\n",
    "kennzahlen = kennzahlen.T\n",
    "kennzahlen.index.name = 'Messreihe'\n",
    "print(\"Varianz MR1 (ddof=0):\", mr1['Wert'].var(ddof=0))\n",
    "print(\"Standardabw. MR1 (ddof=0):\", mr1['Wert'].std(ddof=0))\n",
    "\n",
    "# Anzeigen der Tabelle\n",
    "# Anzeigen der gerundeten Tabelle\n",
    "kennzahlen = kennzahlen.round(4)\n",
    "kennzahlen\n",
    "\n"
   ],
   "outputs": [
    {
     "name": "stdout",
     "output_type": "stream",
     "text": [
      "Varianz MR1 (ddof=0): 5.297026127490999\n",
      "Standardabw. MR1 (ddof=0): 2.3015269121804764\n"
     ]
    },
    {
     "data": {
      "text/plain": [
       "           Mittelwert  emp. Varianz  emp. Standardabw.    Median  Spannweite\n",
       "Messreihe                                                                   \n",
       "MR1            3.9667        5.2970             2.3015    3.7348      5.9842\n",
       "MR2           19.3989        0.1548             0.3934   19.2978      1.9857\n",
       "MR3          582.9184        3.9615             1.9904  582.9627      9.8892"
      ],
      "text/html": [
       "<div>\n",
       "<style scoped>\n",
       "    .dataframe tbody tr th:only-of-type {\n",
       "        vertical-align: middle;\n",
       "    }\n",
       "\n",
       "    .dataframe tbody tr th {\n",
       "        vertical-align: top;\n",
       "    }\n",
       "\n",
       "    .dataframe thead th {\n",
       "        text-align: right;\n",
       "    }\n",
       "</style>\n",
       "<table border=\"1\" class=\"dataframe\">\n",
       "  <thead>\n",
       "    <tr style=\"text-align: right;\">\n",
       "      <th></th>\n",
       "      <th>Mittelwert</th>\n",
       "      <th>emp. Varianz</th>\n",
       "      <th>emp. Standardabw.</th>\n",
       "      <th>Median</th>\n",
       "      <th>Spannweite</th>\n",
       "    </tr>\n",
       "    <tr>\n",
       "      <th>Messreihe</th>\n",
       "      <th></th>\n",
       "      <th></th>\n",
       "      <th></th>\n",
       "      <th></th>\n",
       "      <th></th>\n",
       "    </tr>\n",
       "  </thead>\n",
       "  <tbody>\n",
       "    <tr>\n",
       "      <th>MR1</th>\n",
       "      <td>3.9667</td>\n",
       "      <td>5.2970</td>\n",
       "      <td>2.3015</td>\n",
       "      <td>3.7348</td>\n",
       "      <td>5.9842</td>\n",
       "    </tr>\n",
       "    <tr>\n",
       "      <th>MR2</th>\n",
       "      <td>19.3989</td>\n",
       "      <td>0.1548</td>\n",
       "      <td>0.3934</td>\n",
       "      <td>19.2978</td>\n",
       "      <td>1.9857</td>\n",
       "    </tr>\n",
       "    <tr>\n",
       "      <th>MR3</th>\n",
       "      <td>582.9184</td>\n",
       "      <td>3.9615</td>\n",
       "      <td>1.9904</td>\n",
       "      <td>582.9627</td>\n",
       "      <td>9.8892</td>\n",
       "    </tr>\n",
       "  </tbody>\n",
       "</table>\n",
       "</div>"
      ]
     },
     "execution_count": 11,
     "metadata": {},
     "output_type": "execute_result"
    }
   ],
   "execution_count": 11
  },
  {
   "cell_type": "markdown",
   "id": "09766789",
   "metadata": {},
   "source": [
    "## 3. Histogramme erstellen\n",
    "Erstellen Sie für jeden der drei Messreihen ein Histogramm. <br>\n",
    "Erläutern Sie hierzu auch die Wahl der Klassen: \n",
    "- Wie viele Klassen haben Sie gewählt (und warum diese Anzahl von Klassen)? \n",
    "- Wie haben Sie die Klassengrenzen festgelegt und warum? Welche Funktion haben Sie beim Auszählen benutzt?\n",
    "\n",
    "***Beispiellösung:***<br>\n",
    "Darstellung aller 3 Histogramme mit zusätzlich der Beantwortung der Fragen."
   ]
  },
  {
   "cell_type": "code",
   "id": "531edc1bd2116bba",
   "metadata": {},
   "source": "",
   "outputs": [],
   "execution_count": null
  },
  {
   "metadata": {},
   "cell_type": "code",
   "outputs": [],
   "execution_count": null,
   "source": "",
   "id": "68d79ebc74a09b97"
  },
  {
   "metadata": {},
   "cell_type": "code",
   "outputs": [],
   "execution_count": null,
   "source": [
    "import matplotlib.pyplot as plt\n",
    "import numpy as np\n",
    "\n",
    "# Funktion zur automatisierten Histogrammerstellung\n",
    "def histogramm_erstellen(df, name, bins='sturges'):\n",
    "    werte = df['Wert']\n",
    "    plt.figure(figsize=(6, 4))\n",
    "    counts, bin_edges, patches = plt.hist(werte, bins=bins, edgecolor='black', alpha=0.7)\n",
    "    plt.title(f'Histogramm {name}')\n",
    "    plt.xlabel('Wert')\n",
    "    plt.ylabel('Häufigkeit')\n",
    "    plt.grid(True)\n",
    "    plt.show()\n",
    "    print(f\"{name} – Anzahl Klassen: {len(bin_edges)-1}\")\n",
    "    print(f\"Klassen-Grenzen: {bin_edges.round(2)}\")\n",
    "    return counts, bin_edges\n",
    "\n",
    "# Histogramme erzeugen\n",
    "counts_MR1, bins_MR1 = histogramm_erstellen(mr1, 'MR1')\n",
    "counts_MR2, bins_MR2 = histogramm_erstellen(mr2, 'MR2')\n",
    "counts_MR3, bins_MR3 = histogramm_erstellen(mr3, 'MR3')"
   ],
   "id": "65a4f7a08091530a"
  },
  {
   "metadata": {},
   "cell_type": "markdown",
   "source": [
    "^### Aufgabe 4c – Histogramme und Klasseneinteilung\n",
    "\n",
    "Für jede der drei Messreihen wurde ein Histogramm erstellt. Die Anzahl der Klassen wurde mit der **Sturges-Regel** automatisch bestimmt, da sie sich gut für mittelgroße Stichproben eignet:\n",
    "\n",
    "> **Formel:** k = ⌈log₂(n) + 1⌉\n",
    "\n",
    "---\n",
    "\n",
    "#### 📊 MR1\n",
    "- **Anzahl Klassen:** 8\n",
    "- **Klassengrenzen:** [1.01, 1.76, 2.51, 3.25, 4.0, 4.75, 5.5, 6.25, 6.99]\n",
    "- **Beobachtung:** Die Verteilung ist **asymmetrisch** (zwei Häufungen), **nicht glockenförmig** → vermutlich **keine Normalverteilung**.\n",
    "\n",
    "---\n",
    "\n",
    "#### 📊 MR2\n",
    "- **Anzahl Klassen:** 8\n",
    "- **Klassengrenzen:** [19.0, 19.25, 19.5, 19.75, 20.0, 20.24, 20.49, 20.74, 20.99]\n",
    "- **Beobachtung:** Stark **rechtsschiefe Verteilung**, konzentriert auf niedrigere Werte → ebenfalls **keine Normalverteilung**.\n",
    "\n",
    "---\n",
    "\n",
    "#### 📊 MR3\n",
    "- **Anzahl Klassen:** 8\n",
    "- **Klassengrenzen:** [578.04, 579.27, 580.51, 581.75, 582.98, 584.22, 585.45, 586.69, 587.93]\n",
    "- **Beobachtung:** Die Verteilung ist **symmetrisch, glockenförmig** → spricht für eine **Normalverteilung**.\n",
    "\n",
    "---\n",
    "\n",
    "#### 📌 Technische Umsetzung:\n",
    "- Zur Erstellung der Histogramme wurde die Funktion `plt.hist()` aus `matplotlib` verwendet.\n",
    "- Diese basiert auf `numpy.histogram()` und liefert sowohl die Häufigkeiten als auch die automatisch berechneten Klassengrenzen.\n",
    "- Die Klassengrenzen wurden so gewählt, dass alle Klassen **gleich breit** sind – das erleichtert die visuelle Interpretation und Vergleichbarkeit.\n",
    "\n"
   ],
   "id": "a83ec8e276f59a80"
  },
  {
   "cell_type": "markdown",
   "id": "f26ac387",
   "metadata": {},
   "source": [
    "## 4. Normalverteilte Daten erkennen\n",
    "Entscheiden Sie anhand des Histogramms für jede der drei Messreihen, ob eine Normalverteilung vorliegt. Begründen Sie Ihre Entscheidung."
   ]
  },
  {
   "cell_type": "code",
   "execution_count": null,
   "id": "994c62a3",
   "metadata": {},
   "outputs": [],
   "source": []
  },
  {
   "cell_type": "markdown",
   "id": "d1e39a87",
   "metadata": {},
   "source": [
    "## 5. Dichtekurve der Normalverteilung einzeichnen\n",
    "Sofern bei einer Messreihe eine Normalverteilung vorliegt, erstellen Sie ein weiteres Diagramm, das sowohl das Histogramm als auch die (an das Histogramm angepasste) Dichtekurve der passenden Normalverteilung zeigt.\n",
    "- Welche Normalverteilungsdichte haben Sie gezeichnet, d. h., welche Werte haben Sie für die Parameter $\\mu$ bzw. $\\sigma$ eingesetzt?\n",
    "\n",
    "***Beispiellösung*** (für den Fall, dass bei Messreihe MR1 eine Normalverteilung vorliegt):\n",
    "<div>\n",
    "<img src=\"https://drive.google.com/uc?id=1iVJQvjVW9mvBWJ_V3a4rUMJ-fdgbzqg4\" width=\"500\"/>\n",
    "</div>"
   ]
  },
  {
   "cell_type": "code",
   "id": "85e4189e",
   "metadata": {
    "ExecuteTime": {
     "end_time": "2025-06-02T17:39:27.140315Z",
     "start_time": "2025-06-02T17:39:27.082870Z"
    }
   },
   "source": [
    "import numpy as np\n",
    "import matplotlib.pyplot as plt\n",
    "from scipy.stats import norm\n",
    "\n",
    "# Werte von MR3\n",
    "werte = mr3['Wert']\n",
    "mu = werte.mean()\n",
    "sigma = werte.std(ddof=0)\n",
    "\n",
    "# Histogramm berechnen\n",
    "anzahl_klassen = 8\n",
    "counts, bins, _ = plt.hist(werte, bins=anzahl_klassen, density=False, edgecolor='black', alpha=0.6)\n",
    "\n",
    "# Dichtekurve vorbereiten\n",
    "x = np.linspace(bins[0], bins[-1], 1000)\n",
    "klassenbreite = bins[1] - bins[0]\n",
    "skalierung = len(werte) * klassenbreite  # wichtig, um Dichtekurve an Histogramm anzupassen\n",
    "dichte = norm.pdf(x, mu, sigma) * skalierung\n",
    "\n",
    "# Plot zeichnen\n",
    "plt.plot(x, dichte, color='red', label='Normalverteilung')\n",
    "plt.title('Histogramm + Normalverteilung (MR3)')\n",
    "plt.xlabel('Wert')\n",
    "plt.ylabel('Häufigkeit')\n",
    "plt.legend()\n",
    "plt.grid(True)\n",
    "plt.show()\n",
    "\n",
    "# Ausgabe der Parameter\n",
    "print(f\"μ (Mittelwert) = {mu:.4f}\")\n",
    "print(f\"σ (Standardabweichung) = {sigma:.4f}\")\n"
   ],
   "outputs": [
    {
     "data": {
      "text/plain": [
       "<Figure size 640x480 with 1 Axes>"
      ],
      "image/png": "[encoded data removed]"
     },
     "metadata": {},
     "output_type": "display_data"
    },
    {
     "name": "stdout",
     "output_type": "stream",
     "text": [
      "μ (Mittelwert) = 582.9184\n",
      "σ (Standardabweichung) = 1.9904\n"
     ]
    }
   ],
   "execution_count": 15
  },
  {
   "metadata": {},
   "cell_type": "code",
   "outputs": [],
   "execution_count": null,
   "source": "",
   "id": "5ad1b229494e526"
  },
  {
   "metadata": {},
   "cell_type": "markdown",
   "source": [
    "### Aufgabe 4e – Histogramm mit Dichtekurve (MR3)\n",
    "\n",
    "Für Messreihe MR3 liegt eine Normalverteilung vor. Die folgende Abbildung zeigt das Histogramm zusammen mit der angepassten Dichtekurve.\n",
    "\n",
    "**Verwendete Parameter der Normalverteilung:**\n",
    "- Mittelwert (μ): 582.9184\n",
    "- Standardabweichung (σ): 1.9904\n",
    "\n",
    "Die Dichtekurve wurde so skaliert, dass sie mit dem Histogramm vergleichbar ist:\n",
    "**Skalierungsfaktor** = Anzahl Messwerte × Klassenbreite.\n"
   ],
   "id": "951fc485b3848edc"
  },
  {
   "cell_type": "markdown",
   "id": "13ef0f19",
   "metadata": {},
   "source": [
    "## 6. Erläuterungen zur Dichtekurve\n",
    "Erläutern Sie zu dem bei 5. gezeichneten Diagramm:\n",
    "- Um welchen Faktor unterscheiden sich die im Histogramm dargestellten Anzahlen von den Funktionswerten der Normalverteilungsdichte?\n",
    "- Wie haben Sie diesen Faktor bei der Erstellung des Diagramms berücksichtigt? Mussten Sie die Skalierung der y-Achse(n) ändern? Wenn ja, wie? Wenn nein, warum nicht?"
   ]
  },
  {
   "metadata": {},
   "cell_type": "markdown",
   "source": [
    "### Aufgabe 4f – Erläuterung zur Dichtekurve und Skalierung\n",
    "\n",
    "Die Funktionswerte der Normalverteilungsdichte (z. B. durch `scipy.stats.norm.pdf()`) sind **Wahrscheinlichkeitsdichten** – das bedeutet:\n",
    "\n",
    "- Die Fläche unter der Kurve ergibt 1.\n",
    "- Die y-Achse zeigt **keine absoluten Häufigkeiten**, sondern Dichten (also \"Häufigkeit pro Intervalleinheit\").\n",
    "\n",
    "---\n",
    "\n",
    "#### 🔍 Unterschied zum Histogramm:\n",
    "\n",
    "Das Histogramm zeigt **absolute Häufigkeiten**, d. h. die Anzahl der Werte in jeder Klasse.\n",
    "Daher unterscheiden sich die y-Werte der Dichtekurve vom Histogramm um den Faktor:\n",
    "\n",
    "> **Faktor = Anzahl Werte × Klassenbreite**\n",
    "\n",
    "In meinem Fall (MR3):\n",
    "\n",
    "- Anzahl Werte = *n* = 100 (je nach Messreihe)\n",
    "- Klassenbreite = berechnet aus Histogrammgrenzen, z. B. \\( \\text{bins}[1] - \\text{bins}[0] \\)\n",
    "\n",
    "---\n",
    "\n",
    "#### 🛠️ Berücksichtigung beim Plot:\n",
    "\n",
    "Um die Dichtekurve an das Histogramm anzupassen, wurde sie wie folgt **skaliert**:\n",
    "\n",
    "> `norm.pdf(x, mu, sigma) * n * klassenbreite`\n",
    "\n",
    "Dadurch stimmen die Höhen der Kurve mit den Balken des Histogramms überein, ohne dass die y-Achse angepasst werden musste.\n",
    "\n",
    "---\n",
    "\n",
    "#### 📏 Fazit:\n",
    "\n",
    "- **Ja**, es musste ein Skalierungsfaktor berücksichtigt werden.\n",
    "- **Nein**, die y-Achse musste nicht manuell geändert werden – die Dichtekurve wurde direkt im y-Wert skaliert.\n"
   ],
   "id": "faea3dda05d47a7b"
  }
 ],
 "metadata": {
  "kernelspec": {
   "display_name": "Python 3 (ipykernel)",
   "language": "python",
   "name": "python3"
  },
  "language_info": {
   "codemirror_mode": {
    "name": "ipython",
    "version": 3
   },
   "file_extension": ".py",
   "mimetype": "text/x-python",
   "name": "python",
   "nbconvert_exporter": "python",
   "pygments_lexer": "ipython3",
   "version": "3.9.12"
  }
 },
 "nbformat": 4,
 "nbformat_minor": 5
}
