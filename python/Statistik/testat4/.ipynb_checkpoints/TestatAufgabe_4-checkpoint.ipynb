{
 "cells": [
  {
   "cell_type": "code",
   "id": "7bde7d34",
   "metadata": {
    "ExecuteTime": {
     "end_time": "2025-06-02T17:19:10.030153Z",
     "start_time": "2025-06-02T17:19:10.025242Z"
    }
   },
   "source": [
    "\n",
    "import os\n",
    "\n",
    "# Aktuelles Arbeitsverzeichnis anzeigen\n",
    "print(\"Aktuelles Verzeichnis:\", os.getcwd())\n",
    "\n",
    "import pandas as pd\n",
    "\n",
    "mr1 = pd.read_csv('sr_aufg_4_54_MR1.txt', sep=r'\\s+', decimal=',', header=None, names=['Wert'])\n",
    "mr2 = pd.read_csv('sr_aufg_4_54_MR2.txt', sep=r'\\s+', decimal=',', header=None, names=['Wert'])\n",
    "mr3 = pd.read_csv('sr_aufg_4_54_MR3.txt', sep=r'\\s+', decimal=',', header=None, names=['Wert'])\n"
   ],
   "outputs": [
    {
     "name": "stdout",
     "output_type": "stream",
     "text": [
      "Aktuelles Verzeichnis: C:\\Users\\adam8\\OneDrive\\programmieren\\coding\\python\\Statistik\\testat4\n"
     ]
    }
   ],
   "execution_count": 6
  },
  {
   "cell_type": "markdown",
   "id": "ef2bdc99",
   "metadata": {},
   "source": [
    "## 2. Kennzahlen bestimmen\n",
    "Berechnen Sie für jeden der drei Messreihen **Mittelwert**, **empirische Varianz**, **empirische Standardabweichung**, **Median** und **Spannweite**.\n",
    "\n",
    "***Beispiellösung:***<br>\n",
    "Bitte geben Sie die Kennzahlen in tabellarischer Form ab."
   ]
  },
  {
   "cell_type": "code",
   "id": "b000852b",
   "metadata": {
    "ExecuteTime": {
     "end_time": "2025-06-02T17:30:45.023354Z",
     "start_time": "2025-06-02T17:30:45.015718Z"
    }
   },
   "source": [
    "import pandas as pd\n",
    "\n",
    "# Funktion zur Berechnung der Kennzahlen\n",
    "def berechne_kennzahlen(df):\n",
    "    return {\n",
    "        'Mittelwert': df['Wert'].mean(),\n",
    "        'emp. Varianz': df['Wert'].var(ddof=0),\n",
    "        'emp. Standardabw.': df['Wert'].std(ddof=0),\n",
    "        'Median': df['Wert'].median(),\n",
    "        'Spannweite': df['Wert'].max() - df['Wert'].min()\n",
    "    }\n",
    "\n",
    "# Berechnung für jede Messreihe\n",
    "kennzahlen = pd.DataFrame({\n",
    "    'MR1': berechne_kennzahlen(mr1),\n",
    "    'MR2': berechne_kennzahlen(mr2),\n",
    "    'MR3': berechne_kennzahlen(mr3)\n",
    "})\n",
    "\n",
    "# Transponieren für bessere Darstellung\n",
    "kennzahlen = kennzahlen.T\n",
    "kennzahlen.index.name = 'Messreihe'\n",
    "print(\"Varianz MR1 (ddof=0):\", mr1['Wert'].var(ddof=0))\n",
    "print(\"Standardabw. MR1 (ddof=0):\", mr1['Wert'].std(ddof=0))\n",
    "\n",
    "# Anzeigen der Tabelle\n",
    "# Anzeigen der gerundeten Tabelle\n",
    "kennzahlen = kennzahlen.round(4)\n",
    "kennzahlen\n",
    "\n"
   ],
   "outputs": [
    {
     "name": "stdout",
     "output_type": "stream",
     "text": [
      "Varianz MR1 (ddof=0): 5.297026127490999\n",
      "Standardabw. MR1 (ddof=0): 2.3015269121804764\n"
     ]
    },
    {
     "data": {
      "text/plain": [
       "           Mittelwert  emp. Varianz  emp. Standardabw.    Median  Spannweite\n",
       "Messreihe                                                                   \n",
       "MR1            3.9667        5.2970             2.3015    3.7348      5.9842\n",
       "MR2           19.3989        0.1548             0.3934   19.2978      1.9857\n",
       "MR3          582.9184        3.9615             1.9904  582.9627      9.8892"
      ],
      "text/html": [
       "<div>\n",
       "<style scoped>\n",
       "    .dataframe tbody tr th:only-of-type {\n",
       "        vertical-align: middle;\n",
       "    }\n",
       "\n",
       "    .dataframe tbody tr th {\n",
       "        vertical-align: top;\n",
       "    }\n",
       "\n",
       "    .dataframe thead th {\n",
       "        text-align: right;\n",
       "    }\n",
       "</style>\n",
       "<table border=\"1\" class=\"dataframe\">\n",
       "  <thead>\n",
       "    <tr style=\"text-align: right;\">\n",
       "      <th></th>\n",
       "      <th>Mittelwert</th>\n",
       "      <th>emp. Varianz</th>\n",
       "      <th>emp. Standardabw.</th>\n",
       "      <th>Median</th>\n",
       "      <th>Spannweite</th>\n",
       "    </tr>\n",
       "    <tr>\n",
       "      <th>Messreihe</th>\n",
       "      <th></th>\n",
       "      <th></th>\n",
       "      <th></th>\n",
       "      <th></th>\n",
       "      <th></th>\n",
       "    </tr>\n",
       "  </thead>\n",
       "  <tbody>\n",
       "    <tr>\n",
       "      <th>MR1</th>\n",
       "      <td>3.9667</td>\n",
       "      <td>5.2970</td>\n",
       "      <td>2.3015</td>\n",
       "      <td>3.7348</td>\n",
       "      <td>5.9842</td>\n",
       "    </tr>\n",
       "    <tr>\n",
       "      <th>MR2</th>\n",
       "      <td>19.3989</td>\n",
       "      <td>0.1548</td>\n",
       "      <td>0.3934</td>\n",
       "      <td>19.2978</td>\n",
       "      <td>1.9857</td>\n",
       "    </tr>\n",
       "    <tr>\n",
       "      <th>MR3</th>\n",
       "      <td>582.9184</td>\n",
       "      <td>3.9615</td>\n",
       "      <td>1.9904</td>\n",
       "      <td>582.9627</td>\n",
       "      <td>9.8892</td>\n",
       "    </tr>\n",
       "  </tbody>\n",
       "</table>\n",
       "</div>"
      ]
     },
     "execution_count": 11,
     "metadata": {},
     "output_type": "execute_result"
    }
   ],
   "execution_count": 11
  },
  {
   "cell_type": "markdown",
   "id": "09766789",
   "metadata": {},
   "source": [
    "## 3. Histogramme erstellen\n",
    "Erstellen Sie für jeden der drei Messreihen ein Histogramm. <br>\n",
    "Erläutern Sie hierzu auch die Wahl der Klassen: \n",
    "- Wie viele Klassen haben Sie gewählt (und warum diese Anzahl von Klassen)? \n",
    "- Wie haben Sie die Klassengrenzen festgelegt und warum? Welche Funktion haben Sie beim Auszählen benutzt?\n",
    "\n",
    "***Beispiellösung:***<br>\n",
    "Darstellung aller 3 Histogramme mit zusätzlich der Beantwortung der Fragen."
   ]
  },
  {
   "cell_type": "code",
   "id": "531edc1bd2116bba",
   "metadata": {},
   "source": "",
   "outputs": [],
   "execution_count": null
  },
  {
   "metadata": {},
   "cell_type": "code",
   "outputs": [],
   "execution_count": null,
   "source": "",
   "id": "68d79ebc74a09b97"
  },
  {
   "metadata": {
    "ExecuteTime": {
     "end_time": "2025-06-02T17:32:12.316853Z",
     "start_time": "2025-06-02T17:32:11.431303Z"
    }
   },
   "cell_type": "code",
   "outputs": [
    {
     "data": {
      "text/plain": [
       "<Figure size 600x400 with 1 Axes>"
      ],
      "image/png": "[encoded data removed]"
     },
     "metadata": {},
     "output_type": "display_data"
    },
    {
     "name": "stdout",
     "output_type": "stream",
     "text": [
      "MR1 – Anzahl Klassen: 8\n",
      "Klassen-Grenzen: [1.01 1.76 2.51 3.25 4.   4.75 5.5  6.25 6.99]\n"
     ]
    },
    {
     "data": {
      "text/plain": [
       "<Figure size 600x400 with 1 Axes>"
      ],
      "image/png": "[encoded data removed]"
     },
     "metadata": {},
     "output_type": "display_data"
    },
    {
     "name": "stdout",
     "output_type": "stream",
     "text": [
      "MR2 – Anzahl Klassen: 8\n",
      "Klassen-Grenzen: [19.   19.25 19.5  19.75 20.   20.24 20.49 20.74 20.99]\n"
     ]
    },
    {
     "data": {
      "text/plain": [
       "<Figure size 600x400 with 1 Axes>"
      ],
      "image/png": "[encoded data removed]"
     },
     "metadata": {},
     "output_type": "display_data"
    },
    {
     "name": "stdout",
     "output_type": "stream",
     "text": [
      "MR3 – Anzahl Klassen: 8\n",
      "Klassen-Grenzen: [578.04 579.27 580.51 581.75 582.98 584.22 585.45 586.69 587.93]\n"
     ]
    }
   ],
   "execution_count": 12,
   "source": [
    "import matplotlib.pyplot as plt\n",
    "import numpy as np\n",
    "\n",
    "# Funktion zur automatisierten Histogrammerstellung\n",
    "def histogramm_erstellen(df, name, bins='sturges'):\n",
    "    werte = df['Wert']\n",
    "    plt.figure(figsize=(6, 4))\n",
    "    counts, bin_edges, patches = plt.hist(werte, bins=bins, edgecolor='black', alpha=0.7)\n",
    "    plt.title(f'Histogramm {name}')\n",
    "    plt.xlabel('Wert')\n",
    "    plt.ylabel('Häufigkeit')\n",
    "    plt.grid(True)\n",
    "    plt.show()\n",
    "    print(f\"{name} – Anzahl Klassen: {len(bin_edges)-1}\")\n",
    "    print(f\"Klassen-Grenzen: {bin_edges.round(2)}\")\n",
    "    return counts, bin_edges\n",
    "\n",
    "# Histogramme erzeugen\n",
    "counts_MR1, bins_MR1 = histogramm_erstellen(mr1, 'MR1')\n",
    "counts_MR2, bins_MR2 = histogramm_erstellen(mr2, 'MR2')\n",
    "counts_MR3, bins_MR3 = histogramm_erstellen(mr3, 'MR3')\n"
   ],
   "id": "e9195198"
  },
  {
   "cell_type": "markdown",
   "id": "f26ac387",
   "metadata": {},
   "source": [
    "## 4. Normalverteilte Daten erkennen\n",
    "Entscheiden Sie anhand des Histogramms für jede der drei Messreihen, ob eine Normalverteilung vorliegt. Begründen Sie Ihre Entscheidung."
   ]
  },
  {
   "cell_type": "code",
   "execution_count": null,
   "id": "994c62a3",
   "metadata": {},
   "outputs": [],
   "source": []
  },
  {
   "cell_type": "markdown",
   "id": "d1e39a87",
   "metadata": {},
   "source": [
    "## 5. Dichtekurve der Normalverteilung einzeichnen\n",
    "Sofern bei einer Messreihe eine Normalverteilung vorliegt, erstellen Sie ein weiteres Diagramm, das sowohl das Histogramm als auch die (an das Histogramm angepasste) Dichtekurve der passenden Normalverteilung zeigt.\n",
    "- Welche Normalverteilungsdichte haben Sie gezeichnet, d. h., welche Werte haben Sie für die Parameter $\\mu$ bzw. $\\sigma$ eingesetzt?\n",
    "\n",
    "***Beispiellösung*** (für den Fall, dass bei Messreihe MR1 eine Normalverteilung vorliegt):\n",
    "<div>\n",
    "<img src=\"https://drive.google.com/uc?id=1iVJQvjVW9mvBWJ_V3a4rUMJ-fdgbzqg4\" width=\"500\"/>\n",
    "</div>"
   ]
  },
  {
   "cell_type": "code",
   "execution_count": null,
   "id": "85e4189e",
   "metadata": {},
   "outputs": [],
   "source": []
  },
  {
   "cell_type": "markdown",
   "id": "13ef0f19",
   "metadata": {},
   "source": [
    "## 6. Erläuterungen zur Dichtekurve\n",
    "Erläutern Sie zu dem bei 5. gezeichneten Diagramm:\n",
    "- Um welchen Faktor unterscheiden sich die im Histogramm dargestellten Anzahlen von den Funktionswerten der Normalverteilungsdichte?\n",
    "- Wie haben Sie diesen Faktor bei der Erstellung des Diagramms berücksichtigt? Mussten Sie die Skalierung der y-Achse(n) ändern? Wenn ja, wie? Wenn nein, warum nicht?"
   ]
  },
  {
   "cell_type": "code",
   "execution_count": null,
   "id": "e26a908c",
   "metadata": {},
   "outputs": [],
   "source": []
  }
 ],
 "metadata": {
  "kernelspec": {
   "display_name": "Python 3 (ipykernel)",
   "language": "python",
   "name": "python3"
  },
  "language_info": {
   "codemirror_mode": {
    "name": "ipython",
    "version": 3
   },
   "file_extension": ".py",
   "mimetype": "text/x-python",
   "name": "python",
   "nbconvert_exporter": "python",
   "pygments_lexer": "ipython3",
   "version": "3.9.12"
  }
 },
 "nbformat": 4,
 "nbformat_minor": 5
}
