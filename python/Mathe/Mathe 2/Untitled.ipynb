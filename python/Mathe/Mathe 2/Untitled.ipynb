{
 "cells": [
  {
   "cell_type": "code",
   "id": "e7873a82-50fc-48f5-9bed-0bfbea0de917",
   "metadata": {},
   "source": "",
   "outputs": [],
   "execution_count": null
  },
  {
   "cell_type": "code",
   "id": "2dae6e1d-0dd2-4531-9762-589229534d6c",
   "metadata": {
    "ExecuteTime": {
     "end_time": "2025-03-20T08:03:11.487821Z",
     "start_time": "2025-03-20T08:03:11.476593Z"
    }
   },
   "source": "1-1\n",
   "outputs": [
    {
     "data": {
      "text/plain": [
       "0"
      ]
     },
     "execution_count": 4,
     "metadata": {},
     "output_type": "execute_result"
    }
   ],
   "execution_count": 4
  },
  {
   "metadata": {},
   "cell_type": "code",
   "outputs": [],
   "execution_count": null,
   "source": "",
   "id": "e45f3f0c3da04c05"
  }
 ],
 "metadata": {
  "kernelspec": {
   "display_name": "Python 3 (ipykernel)",
   "language": "python",
   "name": "python3"
  },
  "language_info": {
   "codemirror_mode": {
    "name": "ipython",
    "version": 3
   },
   "file_extension": ".py",
   "mimetype": "text/x-python",
   "name": "python",
   "nbconvert_exporter": "python",
   "pygments_lexer": "ipython3",
   "version": "3.13.2"
  }
 },
 "nbformat": 4,
 "nbformat_minor": 5
}
