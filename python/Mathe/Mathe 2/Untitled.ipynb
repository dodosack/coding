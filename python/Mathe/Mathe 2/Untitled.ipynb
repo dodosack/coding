{
 "cells": [
  {
   "cell_type": "code",
   "id": "e7873a82-50fc-48f5-9bed-0bfbea0de917",
   "metadata": {
    "ExecuteTime": {
     "end_time": "2025-03-15T03:14:37.702125Z",
     "start_time": "2025-03-15T03:14:29.268233Z"
    }
   },
   "source": [
    "# Eingabe vom Benutzer\n",
    "benutzer_eingabe = input(\"Bitte geben Sie etwas ein: \")\n",
    "\n",
    "# Ausgabe der Eingabe\n",
    "print(\"Sie haben eingegeben:\",   benutzer_eingabe)"
   ],
   "outputs": [
    {
     "name": "stdout",
     "output_type": "stream",
     "text": [
      "Sie haben eingegeben: hi\n"
     ]
    }
   ],
   "execution_count": 2
  },
  {
   "cell_type": "code",
   "execution_count": null,
   "id": "2dae6e1d-0dd2-4531-9762-589229534d6c",
   "metadata": {},
   "outputs": [],
   "source": []
  }
 ],
 "metadata": {
  "kernelspec": {
   "display_name": "Python 3 (ipykernel)",
   "language": "python",
   "name": "python3"
  },
  "language_info": {
   "codemirror_mode": {
    "name": "ipython",
    "version": 3
   },
   "file_extension": ".py",
   "mimetype": "text/x-python",
   "name": "python",
   "nbconvert_exporter": "python",
   "pygments_lexer": "ipython3",
   "version": "3.13.2"
  }
 },
 "nbformat": 4,
 "nbformat_minor": 5
}
